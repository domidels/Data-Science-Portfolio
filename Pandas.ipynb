{
 "cells": [
  {
   "cell_type": "markdown",
   "metadata": {},
   "source": [
    "# Pandas \n",
    "\n",
    "\n",
    "Pandas is an open source library. It provides a high performance data structure to represent tabular data (data represented as rows and columns) called a dataframe and data analysis tools.\n",
    "\n",
    "As NumPy 2D array, Pandas dataframe is a 2-dimensional data structure that allows us:\n",
    "* To load in data from different files: `.txt`, `.csv`, `.xml`, `.html`, `.xls`, etc.\n",
    "* To prepare, explore, perform operations, visualise, and analyse data.\n",
    "\n",
    "Advantages of Pandas dataframe over Numpy 2D array:\n",
    "* It can store mixed data types\n",
    "* we can refer to the elements contained in a dataframe by using labels for rows and columns. Dataframes preserve the metadata from the file around the data (column titles stands for labels).\n",
    "* It can easily handle missing values: `NaN` stands for missing values.\n",
    " \n"
   ]
  },
  {
   "cell_type": "markdown",
   "metadata": {
    "collapsed": true
   },
   "source": [
    "To use the Pandas library, we need to import it.\n",
    "We can then, load a file in a dataframe: the dataset corresponds to SR27 (Excel format exported as `csv`) https://www.ars.usda.gov/northeast-area/beltsville-md/beltsville-human-nutrition-research-center/nutrient-data-laboratory/docs/usda-national-nutrient-database-for-standard-reference/"
   ]
  },
  {
   "cell_type": "code",
   "execution_count": 2,
   "metadata": {},
   "outputs": [
    {
     "name": "stdout",
     "output_type": "stream",
     "text": [
      "   NDB_No                 Shrt_Desc  Water_(g)  Energ_Kcal  Protein_(g)  \\\n",
      "0    1001          BUTTER,WITH SALT      15.87         717         0.85   \n",
      "1    1002  BUTTER,WHIPPED,WITH SALT      15.87         717         0.85   \n",
      "2    1003      BUTTER OIL,ANHYDROUS       0.24         876         0.28   \n",
      "3    1004               CHEESE,BLUE      42.41         353        21.40   \n",
      "4    1005              CHEESE,BRICK      41.11         371        23.24   \n",
      "\n",
      "   Lipid_Tot_(g)  Ash_(g)  Carbohydrt_(g)  Fiber_TD_(g)  Sugar_Tot_(g)  \\\n",
      "0          81.11     2.11            0.06           0.0           0.06   \n",
      "1          81.11     2.11            0.06           0.0           0.06   \n",
      "2          99.48     0.00            0.00           0.0           0.00   \n",
      "3          28.74     5.11            2.34           0.0           0.50   \n",
      "4          29.68     3.18            2.79           0.0           0.51   \n",
      "\n",
      "      ...      Vit_K_(µg)  FA_Sat_(g)  FA_Mono_(g)  FA_Poly_(g)  \\\n",
      "0     ...             7.0      51.368       21.021        3.043   \n",
      "1     ...             7.0      50.489       23.426        3.012   \n",
      "2     ...             8.6      61.924       28.732        3.694   \n",
      "3     ...             2.4      18.669        7.778        0.800   \n",
      "4     ...             2.5      18.764        8.598        0.784   \n",
      "\n",
      "   Cholestrl_(mg)  GmWt_1                  GmWt_Desc1  GmWt_2  \\\n",
      "0           215.0     5.0  1 pat,  (1\" sq, 1/3\" high)    14.2   \n",
      "1           219.0     3.0  1 pat,  (1\" sq, 1/3\" high)     9.4   \n",
      "2           256.0    12.0                      1 tbsp   205.0   \n",
      "3            75.0    28.0                        1 oz    17.0   \n",
      "4            94.0   132.0                1 cup, diced   113.0   \n",
      "\n",
      "        GmWt_Desc2  Refuse_Pct  \n",
      "0           1 tbsp         0.0  \n",
      "1           1 tbsp         0.0  \n",
      "2            1 cup         0.0  \n",
      "3     1 cubic inch         0.0  \n",
      "4  1 cup, shredded         0.0  \n",
      "\n",
      "[5 rows x 53 columns]\n"
     ]
    }
   ],
   "source": [
    "import pandas\n",
    "\n",
    "food_info = pandas.read_csv('data/food_info.csv')\n",
    "first_rows = food_info.head()\n",
    "print(first_rows)"
   ]
  },
  {
   "cell_type": "code",
   "execution_count": 3,
   "metadata": {},
   "outputs": [
    {
     "name": "stdout",
     "output_type": "stream",
     "text": [
      "(8618, 53)\n"
     ]
    }
   ],
   "source": [
    "dimensions = food_info.shape\n",
    "print(dimensions)"
   ]
  },
  {
   "cell_type": "code",
   "execution_count": 4,
   "metadata": {
    "collapsed": true
   },
   "outputs": [],
   "source": [
    "# The number of rows, 8618.\n",
    "num_rows = dimensions[0]\n",
    "# The number of columns, 53.\n",
    "num_cols = dimensions[1]"
   ]
  },
  {
   "cell_type": "markdown",
   "metadata": {},
   "source": [
    "To extract the first three rows using index slicing: "
   ]
  },
  {
   "cell_type": "code",
   "execution_count": 5,
   "metadata": {},
   "outputs": [
    {
     "name": "stdout",
     "output_type": "stream",
     "text": [
      "   NDB_No                 Shrt_Desc  Water_(g)  Energ_Kcal  Protein_(g)  \\\n",
      "0    1001          BUTTER,WITH SALT      15.87         717         0.85   \n",
      "1    1002  BUTTER,WHIPPED,WITH SALT      15.87         717         0.85   \n",
      "2    1003      BUTTER OIL,ANHYDROUS       0.24         876         0.28   \n",
      "\n",
      "   Lipid_Tot_(g)  Ash_(g)  Carbohydrt_(g)  Fiber_TD_(g)  Sugar_Tot_(g)  \\\n",
      "0          81.11     2.11            0.06           0.0           0.06   \n",
      "1          81.11     2.11            0.06           0.0           0.06   \n",
      "2          99.48     0.00            0.00           0.0           0.00   \n",
      "\n",
      "      ...      Vit_K_(µg)  FA_Sat_(g)  FA_Mono_(g)  FA_Poly_(g)  \\\n",
      "0     ...             7.0      51.368       21.021        3.043   \n",
      "1     ...             7.0      50.489       23.426        3.012   \n",
      "2     ...             8.6      61.924       28.732        3.694   \n",
      "\n",
      "   Cholestrl_(mg)  GmWt_1                  GmWt_Desc1  GmWt_2  GmWt_Desc2  \\\n",
      "0           215.0     5.0  1 pat,  (1\" sq, 1/3\" high)    14.2      1 tbsp   \n",
      "1           219.0     3.0  1 pat,  (1\" sq, 1/3\" high)     9.4      1 tbsp   \n",
      "2           256.0    12.0                      1 tbsp   205.0       1 cup   \n",
      "\n",
      "   Refuse_Pct  \n",
      "0         0.0  \n",
      "1         0.0  \n",
      "2         0.0  \n",
      "\n",
      "[3 rows x 53 columns]\n"
     ]
    }
   ],
   "source": [
    "print(food_info.loc[0:2])"
   ]
  },
  {
   "cell_type": "markdown",
   "metadata": {},
   "source": [
    "When accessing an individual row, pandas returns a Series object containing the column names and the corresponding values for this row. "
   ]
  },
  {
   "cell_type": "code",
   "execution_count": 6,
   "metadata": {},
   "outputs": [
    {
     "name": "stdout",
     "output_type": "stream",
     "text": [
      "NDB_No                                     1001\n",
      "Shrt_Desc                      BUTTER,WITH SALT\n",
      "Water_(g)                                 15.87\n",
      "Energ_Kcal                                  717\n",
      "Protein_(g)                                0.85\n",
      "Lipid_Tot_(g)                             81.11\n",
      "Ash_(g)                                    2.11\n",
      "Carbohydrt_(g)                             0.06\n",
      "Fiber_TD_(g)                                  0\n",
      "Sugar_Tot_(g)                              0.06\n",
      "Calcium_(mg)                                 24\n",
      "Iron_(mg)                                  0.02\n",
      "Magnesium_(mg)                                2\n",
      "Phosphorus_(mg)                              24\n",
      "Potassium_(mg)                               24\n",
      "Sodium_(mg)                                 643\n",
      "Zinc_(mg)                                  0.09\n",
      "Copper_mg)                                    0\n",
      "Manganese_(mg)                                0\n",
      "Selenium_(µg)                                 1\n",
      "Vit_C_(mg)                                    0\n",
      "Thiamin_(mg)                              0.005\n",
      "Riboflavin_(mg)                           0.034\n",
      "Niacin_(mg)                               0.042\n",
      "Panto_Acid_mg)                             0.11\n",
      "Vit_B6_(mg)                               0.003\n",
      "Folate_Tot_(µg)                               3\n",
      "Folic_Acid_(µg)                               0\n",
      "Food_Folate_(µg)                              3\n",
      "Folate_DFE_(µg)                               3\n",
      "Choline_Tot_ (mg)                          18.8\n",
      "Vit_B12_(µg)                               0.17\n",
      "Vit_A_IU                                   2499\n",
      "Vit_A_RAE                                   684\n",
      "Retinol_(µg)                                671\n",
      "Alpha_Carot_(µg)                              0\n",
      "Beta_Carot_(µg)                             158\n",
      "Beta_Crypt_(µg)                               0\n",
      "Lycopene_(µg)                                 0\n",
      "Lut+Zea_ (µg)                                 0\n",
      "Vit_E_(mg)                                 2.32\n",
      "Vit_D_µg                                    1.5\n",
      "Vit_D_IU                                     60\n",
      "Vit_K_(µg)                                    7\n",
      "FA_Sat_(g)                               51.368\n",
      "FA_Mono_(g)                              21.021\n",
      "FA_Poly_(g)                               3.043\n",
      "Cholestrl_(mg)                              215\n",
      "GmWt_1                                        5\n",
      "GmWt_Desc1           1 pat,  (1\" sq, 1/3\" high)\n",
      "GmWt_2                                     14.2\n",
      "GmWt_Desc2                               1 tbsp\n",
      "Refuse_Pct                                    0\n",
      "Name: 0, dtype: object\n"
     ]
    }
   ],
   "source": [
    "print(food_info.loc[0])"
   ]
  },
  {
   "cell_type": "markdown",
   "metadata": {},
   "source": [
    "Extracting specific rows at indexes 1, 3, and 10:"
   ]
  },
  {
   "cell_type": "code",
   "execution_count": 7,
   "metadata": {},
   "outputs": [
    {
     "data": {
      "text/html": [
       "<div>\n",
       "<style>\n",
       "    .dataframe thead tr:only-child th {\n",
       "        text-align: right;\n",
       "    }\n",
       "\n",
       "    .dataframe thead th {\n",
       "        text-align: left;\n",
       "    }\n",
       "\n",
       "    .dataframe tbody tr th {\n",
       "        vertical-align: top;\n",
       "    }\n",
       "</style>\n",
       "<table border=\"1\" class=\"dataframe\">\n",
       "  <thead>\n",
       "    <tr style=\"text-align: right;\">\n",
       "      <th></th>\n",
       "      <th>NDB_No</th>\n",
       "      <th>Shrt_Desc</th>\n",
       "      <th>Water_(g)</th>\n",
       "      <th>Energ_Kcal</th>\n",
       "      <th>Protein_(g)</th>\n",
       "      <th>Lipid_Tot_(g)</th>\n",
       "      <th>Ash_(g)</th>\n",
       "      <th>Carbohydrt_(g)</th>\n",
       "      <th>Fiber_TD_(g)</th>\n",
       "      <th>Sugar_Tot_(g)</th>\n",
       "      <th>...</th>\n",
       "      <th>Vit_K_(µg)</th>\n",
       "      <th>FA_Sat_(g)</th>\n",
       "      <th>FA_Mono_(g)</th>\n",
       "      <th>FA_Poly_(g)</th>\n",
       "      <th>Cholestrl_(mg)</th>\n",
       "      <th>GmWt_1</th>\n",
       "      <th>GmWt_Desc1</th>\n",
       "      <th>GmWt_2</th>\n",
       "      <th>GmWt_Desc2</th>\n",
       "      <th>Refuse_Pct</th>\n",
       "    </tr>\n",
       "  </thead>\n",
       "  <tbody>\n",
       "    <tr>\n",
       "      <th>1</th>\n",
       "      <td>1002</td>\n",
       "      <td>BUTTER,WHIPPED,WITH SALT</td>\n",
       "      <td>15.87</td>\n",
       "      <td>717</td>\n",
       "      <td>0.85</td>\n",
       "      <td>81.11</td>\n",
       "      <td>2.11</td>\n",
       "      <td>0.06</td>\n",
       "      <td>0.0</td>\n",
       "      <td>0.06</td>\n",
       "      <td>...</td>\n",
       "      <td>7.0</td>\n",
       "      <td>50.489</td>\n",
       "      <td>23.426</td>\n",
       "      <td>3.012</td>\n",
       "      <td>219.0</td>\n",
       "      <td>3.0</td>\n",
       "      <td>1 pat,  (1\" sq, 1/3\" high)</td>\n",
       "      <td>9.4</td>\n",
       "      <td>1 tbsp</td>\n",
       "      <td>0.0</td>\n",
       "    </tr>\n",
       "    <tr>\n",
       "      <th>3</th>\n",
       "      <td>1004</td>\n",
       "      <td>CHEESE,BLUE</td>\n",
       "      <td>42.41</td>\n",
       "      <td>353</td>\n",
       "      <td>21.40</td>\n",
       "      <td>28.74</td>\n",
       "      <td>5.11</td>\n",
       "      <td>2.34</td>\n",
       "      <td>0.0</td>\n",
       "      <td>0.50</td>\n",
       "      <td>...</td>\n",
       "      <td>2.4</td>\n",
       "      <td>18.669</td>\n",
       "      <td>7.778</td>\n",
       "      <td>0.800</td>\n",
       "      <td>75.0</td>\n",
       "      <td>28.0</td>\n",
       "      <td>1 oz</td>\n",
       "      <td>17.0</td>\n",
       "      <td>1 cubic inch</td>\n",
       "      <td>0.0</td>\n",
       "    </tr>\n",
       "    <tr>\n",
       "      <th>10</th>\n",
       "      <td>1011</td>\n",
       "      <td>CHEESE,COLBY</td>\n",
       "      <td>38.20</td>\n",
       "      <td>394</td>\n",
       "      <td>23.76</td>\n",
       "      <td>32.11</td>\n",
       "      <td>3.36</td>\n",
       "      <td>2.57</td>\n",
       "      <td>0.0</td>\n",
       "      <td>0.52</td>\n",
       "      <td>...</td>\n",
       "      <td>2.7</td>\n",
       "      <td>20.218</td>\n",
       "      <td>9.280</td>\n",
       "      <td>0.953</td>\n",
       "      <td>95.0</td>\n",
       "      <td>132.0</td>\n",
       "      <td>1 cup, diced</td>\n",
       "      <td>113.0</td>\n",
       "      <td>1 cup, shredded</td>\n",
       "      <td>0.0</td>\n",
       "    </tr>\n",
       "  </tbody>\n",
       "</table>\n",
       "<p>3 rows × 53 columns</p>\n",
       "</div>"
      ],
      "text/plain": [
       "    NDB_No                 Shrt_Desc  Water_(g)  Energ_Kcal  Protein_(g)  \\\n",
       "1     1002  BUTTER,WHIPPED,WITH SALT      15.87         717         0.85   \n",
       "3     1004               CHEESE,BLUE      42.41         353        21.40   \n",
       "10    1011              CHEESE,COLBY      38.20         394        23.76   \n",
       "\n",
       "    Lipid_Tot_(g)  Ash_(g)  Carbohydrt_(g)  Fiber_TD_(g)  Sugar_Tot_(g)  \\\n",
       "1           81.11     2.11            0.06           0.0           0.06   \n",
       "3           28.74     5.11            2.34           0.0           0.50   \n",
       "10          32.11     3.36            2.57           0.0           0.52   \n",
       "\n",
       "       ...      Vit_K_(µg)  FA_Sat_(g)  FA_Mono_(g)  FA_Poly_(g)  \\\n",
       "1      ...             7.0      50.489       23.426        3.012   \n",
       "3      ...             2.4      18.669        7.778        0.800   \n",
       "10     ...             2.7      20.218        9.280        0.953   \n",
       "\n",
       "    Cholestrl_(mg)  GmWt_1                  GmWt_Desc1  GmWt_2  \\\n",
       "1            219.0     3.0  1 pat,  (1\" sq, 1/3\" high)     9.4   \n",
       "3             75.0    28.0                        1 oz    17.0   \n",
       "10            95.0   132.0                1 cup, diced   113.0   \n",
       "\n",
       "         GmWt_Desc2  Refuse_Pct  \n",
       "1            1 tbsp         0.0  \n",
       "3      1 cubic inch         0.0  \n",
       "10  1 cup, shredded         0.0  \n",
       "\n",
       "[3 rows x 53 columns]"
      ]
     },
     "execution_count": 7,
     "metadata": {},
     "output_type": "execute_result"
    }
   ],
   "source": [
    "food_info.loc[[1, 3, 10]]"
   ]
  },
  {
   "cell_type": "markdown",
   "metadata": {},
   "source": [
    "To select the last 3 rows of food_info:"
   ]
  },
  {
   "cell_type": "code",
   "execution_count": 8,
   "metadata": {},
   "outputs": [
    {
     "data": {
      "text/html": [
       "<div>\n",
       "<style>\n",
       "    .dataframe thead tr:only-child th {\n",
       "        text-align: right;\n",
       "    }\n",
       "\n",
       "    .dataframe thead th {\n",
       "        text-align: left;\n",
       "    }\n",
       "\n",
       "    .dataframe tbody tr th {\n",
       "        vertical-align: top;\n",
       "    }\n",
       "</style>\n",
       "<table border=\"1\" class=\"dataframe\">\n",
       "  <thead>\n",
       "    <tr style=\"text-align: right;\">\n",
       "      <th></th>\n",
       "      <th>NDB_No</th>\n",
       "      <th>Shrt_Desc</th>\n",
       "      <th>Water_(g)</th>\n",
       "      <th>Energ_Kcal</th>\n",
       "      <th>Protein_(g)</th>\n",
       "      <th>Lipid_Tot_(g)</th>\n",
       "      <th>Ash_(g)</th>\n",
       "      <th>Carbohydrt_(g)</th>\n",
       "      <th>Fiber_TD_(g)</th>\n",
       "      <th>Sugar_Tot_(g)</th>\n",
       "      <th>...</th>\n",
       "      <th>Vit_K_(µg)</th>\n",
       "      <th>FA_Sat_(g)</th>\n",
       "      <th>FA_Mono_(g)</th>\n",
       "      <th>FA_Poly_(g)</th>\n",
       "      <th>Cholestrl_(mg)</th>\n",
       "      <th>GmWt_1</th>\n",
       "      <th>GmWt_Desc1</th>\n",
       "      <th>GmWt_2</th>\n",
       "      <th>GmWt_Desc2</th>\n",
       "      <th>Refuse_Pct</th>\n",
       "    </tr>\n",
       "  </thead>\n",
       "  <tbody>\n",
       "    <tr>\n",
       "      <th>8615</th>\n",
       "      <td>90480</td>\n",
       "      <td>SYRUP,CANE</td>\n",
       "      <td>26.0</td>\n",
       "      <td>269</td>\n",
       "      <td>0.0</td>\n",
       "      <td>0.0</td>\n",
       "      <td>0.86</td>\n",
       "      <td>73.14</td>\n",
       "      <td>0.0</td>\n",
       "      <td>73.2</td>\n",
       "      <td>...</td>\n",
       "      <td>0.0</td>\n",
       "      <td>0.000</td>\n",
       "      <td>0.000</td>\n",
       "      <td>0.000</td>\n",
       "      <td>0.0</td>\n",
       "      <td>21.0</td>\n",
       "      <td>1 serving</td>\n",
       "      <td>NaN</td>\n",
       "      <td>NaN</td>\n",
       "      <td>0.0</td>\n",
       "    </tr>\n",
       "    <tr>\n",
       "      <th>8616</th>\n",
       "      <td>90560</td>\n",
       "      <td>SNAIL,RAW</td>\n",
       "      <td>79.2</td>\n",
       "      <td>90</td>\n",
       "      <td>16.1</td>\n",
       "      <td>1.4</td>\n",
       "      <td>1.30</td>\n",
       "      <td>2.00</td>\n",
       "      <td>0.0</td>\n",
       "      <td>0.0</td>\n",
       "      <td>...</td>\n",
       "      <td>0.1</td>\n",
       "      <td>0.361</td>\n",
       "      <td>0.259</td>\n",
       "      <td>0.252</td>\n",
       "      <td>50.0</td>\n",
       "      <td>85.0</td>\n",
       "      <td>3 oz</td>\n",
       "      <td>NaN</td>\n",
       "      <td>NaN</td>\n",
       "      <td>0.0</td>\n",
       "    </tr>\n",
       "    <tr>\n",
       "      <th>8617</th>\n",
       "      <td>93600</td>\n",
       "      <td>TURTLE,GREEN,RAW</td>\n",
       "      <td>78.5</td>\n",
       "      <td>89</td>\n",
       "      <td>19.8</td>\n",
       "      <td>0.5</td>\n",
       "      <td>1.20</td>\n",
       "      <td>0.00</td>\n",
       "      <td>0.0</td>\n",
       "      <td>0.0</td>\n",
       "      <td>...</td>\n",
       "      <td>0.1</td>\n",
       "      <td>0.127</td>\n",
       "      <td>0.088</td>\n",
       "      <td>0.170</td>\n",
       "      <td>50.0</td>\n",
       "      <td>85.0</td>\n",
       "      <td>3 oz</td>\n",
       "      <td>NaN</td>\n",
       "      <td>NaN</td>\n",
       "      <td>0.0</td>\n",
       "    </tr>\n",
       "  </tbody>\n",
       "</table>\n",
       "<p>3 rows × 53 columns</p>\n",
       "</div>"
      ],
      "text/plain": [
       "      NDB_No         Shrt_Desc  Water_(g)  Energ_Kcal  Protein_(g)  \\\n",
       "8615   90480        SYRUP,CANE       26.0         269          0.0   \n",
       "8616   90560         SNAIL,RAW       79.2          90         16.1   \n",
       "8617   93600  TURTLE,GREEN,RAW       78.5          89         19.8   \n",
       "\n",
       "      Lipid_Tot_(g)  Ash_(g)  Carbohydrt_(g)  Fiber_TD_(g)  Sugar_Tot_(g)  \\\n",
       "8615            0.0     0.86           73.14           0.0           73.2   \n",
       "8616            1.4     1.30            2.00           0.0            0.0   \n",
       "8617            0.5     1.20            0.00           0.0            0.0   \n",
       "\n",
       "         ...      Vit_K_(µg)  FA_Sat_(g)  FA_Mono_(g)  FA_Poly_(g)  \\\n",
       "8615     ...             0.0       0.000        0.000        0.000   \n",
       "8616     ...             0.1       0.361        0.259        0.252   \n",
       "8617     ...             0.1       0.127        0.088        0.170   \n",
       "\n",
       "      Cholestrl_(mg)  GmWt_1  GmWt_Desc1  GmWt_2  GmWt_Desc2  Refuse_Pct  \n",
       "8615             0.0    21.0   1 serving     NaN         NaN         0.0  \n",
       "8616            50.0    85.0        3 oz     NaN         NaN         0.0  \n",
       "8617            50.0    85.0        3 oz     NaN         NaN         0.0  \n",
       "\n",
       "[3 rows x 53 columns]"
      ]
     },
     "execution_count": 8,
     "metadata": {},
     "output_type": "execute_result"
    }
   ],
   "source": [
    "food_info.loc[num_rows-3:num_rows]"
   ]
  },
  {
   "cell_type": "markdown",
   "metadata": {},
   "source": [
    "To access a column using its label creates a Series object:"
   ]
  },
  {
   "cell_type": "code",
   "execution_count": 9,
   "metadata": {},
   "outputs": [
    {
     "data": {
      "text/plain": [
       "0                                        BUTTER,WITH SALT\n",
       "1                                BUTTER,WHIPPED,WITH SALT\n",
       "2                                    BUTTER OIL,ANHYDROUS\n",
       "3                                             CHEESE,BLUE\n",
       "4                                            CHEESE,BRICK\n",
       "5                                             CHEESE,BRIE\n",
       "6                                        CHEESE,CAMEMBERT\n",
       "7                                          CHEESE,CARAWAY\n",
       "8                                          CHEESE,CHEDDAR\n",
       "9                                         CHEESE,CHESHIRE\n",
       "10                                           CHEESE,COLBY\n",
       "11                    CHEESE,COTTAGE,CRMD,LRG OR SML CURD\n",
       "12                            CHEESE,COTTAGE,CRMD,W/FRUIT\n",
       "13       CHEESE,COTTAGE,NONFAT,UNCRMD,DRY,LRG OR SML CURD\n",
       "14                       CHEESE,COTTAGE,LOWFAT,2% MILKFAT\n",
       "15                       CHEESE,COTTAGE,LOWFAT,1% MILKFAT\n",
       "16                                           CHEESE,CREAM\n",
       "17                                            CHEESE,EDAM\n",
       "18                                            CHEESE,FETA\n",
       "19                                         CHEESE,FONTINA\n",
       "20                                         CHEESE,GJETOST\n",
       "21                                           CHEESE,GOUDA\n",
       "22                                         CHEESE,GRUYERE\n",
       "23                                       CHEESE,LIMBURGER\n",
       "24                                        CHEESE,MONTEREY\n",
       "25                             CHEESE,MOZZARELLA,WHL MILK\n",
       "26                    CHEESE,MOZZARELLA,WHL MILK,LO MOIST\n",
       "27                       CHEESE,MOZZARELLA,PART SKIM MILK\n",
       "28                   CHEESE,MOZZARELLA,LO MOIST,PART-SKIM\n",
       "29                                        CHEESE,MUENSTER\n",
       "                              ...                        \n",
       "8588           BABYFOOD,CRL,RICE W/ PEARS & APPL,DRY,INST\n",
       "8589                       BABYFOOD,BANANA NO TAPIOCA,STR\n",
       "8590                       BABYFOOD,BANANA APPL DSSRT,STR\n",
       "8591         SNACKS,TORTILLA CHIPS,LT (BAKED W/ LESS OIL)\n",
       "8592    CEREALS RTE,POST,HONEY BUNCHES OF OATS,HONEY RSTD\n",
       "8593                           POPCORN,MICROWAVE,LOFAT&NA\n",
       "8594                         BABYFOOD,FRUIT SUPREME DSSRT\n",
       "8595                                 CHEESE,SWISS,LOW FAT\n",
       "8596               BREAKFAST BAR,CORN FLAKE CRUST W/FRUIT\n",
       "8597                              CHEESE,MOZZARELLA,LO NA\n",
       "8598                             MAYONNAISE DRSNG,NO CHOL\n",
       "8599                            OIL,CORN,PEANUT,AND OLIVE\n",
       "8600                     SWEETENERS,TABLETOP,FRUCTOSE,LIQ\n",
       "8601                                CHEESE FOOD,IMITATION\n",
       "8602                                  CELERY FLAKES,DRIED\n",
       "8603             PUDDINGS,CHOC FLAVOR,LO CAL,INST,DRY MIX\n",
       "8604                      BABYFOOD,GRAPE JUC,NO SUGAR,CND\n",
       "8605                     JELLIES,RED SUGAR,HOME PRESERVED\n",
       "8606                           PIE FILLINGS,BLUEBERRY,CND\n",
       "8607                 COCKTAIL MIX,NON-ALCOHOLIC,CONCD,FRZ\n",
       "8608              PUDDINGS,CHOC FLAVOR,LO CAL,REG,DRY MIX\n",
       "8609    PUDDINGS,ALL FLAVORS XCPT CHOC,LO CAL,REG,DRY MIX\n",
       "8610    PUDDINGS,ALL FLAVORS XCPT CHOC,LO CAL,INST,DRY...\n",
       "8611                                   VITAL WHEAT GLUTEN\n",
       "8612                                        FROG LEGS,RAW\n",
       "8613                                      MACKEREL,SALTED\n",
       "8614                           SCALLOP,(BAY&SEA),CKD,STMD\n",
       "8615                                           SYRUP,CANE\n",
       "8616                                            SNAIL,RAW\n",
       "8617                                     TURTLE,GREEN,RAW\n",
       "Name: Shrt_Desc, Length: 8618, dtype: object"
      ]
     },
     "execution_count": 9,
     "metadata": {},
     "output_type": "execute_result"
    }
   ],
   "source": [
    "food_info['Shrt_Desc']"
   ]
  },
  {
   "cell_type": "code",
   "execution_count": 10,
   "metadata": {},
   "outputs": [
    {
     "data": {
      "text/plain": [
       "pandas.core.series.Series"
      ]
     },
     "execution_count": 10,
     "metadata": {},
     "output_type": "execute_result"
    }
   ],
   "source": [
    "saturated_fat = food_info[\"FA_Sat_(g)\"]\n",
    "cholesterol = food_info[\"Cholestrl_(mg)\"]\n",
    "type(cholesterol)"
   ]
  },
  {
   "cell_type": "markdown",
   "metadata": {},
   "source": [
    "How to select some columns and assign them to a new dataframe:"
   ]
  },
  {
   "cell_type": "code",
   "execution_count": 11,
   "metadata": {},
   "outputs": [
    {
     "data": {
      "text/html": [
       "<div>\n",
       "<style>\n",
       "    .dataframe thead tr:only-child th {\n",
       "        text-align: right;\n",
       "    }\n",
       "\n",
       "    .dataframe thead th {\n",
       "        text-align: left;\n",
       "    }\n",
       "\n",
       "    .dataframe tbody tr th {\n",
       "        vertical-align: top;\n",
       "    }\n",
       "</style>\n",
       "<table border=\"1\" class=\"dataframe\">\n",
       "  <thead>\n",
       "    <tr style=\"text-align: right;\">\n",
       "      <th></th>\n",
       "      <th>Selenium_(µg)</th>\n",
       "      <th>Thiamin_(mg)</th>\n",
       "    </tr>\n",
       "  </thead>\n",
       "  <tbody>\n",
       "    <tr>\n",
       "      <th>0</th>\n",
       "      <td>1.0</td>\n",
       "      <td>0.005</td>\n",
       "    </tr>\n",
       "    <tr>\n",
       "      <th>1</th>\n",
       "      <td>1.0</td>\n",
       "      <td>0.005</td>\n",
       "    </tr>\n",
       "    <tr>\n",
       "      <th>2</th>\n",
       "      <td>0.0</td>\n",
       "      <td>0.001</td>\n",
       "    </tr>\n",
       "  </tbody>\n",
       "</table>\n",
       "</div>"
      ],
      "text/plain": [
       "   Selenium_(µg)  Thiamin_(mg)\n",
       "0            1.0         0.005\n",
       "1            1.0         0.005\n",
       "2            0.0         0.001"
      ]
     },
     "execution_count": 11,
     "metadata": {},
     "output_type": "execute_result"
    }
   ],
   "source": [
    "selenium_thiamin = food_info[['Selenium_(µg)', 'Thiamin_(mg)']]\n",
    "selenium_thiamin.head(3)"
   ]
  },
  {
   "cell_type": "raw",
   "metadata": {},
   "source": [
    "To return the column names converting the result into a list:"
   ]
  },
  {
   "cell_type": "code",
   "execution_count": 12,
   "metadata": {},
   "outputs": [
    {
     "data": {
      "text/plain": [
       "['NDB_No',\n",
       " 'Shrt_Desc',\n",
       " 'Water_(g)',\n",
       " 'Energ_Kcal',\n",
       " 'Protein_(g)',\n",
       " 'Lipid_Tot_(g)',\n",
       " 'Ash_(g)',\n",
       " 'Carbohydrt_(g)',\n",
       " 'Fiber_TD_(g)',\n",
       " 'Sugar_Tot_(g)',\n",
       " 'Calcium_(mg)',\n",
       " 'Iron_(mg)',\n",
       " 'Magnesium_(mg)',\n",
       " 'Phosphorus_(mg)',\n",
       " 'Potassium_(mg)',\n",
       " 'Sodium_(mg)',\n",
       " 'Zinc_(mg)',\n",
       " 'Copper_mg)',\n",
       " 'Manganese_(mg)',\n",
       " 'Selenium_(µg)',\n",
       " 'Vit_C_(mg)',\n",
       " 'Thiamin_(mg)',\n",
       " 'Riboflavin_(mg)',\n",
       " 'Niacin_(mg)',\n",
       " 'Panto_Acid_mg)',\n",
       " 'Vit_B6_(mg)',\n",
       " 'Folate_Tot_(µg)',\n",
       " 'Folic_Acid_(µg)',\n",
       " 'Food_Folate_(µg)',\n",
       " 'Folate_DFE_(µg)',\n",
       " 'Choline_Tot_ (mg)',\n",
       " 'Vit_B12_(µg)',\n",
       " 'Vit_A_IU',\n",
       " 'Vit_A_RAE',\n",
       " 'Retinol_(µg)',\n",
       " 'Alpha_Carot_(µg)',\n",
       " 'Beta_Carot_(µg)',\n",
       " 'Beta_Crypt_(µg)',\n",
       " 'Lycopene_(µg)',\n",
       " 'Lut+Zea_ (µg)',\n",
       " 'Vit_E_(mg)',\n",
       " 'Vit_D_µg',\n",
       " 'Vit_D_IU',\n",
       " 'Vit_K_(µg)',\n",
       " 'FA_Sat_(g)',\n",
       " 'FA_Mono_(g)',\n",
       " 'FA_Poly_(g)',\n",
       " 'Cholestrl_(mg)',\n",
       " 'GmWt_1',\n",
       " 'GmWt_Desc1',\n",
       " 'GmWt_2',\n",
       " 'GmWt_Desc2',\n",
       " 'Refuse_Pct']"
      ]
     },
     "execution_count": 12,
     "metadata": {},
     "output_type": "execute_result"
    }
   ],
   "source": [
    "food_info.columns.tolist()"
   ]
  },
  {
   "cell_type": "markdown",
   "metadata": {},
   "source": [
    "To create a new dataframe containing only the column names that end with \"(g)\"."
   ]
  },
  {
   "cell_type": "code",
   "execution_count": 13,
   "metadata": {},
   "outputs": [
    {
     "data": {
      "text/html": [
       "<div>\n",
       "<style>\n",
       "    .dataframe thead tr:only-child th {\n",
       "        text-align: right;\n",
       "    }\n",
       "\n",
       "    .dataframe thead th {\n",
       "        text-align: left;\n",
       "    }\n",
       "\n",
       "    .dataframe tbody tr th {\n",
       "        vertical-align: top;\n",
       "    }\n",
       "</style>\n",
       "<table border=\"1\" class=\"dataframe\">\n",
       "  <thead>\n",
       "    <tr style=\"text-align: right;\">\n",
       "      <th></th>\n",
       "      <th>Water_(g)</th>\n",
       "      <th>Protein_(g)</th>\n",
       "      <th>Lipid_Tot_(g)</th>\n",
       "      <th>Ash_(g)</th>\n",
       "      <th>Carbohydrt_(g)</th>\n",
       "      <th>Fiber_TD_(g)</th>\n",
       "      <th>Sugar_Tot_(g)</th>\n",
       "      <th>FA_Sat_(g)</th>\n",
       "      <th>FA_Mono_(g)</th>\n",
       "      <th>FA_Poly_(g)</th>\n",
       "    </tr>\n",
       "  </thead>\n",
       "  <tbody>\n",
       "    <tr>\n",
       "      <th>0</th>\n",
       "      <td>15.87</td>\n",
       "      <td>0.85</td>\n",
       "      <td>81.11</td>\n",
       "      <td>2.11</td>\n",
       "      <td>0.06</td>\n",
       "      <td>0.0</td>\n",
       "      <td>0.06</td>\n",
       "      <td>51.368</td>\n",
       "      <td>21.021</td>\n",
       "      <td>3.043</td>\n",
       "    </tr>\n",
       "    <tr>\n",
       "      <th>1</th>\n",
       "      <td>15.87</td>\n",
       "      <td>0.85</td>\n",
       "      <td>81.11</td>\n",
       "      <td>2.11</td>\n",
       "      <td>0.06</td>\n",
       "      <td>0.0</td>\n",
       "      <td>0.06</td>\n",
       "      <td>50.489</td>\n",
       "      <td>23.426</td>\n",
       "      <td>3.012</td>\n",
       "    </tr>\n",
       "    <tr>\n",
       "      <th>2</th>\n",
       "      <td>0.24</td>\n",
       "      <td>0.28</td>\n",
       "      <td>99.48</td>\n",
       "      <td>0.00</td>\n",
       "      <td>0.00</td>\n",
       "      <td>0.0</td>\n",
       "      <td>0.00</td>\n",
       "      <td>61.924</td>\n",
       "      <td>28.732</td>\n",
       "      <td>3.694</td>\n",
       "    </tr>\n",
       "  </tbody>\n",
       "</table>\n",
       "</div>"
      ],
      "text/plain": [
       "   Water_(g)  Protein_(g)  Lipid_Tot_(g)  Ash_(g)  Carbohydrt_(g)  \\\n",
       "0      15.87         0.85          81.11     2.11            0.06   \n",
       "1      15.87         0.85          81.11     2.11            0.06   \n",
       "2       0.24         0.28          99.48     0.00            0.00   \n",
       "\n",
       "   Fiber_TD_(g)  Sugar_Tot_(g)  FA_Sat_(g)  FA_Mono_(g)  FA_Poly_(g)  \n",
       "0           0.0           0.06      51.368       21.021        3.043  \n",
       "1           0.0           0.06      50.489       23.426        3.012  \n",
       "2           0.0           0.00      61.924       28.732        3.694  "
      ]
     },
     "execution_count": 13,
     "metadata": {},
     "output_type": "execute_result"
    }
   ],
   "source": [
    "gram_columns = [i for i in food_info.columns.tolist() if i.endswith(\"(g)\")]\n",
    "gram_df = food_info[gram_columns]\n",
    "gram_df.head(3)"
   ]
  },
  {
   "cell_type": "markdown",
   "metadata": {},
   "source": [
    "Normalisation on Series:"
   ]
  },
  {
   "cell_type": "code",
   "execution_count": 14,
   "metadata": {
    "collapsed": true
   },
   "outputs": [],
   "source": [
    "max_protein = food_info[\"Protein_(g)\"].max()\n",
    "normalized_protein = food_info[\"Protein_(g)\"] / food_info[\"Protein_(g)\"].max()\n",
    "normalized_fat = food_info[\"Lipid_Tot_(g)\"] / food_info[\"Lipid_Tot_(g)\"].max()"
   ]
  },
  {
   "cell_type": "markdown",
   "metadata": {},
   "source": [
    "How to add normalised results in food_info:"
   ]
  },
  {
   "cell_type": "code",
   "execution_count": 15,
   "metadata": {
    "collapsed": true
   },
   "outputs": [],
   "source": [
    "food_info[\"Normalized_Protein\"] = normalized_protein\n",
    "food_info[\"Normalized_Fat\"] = normalized_fat"
   ]
  },
  {
   "cell_type": "markdown",
   "metadata": {},
   "source": [
    "Calculate the nutritional index:"
   ]
  },
  {
   "cell_type": "code",
   "execution_count": 16,
   "metadata": {
    "collapsed": true
   },
   "outputs": [],
   "source": [
    "food_info[\"Norm_Nutr_Index\"] = 2 * food_info[\"Normalized_Protein\"] - 0.75 * food_info[\"Normalized_Fat\"]"
   ]
  },
  {
   "cell_type": "code",
   "execution_count": 17,
   "metadata": {},
   "outputs": [
    {
     "name": "stdout",
     "output_type": "stream",
     "text": [
      "                                              Shrt_Desc  Norm_Nutr_Index\n",
      "0                                      BUTTER,WITH SALT        -0.589077\n",
      "1                              BUTTER,WHIPPED,WITH SALT        -0.589077\n",
      "2                                  BUTTER OIL,ANHYDROUS        -0.739759\n",
      "3                                           CHEESE,BLUE         0.269051\n",
      "4                                          CHEESE,BRICK         0.303668\n",
      "5                                           CHEESE,BRIE         0.262282\n",
      "6                                      CHEESE,CAMEMBERT         0.266420\n",
      "7                                        CHEESE,CARAWAY         0.351199\n",
      "8                                        CHEESE,CHEDDAR         0.290734\n",
      "9                                       CHEESE,CHESHIRE         0.299712\n",
      "10                                         CHEESE,COLBY         0.297218\n",
      "11                  CHEESE,COTTAGE,CRMD,LRG OR SML CURD         0.219562\n",
      "12                          CHEESE,COTTAGE,CRMD,W/FRUIT         0.213199\n",
      "13     CHEESE,COTTAGE,NONFAT,UNCRMD,DRY,LRG OR SML CURD         0.231974\n",
      "14                     CHEESE,COTTAGE,LOWFAT,2% MILKFAT         0.219614\n",
      "15                     CHEESE,COTTAGE,LOWFAT,1% MILKFAT         0.272921\n",
      "16                                         CHEESE,CREAM        -0.122516\n",
      "17                                          CHEESE,EDAM         0.357397\n",
      "18                                          CHEESE,FETA         0.162184\n",
      "19                                       CHEESE,FONTINA         0.346160\n",
      "20                                       CHEESE,GJETOST        -0.002801\n",
      "21                                         CHEESE,GOUDA         0.358964\n",
      "22                                       CHEESE,GRUYERE         0.432495\n",
      "23                                     CHEESE,LIMBURGER         0.249656\n",
      "24                                      CHEESE,MONTEREY         0.327248\n",
      "25                           CHEESE,MOZZARELLA,WHL MILK         0.334413\n",
      "26                  CHEESE,MOZZARELLA,WHL MILK,LO MOIST         0.304330\n",
      "27                     CHEESE,MOZZARELLA,PART SKIM MILK         0.429966\n",
      "28                 CHEESE,MOZZARELLA,LO MOIST,PART-SKIM         0.408712\n",
      "29                                      CHEESE,MUENSTER         0.304818\n",
      "...                                                 ...              ...\n",
      "8588         BABYFOOD,CRL,RICE W/ PEARS & APPL,DRY,INST         0.142707\n",
      "8589                     BABYFOOD,BANANA NO TAPIOCA,STR         0.021145\n",
      "8590                     BABYFOOD,BANANA APPL DSSRT,STR         0.005293\n",
      "8591       SNACKS,TORTILLA CHIPS,LT (BAKED W/ LESS OIL)         0.083011\n",
      "8592  CEREALS RTE,POST,HONEY BUNCHES OF OATS,HONEY RSTD         0.120282\n",
      "8593                         POPCORN,MICROWAVE,LOFAT&NA         0.214076\n",
      "8594                       BABYFOOD,FRUIT SUPREME DSSRT         0.009822\n",
      "8595                               CHEESE,SWISS,LOW FAT         0.604866\n",
      "8596             BREAKFAST BAR,CORN FLAKE CRUST W/FRUIT         0.043388\n",
      "8597                            CHEESE,MOZZARELLA,LO NA         0.494486\n",
      "8598                           MAYONNAISE DRSNG,NO CHOL        -0.583500\n",
      "8599                          OIL,CORN,PEANUT,AND OLIVE        -0.750000\n",
      "8600                   SWEETENERS,TABLETOP,FRUCTOSE,LIQ         0.000000\n",
      "8601                              CHEESE FOOD,IMITATION        -0.053859\n",
      "8602                                CELERY FLAKES,DRIED         0.240138\n",
      "8603           PUDDINGS,CHOC FLAVOR,LO CAL,INST,DRY MIX         0.102018\n",
      "8604                    BABYFOOD,GRAPE JUC,NO SUGAR,CND         0.000000\n",
      "8605                   JELLIES,RED SUGAR,HOME PRESERVED         0.006568\n",
      "8606                         PIE FILLINGS,BLUEBERRY,CND         0.007784\n",
      "8607               COCKTAIL MIX,NON-ALCOHOLIC,CONCD,FRZ         0.001737\n",
      "8608            PUDDINGS,CHOC FLAVOR,LO CAL,REG,DRY MIX         0.205761\n",
      "8609  PUDDINGS,ALL FLAVORS XCPT CHOC,LO CAL,REG,DRY MIX         0.035482\n",
      "8610  PUDDINGS,ALL FLAVORS XCPT CHOC,LO CAL,INST,DRY...         0.011592\n",
      "8611                                 VITAL WHEAT GLUTEN         1.688118\n",
      "8612                                      FROG LEGS,RAW         0.369127\n",
      "8613                                    MACKEREL,SALTED         0.230681\n",
      "8614                         SCALLOP,(BAY&SEA),CKD,STMD         0.458827\n",
      "8615                                         SYRUP,CANE         0.000000\n",
      "8616                                          SNAIL,RAW         0.354083\n",
      "8617                                   TURTLE,GREEN,RAW         0.444620\n",
      "\n",
      "[8618 rows x 2 columns]\n"
     ]
    }
   ],
   "source": [
    "print(food_info[['Shrt_Desc', \"Norm_Nutr_Index\"]])"
   ]
  },
  {
   "cell_type": "markdown",
   "metadata": {},
   "source": [
    "To explore which foods rank the highest in the Norm_Nutr_Index column, we need to sort the DataFrame by that column."
   ]
  },
  {
   "cell_type": "code",
   "execution_count": 18,
   "metadata": {
    "collapsed": true
   },
   "outputs": [],
   "source": [
    "food_info.sort_values(\"Norm_Nutr_Index\", inplace = True, ascending = False)"
   ]
  },
  {
   "cell_type": "code",
   "execution_count": 19,
   "metadata": {},
   "outputs": [
    {
     "name": "stdout",
     "output_type": "stream",
     "text": [
      "                                              Shrt_Desc  Norm_Nutr_Index\n",
      "4991           SOY PROT ISOLATE,K TYPE,CRUDE PROT BASIS         1.996025\n",
      "6155                           GELATINS,DRY PDR,UNSWTND         1.937656\n",
      "216              EGG,WHITE,DRIED,STABILIZED,GLUCOSE RED         1.912840\n",
      "124          EGG,WHITE,DRIED,PDR,STABILIZED,GLUCOSE RED         1.865642\n",
      "8152   SEAL,BEARDED (OOGRUK),MEAT,DRIED (ALASKA NATIVE)         1.853221\n",
      "151                                     EGG,WHITE,DRIED         1.836504\n",
      "4990                            SOY PROT ISOLATE,K TYPE         1.823244\n",
      "4833                                SOY PROTEIN ISOLATE         1.801794\n",
      "4200                        BEVERAGES,PROT PDR WHEY BSD         1.757548\n",
      "123       EGG,WHITE,DRIED,FLAKES,STABILIZED,GLUCOSE RED         1.741548\n",
      "8234     STEELHEAD TROUT,DRIED,FLESH (SHOSHONE BANNOCK)         1.689324\n",
      "8611                                 VITAL WHEAT GLUTEN         1.688118\n",
      "8117            WHALE,BELUGA,MEAT,DRIED (ALASKA NATIVE)         1.541925\n",
      "4173                 BEVERAGES,ABBOTT,EAS WHEY PROT PDR         1.471262\n",
      "4989  SOY PROT CONC,CRUDE PROT BASIS (N X 6.25),ACID...         1.437447\n",
      "4472                          COD,ATLANTIC,DRIED&SALTED         1.404779\n",
      "8229  SEAL,BEARDED (OOGRUK),MEAT,PART DRIED (ALASKA ...         1.395266\n",
      "8139      FISH,HERRING EGGS,PACIFIC,DRY (ALASKA NATIVE)         1.318254\n",
      "8216           CARIBOU,SHLDR MEAT,DRIED (ALASKA NATIVE)         1.317131\n",
      "8219               FISH,WHITEFISH,DRIED (ALASKA NATIVE)         1.313149\n",
      "4832       SOY PROT CONC,PRODUCED BY ALCOHOL EXTRACTION         1.312900\n",
      "4988                SOY PROT CONC,PRODUCED BY ACID WASH         1.312900\n",
      "4192                    BEVERAGES,WHEY PROT PDR ISOLATE         1.307876\n",
      "8225             FISH,SALMON,CHUM,DRIED (ALASKA NATIVE)         1.298174\n",
      "8243  SALMON,RED (SOCKEYE),FILETS W/ SKN,SMOKED (ALA...         1.287011\n",
      "8172                  WALRUS,MEAT,DRIED (ALASKA NATIVE)         1.271261\n",
      "6339  GELATIN DSSRT,DRY MIX,RED CAL,W/ ASPRT,ADDED P...         1.252264\n",
      "6340  GELATIN DSSRT,DRY MIX,RED CAL,W/ ASPRT,NO ADDE...         1.252264\n",
      "3340                            SEAWEED,SPIRULINA,DRIED         1.243504\n",
      "4201                         BEVERAGES,PROT PDR SOY BSD         1.216452\n",
      "...                                                 ...              ...\n",
      "747   OIL,INDUSTRIAL,SOY (PART HYDR ) & SOY,POURABLE...        -0.750000\n",
      "657             OIL,SAFFLOWER,SALAD OR COOKING,HI OLEIC        -0.750000\n",
      "656   OIL,SAFFLOWER,SALAD OR COOKING,LINOLEIC,(OVER ...        -0.750000\n",
      "653                                    OIL,COCOA BUTTER        -0.750000\n",
      "634                          OIL,SOYBN,SALAD OR COOKING        -0.750000\n",
      "758   OIL,INDUSTRIAL,SOY (PARTHYDR ),PALM, ICINGS & ...        -0.750000\n",
      "633                           OIL,PNUT,SALAD OR COOKING        -0.750000\n",
      "632                                      OIL,WHEAT GERM        -0.750000\n",
      "610                                     FAT,BEEF TALLOW        -0.750000\n",
      "611                                                LARD        -0.750000\n",
      "675   OIL,SOYBN,SALAD OR COOKING,(PARTIALLY HYDROGEN...        -0.750000\n",
      "774          OIL,COOKING & SALAD,ENOVA,80% DIGLYCERIDES        -0.750000\n",
      "673                                       OIL,CUPU ASSU        -0.750000\n",
      "671                                         OIL,SHEANUT        -0.750000\n",
      "770   OIL,VEG,NATREON CANOLA,HI STABILITY,NON TRANS,...        -0.750000\n",
      "670                                         OIL,BABASSU        -0.750000\n",
      "669                                        OIL,HAZELNUT        -0.750000\n",
      "764              USDA CMDTY FD,OIL,VEG,LO SATURATED FAT        -0.750000\n",
      "763                 USDA CMDTY FD,OIL,VEG,SOYBN,REFINED        -0.750000\n",
      "668                                  OIL,SOYBN LECITHIN        -0.750000\n",
      "761   SHORTENING,INDUS,SOY (PART HYDR ) FOR BAKING &...        -0.750000\n",
      "667                                  OIL,APRICOT KERNEL        -0.750000\n",
      "666                                          OIL,ALMOND        -0.750000\n",
      "760   SHORTENING,INDUSTRIAL,SOY (PARTIALLY HYDR )&CO...        -0.750000\n",
      "665                                          OIL,WALNUT        -0.750000\n",
      "664                                   FAT,MUTTON TALLOW        -0.750000\n",
      "629   SHORTENING,HOUSEHOLD,PARTIALLY HYDROG SOYBN -C...        -0.750000\n",
      "630   OIL,SOYBN,SALAD OR COOKING,(PARTIALLY HYDROGEN...        -0.750000\n",
      "631                                       OIL,RICE BRAN        -0.750000\n",
      "750           OIL,INDUSTRIAL,PALM KERNEL,CONFECTION FAT        -0.750000\n",
      "\n",
      "[8618 rows x 2 columns]\n"
     ]
    }
   ],
   "source": [
    "print(food_info[['Shrt_Desc', \"Norm_Nutr_Index\"]])"
   ]
  }
 ],
 "metadata": {
  "kernelspec": {
   "display_name": "Python 3",
   "language": "python",
   "name": "python3"
  },
  "language_info": {
   "codemirror_mode": {
    "name": "ipython",
    "version": 3
   },
   "file_extension": ".py",
   "mimetype": "text/x-python",
   "name": "python",
   "nbconvert_exporter": "python",
   "pygments_lexer": "ipython3",
   "version": "3.6.1"
  }
 },
 "nbformat": 4,
 "nbformat_minor": 2
}
