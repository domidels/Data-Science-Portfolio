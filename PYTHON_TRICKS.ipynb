{
 "cells": [
  {
   "cell_type": "markdown",
   "metadata": {},
   "source": [
    "# Dataframe"
   ]
  },
  {
   "cell_type": "markdown",
   "metadata": {},
   "source": [
    "##  iloc"
   ]
  },
  {
   "cell_type": "code",
   "execution_count": 56,
   "metadata": {},
   "outputs": [
    {
     "data": {
      "text/html": [
       "<div>\n",
       "<style>\n",
       "    .dataframe thead tr:only-child th {\n",
       "        text-align: right;\n",
       "    }\n",
       "\n",
       "    .dataframe thead th {\n",
       "        text-align: left;\n",
       "    }\n",
       "\n",
       "    .dataframe tbody tr th {\n",
       "        vertical-align: top;\n",
       "    }\n",
       "</style>\n",
       "<table border=\"1\" class=\"dataframe\">\n",
       "  <thead>\n",
       "    <tr style=\"text-align: right;\">\n",
       "      <th></th>\n",
       "      <th>first_name</th>\n",
       "      <th>last_name</th>\n",
       "      <th>company_name</th>\n",
       "      <th>address</th>\n",
       "      <th>city</th>\n",
       "      <th>county</th>\n",
       "      <th>postal</th>\n",
       "      <th>phone1</th>\n",
       "      <th>phone2</th>\n",
       "      <th>email</th>\n",
       "      <th>web</th>\n",
       "      <th>id</th>\n",
       "    </tr>\n",
       "  </thead>\n",
       "  <tbody>\n",
       "    <tr>\n",
       "      <th>0</th>\n",
       "      <td>Aleshia</td>\n",
       "      <td>Tomkiewicz</td>\n",
       "      <td>Alan D Rosenburg Cpa Pc</td>\n",
       "      <td>14 Taylor St</td>\n",
       "      <td>St. Stephens Ward</td>\n",
       "      <td>Kent</td>\n",
       "      <td>CT2 7PP</td>\n",
       "      <td>01835-703597</td>\n",
       "      <td>01944-369967</td>\n",
       "      <td>atomkiewicz@hotmail.com</td>\n",
       "      <td>http://www.alandrosenburgcpapc.co.uk</td>\n",
       "      <td>331</td>\n",
       "    </tr>\n",
       "    <tr>\n",
       "      <th>1</th>\n",
       "      <td>Evan</td>\n",
       "      <td>Zigomalas</td>\n",
       "      <td>Cap Gemini America</td>\n",
       "      <td>5 Binney St</td>\n",
       "      <td>Abbey Ward</td>\n",
       "      <td>Buckinghamshire</td>\n",
       "      <td>HP11 2AX</td>\n",
       "      <td>01937-864715</td>\n",
       "      <td>01714-737668</td>\n",
       "      <td>evan.zigomalas@gmail.com</td>\n",
       "      <td>http://www.capgeminiamerica.co.uk</td>\n",
       "      <td>922</td>\n",
       "    </tr>\n",
       "  </tbody>\n",
       "</table>\n",
       "</div>"
      ],
      "text/plain": [
       "  first_name   last_name             company_name       address  \\\n",
       "0    Aleshia  Tomkiewicz  Alan D Rosenburg Cpa Pc  14 Taylor St   \n",
       "1       Evan   Zigomalas       Cap Gemini America   5 Binney St   \n",
       "\n",
       "                city           county    postal        phone1        phone2  \\\n",
       "0  St. Stephens Ward             Kent   CT2 7PP  01835-703597  01944-369967   \n",
       "1         Abbey Ward  Buckinghamshire  HP11 2AX  01937-864715  01714-737668   \n",
       "\n",
       "                      email                                   web   id  \n",
       "0   atomkiewicz@hotmail.com  http://www.alandrosenburgcpapc.co.uk  331  \n",
       "1  evan.zigomalas@gmail.com     http://www.capgeminiamerica.co.uk  922  "
      ]
     },
     "execution_count": 56,
     "metadata": {},
     "output_type": "execute_result"
    }
   ],
   "source": [
    "import pandas as pd\n",
    "import random\n",
    " \n",
    "# read the data from the downloaded CSV file.\n",
    "data = pd.read_csv('https://s3-eu-west-1.amazonaws.com/shanebucket/downloads/uk-500.csv')\n",
    "# set a numeric id for use as an index for examples.\n",
    "data['id'] = [random.randint(0,1000) for x in range(data.shape[0])]\n",
    " \n",
    "data.head(2)"
   ]
  },
  {
   "cell_type": "code",
   "execution_count": 57,
   "metadata": {},
   "outputs": [
    {
     "name": "stdout",
     "output_type": "stream",
     "text": [
      "\n"
     ]
    }
   ],
   "source": [
    "# Single selections using iloc and DataFrame\n",
    "# Rows:\n",
    "data.iloc[0] # first row of data frame (Aleshia Tomkiewicz) - Note a Series data type output.\n",
    "data.iloc[1] # second row of data frame (Evan Zigomalas)\n",
    "data.iloc[-1] # last row of data frame (Mi Richan)\n",
    "# Columns:\n",
    "data.iloc[:,0] # first column of data frame (first_name)\n",
    "data.iloc[:,1] # second column of data frame (last_name)\n",
    "data.iloc[:,-1] # last column of data frame (id)\n",
    "print()"
   ]
  },
  {
   "cell_type": "raw",
   "metadata": {},
   "source": [
    "# Multiple row and column selections using iloc and DataFrame\n",
    "data.iloc[0:5] # first five rows of dataframe\n",
    "data.iloc[:, 0:2] # first two columns of data frame with all rows\n",
    "data.iloc[[0,3,6,24], [0,5,6]] # 1st, 4th, 7th, 25th row + 1st 6th 7th columns.\n",
    "data.iloc[0:5, 5:8] # first 5 rows and 5th, 6th, 7th columns of data frame (county -> phone1).\n"
   ]
  },
  {
   "cell_type": "markdown",
   "metadata": {},
   "source": [
    "## loc and set_index"
   ]
  },
  {
   "cell_type": "code",
   "execution_count": 58,
   "metadata": {},
   "outputs": [
    {
     "data": {
      "text/html": [
       "<div>\n",
       "<style>\n",
       "    .dataframe thead tr:only-child th {\n",
       "        text-align: right;\n",
       "    }\n",
       "\n",
       "    .dataframe thead th {\n",
       "        text-align: left;\n",
       "    }\n",
       "\n",
       "    .dataframe tbody tr th {\n",
       "        vertical-align: top;\n",
       "    }\n",
       "</style>\n",
       "<table border=\"1\" class=\"dataframe\">\n",
       "  <thead>\n",
       "    <tr style=\"text-align: right;\">\n",
       "      <th></th>\n",
       "      <th>first_name</th>\n",
       "      <th>company_name</th>\n",
       "      <th>address</th>\n",
       "      <th>city</th>\n",
       "      <th>county</th>\n",
       "      <th>postal</th>\n",
       "      <th>phone1</th>\n",
       "      <th>phone2</th>\n",
       "      <th>email</th>\n",
       "      <th>web</th>\n",
       "      <th>id</th>\n",
       "    </tr>\n",
       "    <tr>\n",
       "      <th>last_name</th>\n",
       "      <th></th>\n",
       "      <th></th>\n",
       "      <th></th>\n",
       "      <th></th>\n",
       "      <th></th>\n",
       "      <th></th>\n",
       "      <th></th>\n",
       "      <th></th>\n",
       "      <th></th>\n",
       "      <th></th>\n",
       "      <th></th>\n",
       "    </tr>\n",
       "  </thead>\n",
       "  <tbody>\n",
       "    <tr>\n",
       "      <th>Tomkiewicz</th>\n",
       "      <td>Aleshia</td>\n",
       "      <td>Alan D Rosenburg Cpa Pc</td>\n",
       "      <td>14 Taylor St</td>\n",
       "      <td>St. Stephens Ward</td>\n",
       "      <td>Kent</td>\n",
       "      <td>CT2 7PP</td>\n",
       "      <td>01835-703597</td>\n",
       "      <td>01944-369967</td>\n",
       "      <td>atomkiewicz@hotmail.com</td>\n",
       "      <td>http://www.alandrosenburgcpapc.co.uk</td>\n",
       "      <td>331</td>\n",
       "    </tr>\n",
       "    <tr>\n",
       "      <th>Zigomalas</th>\n",
       "      <td>Evan</td>\n",
       "      <td>Cap Gemini America</td>\n",
       "      <td>5 Binney St</td>\n",
       "      <td>Abbey Ward</td>\n",
       "      <td>Buckinghamshire</td>\n",
       "      <td>HP11 2AX</td>\n",
       "      <td>01937-864715</td>\n",
       "      <td>01714-737668</td>\n",
       "      <td>evan.zigomalas@gmail.com</td>\n",
       "      <td>http://www.capgeminiamerica.co.uk</td>\n",
       "      <td>922</td>\n",
       "    </tr>\n",
       "  </tbody>\n",
       "</table>\n",
       "</div>"
      ],
      "text/plain": [
       "           first_name             company_name       address  \\\n",
       "last_name                                                      \n",
       "Tomkiewicz    Aleshia  Alan D Rosenburg Cpa Pc  14 Taylor St   \n",
       "Zigomalas        Evan       Cap Gemini America   5 Binney St   \n",
       "\n",
       "                         city           county    postal        phone1  \\\n",
       "last_name                                                                \n",
       "Tomkiewicz  St. Stephens Ward             Kent   CT2 7PP  01835-703597   \n",
       "Zigomalas          Abbey Ward  Buckinghamshire  HP11 2AX  01937-864715   \n",
       "\n",
       "                  phone2                     email  \\\n",
       "last_name                                            \n",
       "Tomkiewicz  01944-369967   atomkiewicz@hotmail.com   \n",
       "Zigomalas   01714-737668  evan.zigomalas@gmail.com   \n",
       "\n",
       "                                             web   id  \n",
       "last_name                                              \n",
       "Tomkiewicz  http://www.alandrosenburgcpapc.co.uk  331  \n",
       "Zigomalas      http://www.capgeminiamerica.co.uk  922  "
      ]
     },
     "execution_count": 58,
     "metadata": {},
     "output_type": "execute_result"
    }
   ],
   "source": [
    "data.set_index(\"last_name\", inplace=True)\n",
    "data.head(2)"
   ]
  },
  {
   "cell_type": "code",
   "execution_count": 59,
   "metadata": {},
   "outputs": [
    {
     "data": {
      "text/plain": [
       "first_name                                   Evan\n",
       "company_name                   Cap Gemini America\n",
       "address                               5 Binney St\n",
       "city                                   Abbey Ward\n",
       "county                            Buckinghamshire\n",
       "postal                                   HP11 2AX\n",
       "phone1                               01937-864715\n",
       "phone2                               01714-737668\n",
       "email                    evan.zigomalas@gmail.com\n",
       "web             http://www.capgeminiamerica.co.uk\n",
       "id                                            922\n",
       "Name: Zigomalas, dtype: object"
      ]
     },
     "execution_count": 59,
     "metadata": {},
     "output_type": "execute_result"
    }
   ],
   "source": [
    "data.loc['Zigomalas']"
   ]
  },
  {
   "cell_type": "code",
   "execution_count": 60,
   "metadata": {},
   "outputs": [
    {
     "data": {
      "text/html": [
       "<div>\n",
       "<style>\n",
       "    .dataframe thead tr:only-child th {\n",
       "        text-align: right;\n",
       "    }\n",
       "\n",
       "    .dataframe thead th {\n",
       "        text-align: left;\n",
       "    }\n",
       "\n",
       "    .dataframe tbody tr th {\n",
       "        vertical-align: top;\n",
       "    }\n",
       "</style>\n",
       "<table border=\"1\" class=\"dataframe\">\n",
       "  <thead>\n",
       "    <tr style=\"text-align: right;\">\n",
       "      <th></th>\n",
       "      <th>first_name</th>\n",
       "      <th>company_name</th>\n",
       "      <th>address</th>\n",
       "      <th>city</th>\n",
       "      <th>county</th>\n",
       "      <th>postal</th>\n",
       "      <th>phone1</th>\n",
       "      <th>phone2</th>\n",
       "      <th>email</th>\n",
       "      <th>web</th>\n",
       "      <th>id</th>\n",
       "    </tr>\n",
       "    <tr>\n",
       "      <th>last_name</th>\n",
       "      <th></th>\n",
       "      <th></th>\n",
       "      <th></th>\n",
       "      <th></th>\n",
       "      <th></th>\n",
       "      <th></th>\n",
       "      <th></th>\n",
       "      <th></th>\n",
       "      <th></th>\n",
       "      <th></th>\n",
       "      <th></th>\n",
       "    </tr>\n",
       "  </thead>\n",
       "  <tbody>\n",
       "    <tr>\n",
       "      <th>Tomkiewicz</th>\n",
       "      <td>Aleshia</td>\n",
       "      <td>Alan D Rosenburg Cpa Pc</td>\n",
       "      <td>14 Taylor St</td>\n",
       "      <td>St. Stephens Ward</td>\n",
       "      <td>Kent</td>\n",
       "      <td>CT2 7PP</td>\n",
       "      <td>01835-703597</td>\n",
       "      <td>01944-369967</td>\n",
       "      <td>atomkiewicz@hotmail.com</td>\n",
       "      <td>http://www.alandrosenburgcpapc.co.uk</td>\n",
       "      <td>331</td>\n",
       "    </tr>\n",
       "    <tr>\n",
       "      <th>Zigomalas</th>\n",
       "      <td>Evan</td>\n",
       "      <td>Cap Gemini America</td>\n",
       "      <td>5 Binney St</td>\n",
       "      <td>Abbey Ward</td>\n",
       "      <td>Buckinghamshire</td>\n",
       "      <td>HP11 2AX</td>\n",
       "      <td>01937-864715</td>\n",
       "      <td>01714-737668</td>\n",
       "      <td>evan.zigomalas@gmail.com</td>\n",
       "      <td>http://www.capgeminiamerica.co.uk</td>\n",
       "      <td>922</td>\n",
       "    </tr>\n",
       "  </tbody>\n",
       "</table>\n",
       "</div>"
      ],
      "text/plain": [
       "           first_name             company_name       address  \\\n",
       "last_name                                                      \n",
       "Tomkiewicz    Aleshia  Alan D Rosenburg Cpa Pc  14 Taylor St   \n",
       "Zigomalas        Evan       Cap Gemini America   5 Binney St   \n",
       "\n",
       "                         city           county    postal        phone1  \\\n",
       "last_name                                                                \n",
       "Tomkiewicz  St. Stephens Ward             Kent   CT2 7PP  01835-703597   \n",
       "Zigomalas          Abbey Ward  Buckinghamshire  HP11 2AX  01937-864715   \n",
       "\n",
       "                  phone2                     email  \\\n",
       "last_name                                            \n",
       "Tomkiewicz  01944-369967   atomkiewicz@hotmail.com   \n",
       "Zigomalas   01714-737668  evan.zigomalas@gmail.com   \n",
       "\n",
       "                                             web   id  \n",
       "last_name                                              \n",
       "Tomkiewicz  http://www.alandrosenburgcpapc.co.uk  331  \n",
       "Zigomalas      http://www.capgeminiamerica.co.uk  922  "
      ]
     },
     "execution_count": 60,
     "metadata": {},
     "output_type": "execute_result"
    }
   ],
   "source": [
    "data.loc[['Tomkiewicz', 'Zigomalas']]"
   ]
  },
  {
   "cell_type": "code",
   "execution_count": 61,
   "metadata": {},
   "outputs": [
    {
     "data": {
      "text/html": [
       "<div>\n",
       "<style>\n",
       "    .dataframe thead tr:only-child th {\n",
       "        text-align: right;\n",
       "    }\n",
       "\n",
       "    .dataframe thead th {\n",
       "        text-align: left;\n",
       "    }\n",
       "\n",
       "    .dataframe tbody tr th {\n",
       "        vertical-align: top;\n",
       "    }\n",
       "</style>\n",
       "<table border=\"1\" class=\"dataframe\">\n",
       "  <thead>\n",
       "    <tr style=\"text-align: right;\">\n",
       "      <th></th>\n",
       "      <th>first_name</th>\n",
       "      <th>address</th>\n",
       "      <th>city</th>\n",
       "    </tr>\n",
       "    <tr>\n",
       "      <th>last_name</th>\n",
       "      <th></th>\n",
       "      <th></th>\n",
       "      <th></th>\n",
       "    </tr>\n",
       "  </thead>\n",
       "  <tbody>\n",
       "    <tr>\n",
       "      <th>Tomkiewicz</th>\n",
       "      <td>Aleshia</td>\n",
       "      <td>14 Taylor St</td>\n",
       "      <td>St. Stephens Ward</td>\n",
       "    </tr>\n",
       "    <tr>\n",
       "      <th>Zigomalas</th>\n",
       "      <td>Evan</td>\n",
       "      <td>5 Binney St</td>\n",
       "      <td>Abbey Ward</td>\n",
       "    </tr>\n",
       "  </tbody>\n",
       "</table>\n",
       "</div>"
      ],
      "text/plain": [
       "           first_name       address               city\n",
       "last_name                                             \n",
       "Tomkiewicz    Aleshia  14 Taylor St  St. Stephens Ward\n",
       "Zigomalas        Evan   5 Binney St         Abbey Ward"
      ]
     },
     "execution_count": 61,
     "metadata": {},
     "output_type": "execute_result"
    }
   ],
   "source": [
    "data.loc[['Tomkiewicz', 'Zigomalas'], ['first_name', 'address', 'city']]"
   ]
  },
  {
   "cell_type": "code",
   "execution_count": 62,
   "metadata": {},
   "outputs": [
    {
     "data": {
      "text/html": [
       "<div>\n",
       "<style>\n",
       "    .dataframe thead tr:only-child th {\n",
       "        text-align: right;\n",
       "    }\n",
       "\n",
       "    .dataframe thead th {\n",
       "        text-align: left;\n",
       "    }\n",
       "\n",
       "    .dataframe tbody tr th {\n",
       "        vertical-align: top;\n",
       "    }\n",
       "</style>\n",
       "<table border=\"1\" class=\"dataframe\">\n",
       "  <thead>\n",
       "    <tr style=\"text-align: right;\">\n",
       "      <th></th>\n",
       "      <th>first_name</th>\n",
       "      <th>address</th>\n",
       "      <th>city</th>\n",
       "    </tr>\n",
       "    <tr>\n",
       "      <th>last_name</th>\n",
       "      <th></th>\n",
       "      <th></th>\n",
       "      <th></th>\n",
       "    </tr>\n",
       "  </thead>\n",
       "  <tbody>\n",
       "    <tr>\n",
       "      <th>Andrade</th>\n",
       "      <td>France</td>\n",
       "      <td>8 Moor Place</td>\n",
       "      <td>East Southbourne and Tuckton W</td>\n",
       "    </tr>\n",
       "    <tr>\n",
       "      <th>Mcwalters</th>\n",
       "      <td>Ulysses</td>\n",
       "      <td>505 Exeter Rd</td>\n",
       "      <td>Hawerby cum Beesby</td>\n",
       "    </tr>\n",
       "    <tr>\n",
       "      <th>Veness</th>\n",
       "      <td>Tyisha</td>\n",
       "      <td>5396 Forth Street</td>\n",
       "      <td>Greets Green and Lyng Ward</td>\n",
       "    </tr>\n",
       "  </tbody>\n",
       "</table>\n",
       "</div>"
      ],
      "text/plain": [
       "          first_name            address                            city\n",
       "last_name                                                              \n",
       "Andrade       France       8 Moor Place  East Southbourne and Tuckton W\n",
       "Mcwalters    Ulysses      505 Exeter Rd              Hawerby cum Beesby\n",
       "Veness        Tyisha  5396 Forth Street      Greets Green and Lyng Ward"
      ]
     },
     "execution_count": 62,
     "metadata": {},
     "output_type": "execute_result"
    }
   ],
   "source": [
    "# Select rows with index values 'Andrade' and 'Veness', with all columns between 'city' and 'email'\n",
    "data.loc[['Andrade', 'Veness'], 'city':'email']\n",
    "# Select same rows, with just 'first_name', 'address' and 'city' columns\n",
    "data.loc['Andrade':'Veness', ['first_name', 'address', 'city']]\n"
   ]
  },
  {
   "cell_type": "code",
   "execution_count": 63,
   "metadata": {},
   "outputs": [
    {
     "data": {
      "text/html": [
       "<div>\n",
       "<style>\n",
       "    .dataframe thead tr:only-child th {\n",
       "        text-align: right;\n",
       "    }\n",
       "\n",
       "    .dataframe thead th {\n",
       "        text-align: left;\n",
       "    }\n",
       "\n",
       "    .dataframe tbody tr th {\n",
       "        vertical-align: top;\n",
       "    }\n",
       "</style>\n",
       "<table border=\"1\" class=\"dataframe\">\n",
       "  <thead>\n",
       "    <tr style=\"text-align: right;\">\n",
       "      <th></th>\n",
       "      <th>first_name</th>\n",
       "      <th>company_name</th>\n",
       "      <th>address</th>\n",
       "      <th>city</th>\n",
       "      <th>county</th>\n",
       "      <th>postal</th>\n",
       "      <th>phone1</th>\n",
       "      <th>phone2</th>\n",
       "      <th>email</th>\n",
       "      <th>web</th>\n",
       "    </tr>\n",
       "    <tr>\n",
       "      <th>id</th>\n",
       "      <th></th>\n",
       "      <th></th>\n",
       "      <th></th>\n",
       "      <th></th>\n",
       "      <th></th>\n",
       "      <th></th>\n",
       "      <th></th>\n",
       "      <th></th>\n",
       "      <th></th>\n",
       "      <th></th>\n",
       "    </tr>\n",
       "  </thead>\n",
       "  <tbody>\n",
       "    <tr>\n",
       "      <th>331</th>\n",
       "      <td>Aleshia</td>\n",
       "      <td>Alan D Rosenburg Cpa Pc</td>\n",
       "      <td>14 Taylor St</td>\n",
       "      <td>St. Stephens Ward</td>\n",
       "      <td>Kent</td>\n",
       "      <td>CT2 7PP</td>\n",
       "      <td>01835-703597</td>\n",
       "      <td>01944-369967</td>\n",
       "      <td>atomkiewicz@hotmail.com</td>\n",
       "      <td>http://www.alandrosenburgcpapc.co.uk</td>\n",
       "    </tr>\n",
       "    <tr>\n",
       "      <th>922</th>\n",
       "      <td>Evan</td>\n",
       "      <td>Cap Gemini America</td>\n",
       "      <td>5 Binney St</td>\n",
       "      <td>Abbey Ward</td>\n",
       "      <td>Buckinghamshire</td>\n",
       "      <td>HP11 2AX</td>\n",
       "      <td>01937-864715</td>\n",
       "      <td>01714-737668</td>\n",
       "      <td>evan.zigomalas@gmail.com</td>\n",
       "      <td>http://www.capgeminiamerica.co.uk</td>\n",
       "    </tr>\n",
       "  </tbody>\n",
       "</table>\n",
       "</div>"
      ],
      "text/plain": [
       "    first_name             company_name       address               city  \\\n",
       "id                                                                         \n",
       "331    Aleshia  Alan D Rosenburg Cpa Pc  14 Taylor St  St. Stephens Ward   \n",
       "922       Evan       Cap Gemini America   5 Binney St         Abbey Ward   \n",
       "\n",
       "              county    postal        phone1        phone2  \\\n",
       "id                                                           \n",
       "331             Kent   CT2 7PP  01835-703597  01944-369967   \n",
       "922  Buckinghamshire  HP11 2AX  01937-864715  01714-737668   \n",
       "\n",
       "                        email                                   web  \n",
       "id                                                                   \n",
       "331   atomkiewicz@hotmail.com  http://www.alandrosenburgcpapc.co.uk  \n",
       "922  evan.zigomalas@gmail.com     http://www.capgeminiamerica.co.uk  "
      ]
     },
     "execution_count": 63,
     "metadata": {},
     "output_type": "execute_result"
    }
   ],
   "source": [
    "# Change the index to be based on the 'id' column\n",
    "data.set_index('id', inplace=True)"
   ]
  },
  {
   "cell_type": "code",
   "execution_count": 73,
   "metadata": {},
   "outputs": [
    {
     "data": {
      "text/html": [
       "<div>\n",
       "<style>\n",
       "    .dataframe thead tr:only-child th {\n",
       "        text-align: right;\n",
       "    }\n",
       "\n",
       "    .dataframe thead th {\n",
       "        text-align: left;\n",
       "    }\n",
       "\n",
       "    .dataframe tbody tr th {\n",
       "        vertical-align: top;\n",
       "    }\n",
       "</style>\n",
       "<table border=\"1\" class=\"dataframe\">\n",
       "  <thead>\n",
       "    <tr style=\"text-align: right;\">\n",
       "      <th></th>\n",
       "      <th>first_name</th>\n",
       "      <th>company_name</th>\n",
       "      <th>address</th>\n",
       "      <th>city</th>\n",
       "      <th>county</th>\n",
       "      <th>postal</th>\n",
       "      <th>phone1</th>\n",
       "      <th>phone2</th>\n",
       "      <th>email</th>\n",
       "      <th>web</th>\n",
       "    </tr>\n",
       "    <tr>\n",
       "      <th>id</th>\n",
       "      <th></th>\n",
       "      <th></th>\n",
       "      <th></th>\n",
       "      <th></th>\n",
       "      <th></th>\n",
       "      <th></th>\n",
       "      <th></th>\n",
       "      <th></th>\n",
       "      <th></th>\n",
       "      <th></th>\n",
       "    </tr>\n",
       "  </thead>\n",
       "  <tbody>\n",
       "    <tr>\n",
       "      <th>331</th>\n",
       "      <td>Aleshia</td>\n",
       "      <td>Alan D Rosenburg Cpa Pc</td>\n",
       "      <td>14 Taylor St</td>\n",
       "      <td>St. Stephens Ward</td>\n",
       "      <td>Kent</td>\n",
       "      <td>CT2 7PP</td>\n",
       "      <td>01835-703597</td>\n",
       "      <td>01944-369967</td>\n",
       "      <td>atomkiewicz@hotmail.com</td>\n",
       "      <td>http://www.alandrosenburgcpapc.co.uk</td>\n",
       "    </tr>\n",
       "    <tr>\n",
       "      <th>922</th>\n",
       "      <td>Evan</td>\n",
       "      <td>Cap Gemini America</td>\n",
       "      <td>5 Binney St</td>\n",
       "      <td>Abbey Ward</td>\n",
       "      <td>Buckinghamshire</td>\n",
       "      <td>HP11 2AX</td>\n",
       "      <td>01937-864715</td>\n",
       "      <td>01714-737668</td>\n",
       "      <td>evan.zigomalas@gmail.com</td>\n",
       "      <td>http://www.capgeminiamerica.co.uk</td>\n",
       "    </tr>\n",
       "    <tr>\n",
       "      <th>291</th>\n",
       "      <td>France</td>\n",
       "      <td>Elliott, John W Esq</td>\n",
       "      <td>8 Moor Place</td>\n",
       "      <td>East Southbourne and Tuckton W</td>\n",
       "      <td>Bournemouth</td>\n",
       "      <td>BH6 3BE</td>\n",
       "      <td>01347-368222</td>\n",
       "      <td>01935-821636</td>\n",
       "      <td>france.andrade@hotmail.com</td>\n",
       "      <td>http://www.elliottjohnwesq.co.uk</td>\n",
       "    </tr>\n",
       "    <tr>\n",
       "      <th>168</th>\n",
       "      <td>Ulysses</td>\n",
       "      <td>Mcmahan, Ben L</td>\n",
       "      <td>505 Exeter Rd</td>\n",
       "      <td>Hawerby cum Beesby</td>\n",
       "      <td>Lincolnshire</td>\n",
       "      <td>DN36 5RP</td>\n",
       "      <td>01912-771311</td>\n",
       "      <td>01302-601380</td>\n",
       "      <td>ulysses@hotmail.com</td>\n",
       "      <td>http://www.mcmahanbenl.co.uk</td>\n",
       "    </tr>\n",
       "    <tr>\n",
       "      <th>360</th>\n",
       "      <td>Tyisha</td>\n",
       "      <td>Champagne Room</td>\n",
       "      <td>5396 Forth Street</td>\n",
       "      <td>Greets Green and Lyng Ward</td>\n",
       "      <td>West Midlands</td>\n",
       "      <td>B70 9DT</td>\n",
       "      <td>01547-429341</td>\n",
       "      <td>01290-367248</td>\n",
       "      <td>tyisha.veness@hotmail.com</td>\n",
       "      <td>http://www.champagneroom.co.uk</td>\n",
       "    </tr>\n",
       "  </tbody>\n",
       "</table>\n",
       "</div>"
      ],
      "text/plain": [
       "    first_name             company_name            address  \\\n",
       "id                                                           \n",
       "331    Aleshia  Alan D Rosenburg Cpa Pc       14 Taylor St   \n",
       "922       Evan       Cap Gemini America        5 Binney St   \n",
       "291     France      Elliott, John W Esq       8 Moor Place   \n",
       "168    Ulysses           Mcmahan, Ben L      505 Exeter Rd   \n",
       "360     Tyisha           Champagne Room  5396 Forth Street   \n",
       "\n",
       "                               city           county    postal        phone1  \\\n",
       "id                                                                             \n",
       "331               St. Stephens Ward             Kent   CT2 7PP  01835-703597   \n",
       "922                      Abbey Ward  Buckinghamshire  HP11 2AX  01937-864715   \n",
       "291  East Southbourne and Tuckton W      Bournemouth   BH6 3BE  01347-368222   \n",
       "168              Hawerby cum Beesby     Lincolnshire  DN36 5RP  01912-771311   \n",
       "360      Greets Green and Lyng Ward    West Midlands   B70 9DT  01547-429341   \n",
       "\n",
       "           phone2                       email  \\\n",
       "id                                              \n",
       "331  01944-369967     atomkiewicz@hotmail.com   \n",
       "922  01714-737668    evan.zigomalas@gmail.com   \n",
       "291  01935-821636  france.andrade@hotmail.com   \n",
       "168  01302-601380         ulysses@hotmail.com   \n",
       "360  01290-367248   tyisha.veness@hotmail.com   \n",
       "\n",
       "                                      web  \n",
       "id                                         \n",
       "331  http://www.alandrosenburgcpapc.co.uk  \n",
       "922     http://www.capgeminiamerica.co.uk  \n",
       "291      http://www.elliottjohnwesq.co.uk  \n",
       "168          http://www.mcmahanbenl.co.uk  \n",
       "360        http://www.champagneroom.co.uk  "
      ]
     },
     "execution_count": 73,
     "metadata": {},
     "output_type": "execute_result"
    }
   ],
   "source": [
    "data.head(5)"
   ]
  },
  {
   "cell_type": "code",
   "execution_count": 74,
   "metadata": {},
   "outputs": [
    {
     "data": {
      "text/plain": [
       "first_name                                   Evan\n",
       "company_name                   Cap Gemini America\n",
       "address                               5 Binney St\n",
       "city                                   Abbey Ward\n",
       "county                            Buckinghamshire\n",
       "postal                                   HP11 2AX\n",
       "phone1                               01937-864715\n",
       "phone2                               01714-737668\n",
       "email                    evan.zigomalas@gmail.com\n",
       "web             http://www.capgeminiamerica.co.uk\n",
       "Name: 922, dtype: object"
      ]
     },
     "execution_count": 74,
     "metadata": {},
     "output_type": "execute_result"
    }
   ],
   "source": [
    "data.loc[922]"
   ]
  },
  {
   "cell_type": "markdown",
   "metadata": {},
   "source": [
    "## loc with boolean"
   ]
  },
  {
   "cell_type": "code",
   "execution_count": 66,
   "metadata": {},
   "outputs": [
    {
     "data": {
      "text/html": [
       "<div>\n",
       "<style>\n",
       "    .dataframe thead tr:only-child th {\n",
       "        text-align: right;\n",
       "    }\n",
       "\n",
       "    .dataframe thead th {\n",
       "        text-align: left;\n",
       "    }\n",
       "\n",
       "    .dataframe tbody tr th {\n",
       "        vertical-align: top;\n",
       "    }\n",
       "</style>\n",
       "<table border=\"1\" class=\"dataframe\">\n",
       "  <thead>\n",
       "    <tr style=\"text-align: right;\">\n",
       "      <th></th>\n",
       "      <th>first_name</th>\n",
       "      <th>company_name</th>\n",
       "      <th>address</th>\n",
       "      <th>city</th>\n",
       "      <th>county</th>\n",
       "      <th>postal</th>\n",
       "      <th>phone1</th>\n",
       "      <th>phone2</th>\n",
       "      <th>email</th>\n",
       "      <th>web</th>\n",
       "    </tr>\n",
       "    <tr>\n",
       "      <th>id</th>\n",
       "      <th></th>\n",
       "      <th></th>\n",
       "      <th></th>\n",
       "      <th></th>\n",
       "      <th></th>\n",
       "      <th></th>\n",
       "      <th></th>\n",
       "      <th></th>\n",
       "      <th></th>\n",
       "      <th></th>\n",
       "    </tr>\n",
       "  </thead>\n",
       "  <tbody>\n",
       "    <tr>\n",
       "      <th>331</th>\n",
       "      <td>Aleshia</td>\n",
       "      <td>Alan D Rosenburg Cpa Pc</td>\n",
       "      <td>14 Taylor St</td>\n",
       "      <td>St. Stephens Ward</td>\n",
       "      <td>Kent</td>\n",
       "      <td>CT2 7PP</td>\n",
       "      <td>01835-703597</td>\n",
       "      <td>01944-369967</td>\n",
       "      <td>atomkiewicz@hotmail.com</td>\n",
       "      <td>http://www.alandrosenburgcpapc.co.uk</td>\n",
       "    </tr>\n",
       "  </tbody>\n",
       "</table>\n",
       "</div>"
      ],
      "text/plain": [
       "    first_name             company_name       address               city  \\\n",
       "id                                                                         \n",
       "331    Aleshia  Alan D Rosenburg Cpa Pc  14 Taylor St  St. Stephens Ward   \n",
       "\n",
       "    county   postal        phone1        phone2                    email  \\\n",
       "id                                                                         \n",
       "331   Kent  CT2 7PP  01835-703597  01944-369967  atomkiewicz@hotmail.com   \n",
       "\n",
       "                                      web  \n",
       "id                                         \n",
       "331  http://www.alandrosenburgcpapc.co.uk  "
      ]
     },
     "execution_count": 66,
     "metadata": {},
     "output_type": "execute_result"
    }
   ],
   "source": [
    "data.loc[data['first_name'] == 'Aleshia']"
   ]
  },
  {
   "cell_type": "code",
   "execution_count": 67,
   "metadata": {},
   "outputs": [
    {
     "data": {
      "text/html": [
       "<div>\n",
       "<style>\n",
       "    .dataframe thead tr:only-child th {\n",
       "        text-align: right;\n",
       "    }\n",
       "\n",
       "    .dataframe thead th {\n",
       "        text-align: left;\n",
       "    }\n",
       "\n",
       "    .dataframe tbody tr th {\n",
       "        vertical-align: top;\n",
       "    }\n",
       "</style>\n",
       "<table border=\"1\" class=\"dataframe\">\n",
       "  <thead>\n",
       "    <tr style=\"text-align: right;\">\n",
       "      <th></th>\n",
       "      <th>first_name</th>\n",
       "      <th>address</th>\n",
       "      <th>city</th>\n",
       "    </tr>\n",
       "    <tr>\n",
       "      <th>id</th>\n",
       "      <th></th>\n",
       "      <th></th>\n",
       "      <th></th>\n",
       "    </tr>\n",
       "  </thead>\n",
       "  <tbody>\n",
       "    <tr>\n",
       "      <th>331</th>\n",
       "      <td>Aleshia</td>\n",
       "      <td>14 Taylor St</td>\n",
       "      <td>St. Stephens Ward</td>\n",
       "    </tr>\n",
       "  </tbody>\n",
       "</table>\n",
       "</div>"
      ],
      "text/plain": [
       "    first_name       address               city\n",
       "id                                             \n",
       "331    Aleshia  14 Taylor St  St. Stephens Ward"
      ]
     },
     "execution_count": 67,
     "metadata": {},
     "output_type": "execute_result"
    }
   ],
   "source": [
    "data.loc[data['first_name'] == 'Aleshia', ['first_name', 'address', 'city']]"
   ]
  },
  {
   "cell_type": "code",
   "execution_count": 68,
   "metadata": {},
   "outputs": [
    {
     "data": {
      "text/plain": [
       "id\n",
       "331    atomkiewicz@hotmail.com\n",
       "Name: email, dtype: object"
      ]
     },
     "execution_count": 68,
     "metadata": {},
     "output_type": "execute_result"
    }
   ],
   "source": [
    "data.loc[data['first_name'] == 'Aleshia', 'email']\n",
    "# returns a Series"
   ]
  },
  {
   "cell_type": "code",
   "execution_count": 69,
   "metadata": {},
   "outputs": [
    {
     "data": {
      "text/html": [
       "<div>\n",
       "<style>\n",
       "    .dataframe thead tr:only-child th {\n",
       "        text-align: right;\n",
       "    }\n",
       "\n",
       "    .dataframe thead th {\n",
       "        text-align: left;\n",
       "    }\n",
       "\n",
       "    .dataframe tbody tr th {\n",
       "        vertical-align: top;\n",
       "    }\n",
       "</style>\n",
       "<table border=\"1\" class=\"dataframe\">\n",
       "  <thead>\n",
       "    <tr style=\"text-align: right;\">\n",
       "      <th></th>\n",
       "      <th>email</th>\n",
       "    </tr>\n",
       "    <tr>\n",
       "      <th>id</th>\n",
       "      <th></th>\n",
       "    </tr>\n",
       "  </thead>\n",
       "  <tbody>\n",
       "    <tr>\n",
       "      <th>331</th>\n",
       "      <td>atomkiewicz@hotmail.com</td>\n",
       "    </tr>\n",
       "  </tbody>\n",
       "</table>\n",
       "</div>"
      ],
      "text/plain": [
       "                       email\n",
       "id                          \n",
       "331  atomkiewicz@hotmail.com"
      ]
     },
     "execution_count": 69,
     "metadata": {},
     "output_type": "execute_result"
    }
   ],
   "source": [
    "data.loc[data['first_name'] == 'Aleshia', ['email']]\n",
    "# returns a Dataframe"
   ]
  },
  {
   "cell_type": "code",
   "execution_count": 83,
   "metadata": {},
   "outputs": [
    {
     "data": {
      "text/html": [
       "<div>\n",
       "<style>\n",
       "    .dataframe thead tr:only-child th {\n",
       "        text-align: right;\n",
       "    }\n",
       "\n",
       "    .dataframe thead th {\n",
       "        text-align: left;\n",
       "    }\n",
       "\n",
       "    .dataframe tbody tr th {\n",
       "        vertical-align: top;\n",
       "    }\n",
       "</style>\n",
       "<table border=\"1\" class=\"dataframe\">\n",
       "  <thead>\n",
       "    <tr style=\"text-align: right;\">\n",
       "      <th></th>\n",
       "      <th>index</th>\n",
       "      <th>id</th>\n",
       "      <th>first_name</th>\n",
       "      <th>company_name</th>\n",
       "      <th>address</th>\n",
       "      <th>city</th>\n",
       "      <th>county</th>\n",
       "      <th>postal</th>\n",
       "      <th>phone1</th>\n",
       "      <th>phone2</th>\n",
       "      <th>email</th>\n",
       "      <th>web</th>\n",
       "    </tr>\n",
       "  </thead>\n",
       "  <tbody>\n",
       "    <tr>\n",
       "      <th>0</th>\n",
       "      <td>0</td>\n",
       "      <td>331</td>\n",
       "      <td>Aleshia</td>\n",
       "      <td>Alan D Rosenburg Cpa Pc</td>\n",
       "      <td>14 Taylor St</td>\n",
       "      <td>St. Stephens Ward</td>\n",
       "      <td>Kent</td>\n",
       "      <td>CT2 7PP</td>\n",
       "      <td>01835-703597</td>\n",
       "      <td>01944-369967</td>\n",
       "      <td>atomkiewicz@hotmail.com</td>\n",
       "      <td>http://www.alandrosenburgcpapc.co.uk</td>\n",
       "    </tr>\n",
       "    <tr>\n",
       "      <th>1</th>\n",
       "      <td>1</td>\n",
       "      <td>922</td>\n",
       "      <td>Evan</td>\n",
       "      <td>Cap Gemini America</td>\n",
       "      <td>5 Binney St</td>\n",
       "      <td>Abbey Ward</td>\n",
       "      <td>Buckinghamshire</td>\n",
       "      <td>HP11 2AX</td>\n",
       "      <td>01937-864715</td>\n",
       "      <td>01714-737668</td>\n",
       "      <td>evan.zigomalas@gmail.com</td>\n",
       "      <td>http://www.capgeminiamerica.co.uk</td>\n",
       "    </tr>\n",
       "    <tr>\n",
       "      <th>2</th>\n",
       "      <td>2</td>\n",
       "      <td>291</td>\n",
       "      <td>France</td>\n",
       "      <td>Elliott, John W Esq</td>\n",
       "      <td>8 Moor Place</td>\n",
       "      <td>East Southbourne and Tuckton W</td>\n",
       "      <td>Bournemouth</td>\n",
       "      <td>BH6 3BE</td>\n",
       "      <td>01347-368222</td>\n",
       "      <td>01935-821636</td>\n",
       "      <td>france.andrade@hotmail.com</td>\n",
       "      <td>http://www.elliottjohnwesq.co.uk</td>\n",
       "    </tr>\n",
       "  </tbody>\n",
       "</table>\n",
       "</div>"
      ],
      "text/plain": [
       "   index   id first_name             company_name       address  \\\n",
       "0      0  331    Aleshia  Alan D Rosenburg Cpa Pc  14 Taylor St   \n",
       "1      1  922       Evan       Cap Gemini America   5 Binney St   \n",
       "2      2  291     France      Elliott, John W Esq  8 Moor Place   \n",
       "\n",
       "                             city           county    postal        phone1  \\\n",
       "0               St. Stephens Ward             Kent   CT2 7PP  01835-703597   \n",
       "1                      Abbey Ward  Buckinghamshire  HP11 2AX  01937-864715   \n",
       "2  East Southbourne and Tuckton W      Bournemouth   BH6 3BE  01347-368222   \n",
       "\n",
       "         phone2                       email  \\\n",
       "0  01944-369967     atomkiewicz@hotmail.com   \n",
       "1  01714-737668    evan.zigomalas@gmail.com   \n",
       "2  01935-821636  france.andrade@hotmail.com   \n",
       "\n",
       "                                    web  \n",
       "0  http://www.alandrosenburgcpapc.co.uk  \n",
       "1     http://www.capgeminiamerica.co.uk  \n",
       "2      http://www.elliottjohnwesq.co.uk  "
      ]
     },
     "execution_count": 83,
     "metadata": {},
     "output_type": "execute_result"
    }
   ],
   "source": [
    "data.reset_index(inplace=True)\n",
    "data.head(3)"
   ]
  },
  {
   "cell_type": "code",
   "execution_count": 84,
   "metadata": {},
   "outputs": [
    {
     "name": "stdout",
     "output_type": "stream",
     "text": [
      "\n"
     ]
    }
   ],
   "source": [
    "# Select rows with first name Antonio, # and all columns between 'city' and 'email'\n",
    "data.loc[data['first_name'] == 'Antonio', 'city':'email']\n",
    " \n",
    "# Select rows where the email column ends with 'hotmail.com', include all columns\n",
    "data.loc[data['email'].str.endswith(\"hotmail.com\")]   \n",
    " \n",
    "# Select rows with last_name equal to some values, all columns\n",
    "data.loc[data['first_name'].isin(['France', 'Tyisha', 'Eric'])]   \n",
    "       \n",
    "# Select rows with first name Antonio AND hotmail email addresses\n",
    "data.loc[data['email'].str.endswith(\"gmail.com\") & (data['first_name'] == 'Antonio')] \n",
    " \n",
    "\n",
    "# A lambda function that yields True/False values can also be used.\n",
    "# Select rows where the company name has 4 words in it.\n",
    "data.loc[data['company_name'].apply(lambda x: len(x.split(' ')) == 4)] \n",
    " \n",
    "# Selections can be achieved outside of the main .loc for clarity:\n",
    "# Form a separate variable with your selections:\n",
    "idx = data['company_name'].apply(lambda x: len(x.split(' ')) == 4)\n",
    "# Select only the True values in 'idx' and only the 3 columns specified:\n",
    "data.loc[idx, ['email', 'first_name', 'company']]\n",
    "print()"
   ]
  },
  {
   "cell_type": "code",
   "execution_count": 86,
   "metadata": {},
   "outputs": [
    {
     "name": "stdout",
     "output_type": "stream",
     "text": [
      "\n"
     ]
    }
   ],
   "source": [
    "# select rows with id column between 100 and 200, and just return 'postal' and 'web' columns\n",
    "data.loc[(data['id'] > 100) & (data['id'] <= 400), ['postal', 'web']] \n",
    "print()\n",
    "\n"
   ]
  },
  {
   "cell_type": "markdown",
   "metadata": {},
   "source": [
    "https://pandas.pydata.org/pandas-docs/stable/generated/pandas.DataFrame.reset_index.html"
   ]
  },
  {
   "cell_type": "markdown",
   "metadata": {},
   "source": [
    "## Dataframe from dict"
   ]
  },
  {
   "cell_type": "code",
   "execution_count": 1,
   "metadata": {},
   "outputs": [
    {
     "name": "stdout",
     "output_type": "stream",
     "text": [
      "0    2.5\n",
      "Name: col2, dtype: float64\n",
      "0    2.5\n",
      "Name: col2, dtype: float64\n"
     ]
    }
   ],
   "source": [
    "import pandas\n",
    "\n",
    "d = {'col1': 2, 'col2': 2.5}\n",
    "df = pandas.DataFrame(data=d, index=[0])\n",
    "\n",
    "print(df['col2'])\n",
    "print(df.col2)"
   ]
  },
  {
   "cell_type": "code",
   "execution_count": 8,
   "metadata": {
    "collapsed": true
   },
   "outputs": [],
   "source": [
    "import pandas\n",
    "import matplotlib.pyplot as plt\n",
    "import numpy as np\n",
    "\n",
    "# Read in dataset\n",
    "iris = pandas.read_csv(\"data/iris.csv\")"
   ]
  },
  {
   "cell_type": "code",
   "execution_count": 15,
   "metadata": {},
   "outputs": [
    {
     "name": "stdout",
     "output_type": "stream",
     "text": [
      "    sepal_length  sepal_width  petal_length  petal_width          species\n",
      "51           5.8          2.7           5.1          1.9   Iris-virginica\n",
      "33           6.0          2.7           5.1          1.6  Iris-versicolor\n",
      "89           6.9          3.1           5.4          2.1   Iris-virginica\n",
      "76           6.2          2.8           4.8          1.8   Iris-virginica\n",
      "85           7.7          3.0           6.1          2.3   Iris-virginica\n"
     ]
    }
   ],
   "source": [
    "\n",
    "# shuffle rows\n",
    "shuffled_rows = np.random.permutation(iris.index)\n",
    "iris = iris.loc[shuffled_rows,:]\n",
    "# iris.iloc[shuffled_rows]\n",
    "print(iris.head())"
   ]
  },
  {
   "cell_type": "code",
   "execution_count": 12,
   "metadata": {},
   "outputs": [
    {
     "name": "stdout",
     "output_type": "stream",
     "text": [
      "['Iris-virginica' 'Iris-versicolor']\n"
     ]
    }
   ],
   "source": [
    "\n",
    "# There are 2 species\n",
    "print(iris.species.unique())"
   ]
  },
  {
   "cell_type": "markdown",
   "metadata": {},
   "source": [
    "## loc vs array notation"
   ]
  },
  {
   "cell_type": "markdown",
   "metadata": {},
   "source": [
    "dfmi['one'] selects the first level of the columns and returns a DataFrame that is singly-indexed. Then another python operation dfmi_with_one['second'] selects the series indexed by 'second' happens. This is indicated by the variable dfmi_with_one because pandas sees these operations as separate events. e.g. separate calls to __getitem__, so it has to treat them as linear operations, they happen one after another.\n",
    "\n",
    "Contrast this to df.loc[:,('one','second')] which passes a nested tuple of (slice(None),('one','second')) to a single call to __getitem__. This allows pandas to deal with this as a single entity. Furthermore this order of operations can be significantly **faster**, and allows one to index both axes if so desired."
   ]
  },
  {
   "cell_type": "markdown",
   "metadata": {},
   "source": [
    "# np.numpy.column_stack newaxis and reshape"
   ]
  },
  {
   "cell_type": "markdown",
   "metadata": {},
   "source": [
    "To transpose or reshape a (n,) shape array, you need to use np.newaxis."
   ]
  },
  {
   "cell_type": "code",
   "execution_count": 5,
   "metadata": {},
   "outputs": [
    {
     "name": "stdout",
     "output_type": "stream",
     "text": [
      "(4,)\n"
     ]
    },
    {
     "data": {
      "text/plain": [
       "(4,)"
      ]
     },
     "execution_count": 5,
     "metadata": {},
     "output_type": "execute_result"
    }
   ],
   "source": [
    "y = np.array([1,2,3,4])\n",
    "z = np.array([2,2,2,2])\n",
    "y*z\n",
    "print(y.shape)\n",
    "d = np.transpose(y)\n",
    "d.shape"
   ]
  },
  {
   "cell_type": "code",
   "execution_count": 6,
   "metadata": {},
   "outputs": [],
   "source": [
    "y = y[:, np.newaxis]\n",
    "z = z[:, np.newaxis]"
   ]
  },
  {
   "cell_type": "code",
   "execution_count": 7,
   "metadata": {},
   "outputs": [
    {
     "data": {
      "text/plain": [
       "array([[2],\n",
       "       [4],\n",
       "       [6],\n",
       "       [8]])"
      ]
     },
     "execution_count": 7,
     "metadata": {},
     "output_type": "execute_result"
    }
   ],
   "source": [
    "y*z"
   ]
  },
  {
   "cell_type": "code",
   "execution_count": null,
   "metadata": {
    "collapsed": true
   },
   "outputs": [],
   "source": []
  },
  {
   "cell_type": "code",
   "execution_count": 2,
   "metadata": {},
   "outputs": [
    {
     "data": {
      "text/plain": [
       "array([[1, 2],\n",
       "       [2, 3],\n",
       "       [3, 4]])"
      ]
     },
     "execution_count": 2,
     "metadata": {},
     "output_type": "execute_result"
    }
   ],
   "source": [
    "import numpy as np\n",
    "a = np.array((1,2,3))\n",
    "b = np.array((2,3,4))\n",
    "np.column_stack((a,b))"
   ]
  },
  {
   "cell_type": "code",
   "execution_count": 36,
   "metadata": {},
   "outputs": [
    {
     "data": {
      "text/plain": [
       "array([1, 2])"
      ]
     },
     "execution_count": 36,
     "metadata": {},
     "output_type": "execute_result"
    }
   ],
   "source": [
    "import numpy as np\n",
    "x = np.array([[1],[2]])\n",
    "y =  np.array([1,2])\n",
    "y"
   ]
  },
  {
   "cell_type": "code",
   "execution_count": 37,
   "metadata": {},
   "outputs": [
    {
     "data": {
      "text/plain": [
       "array([[1],\n",
       "       [2]])"
      ]
     },
     "execution_count": 37,
     "metadata": {},
     "output_type": "execute_result"
    }
   ],
   "source": [
    "z = y[:,np.newaxis]\n",
    "z"
   ]
  },
  {
   "cell_type": "code",
   "execution_count": 44,
   "metadata": {},
   "outputs": [
    {
     "data": {
      "text/plain": [
       "array([[1],\n",
       "       [2]])"
      ]
     },
     "execution_count": 44,
     "metadata": {},
     "output_type": "execute_result"
    }
   ],
   "source": [
    "# the previous statement is the same as y.reshape\n",
    "z = y.reshape(2, 1)\n",
    "z"
   ]
  },
  {
   "cell_type": "code",
   "execution_count": 47,
   "metadata": {},
   "outputs": [
    {
     "data": {
      "text/plain": [
       "array([[[1],\n",
       "        [2]]])"
      ]
     },
     "execution_count": 47,
     "metadata": {},
     "output_type": "execute_result"
    }
   ],
   "source": [
    "l = z[np.newaxis,:]\n",
    "l"
   ]
  },
  {
   "cell_type": "code",
   "execution_count": 45,
   "metadata": {},
   "outputs": [
    {
     "name": "stdout",
     "output_type": "stream",
     "text": [
      "we can now compute x * z\n",
      "[[1]\n",
      " [4]]\n"
     ]
    }
   ],
   "source": [
    "print('we can now compute x * z')\n",
    "print(x*z)"
   ]
  },
  {
   "cell_type": "code",
   "execution_count": 40,
   "metadata": {},
   "outputs": [
    {
     "data": {
      "text/plain": [
       "array([1, 2])"
      ]
     },
     "execution_count": 40,
     "metadata": {},
     "output_type": "execute_result"
    }
   ],
   "source": [
    "z = z.reshape(2,)\n",
    "z"
   ]
  },
  {
   "cell_type": "code",
   "execution_count": 41,
   "metadata": {},
   "outputs": [
    {
     "data": {
      "text/plain": [
       "array([[1, 2]])"
      ]
     },
     "execution_count": 41,
     "metadata": {},
     "output_type": "execute_result"
    }
   ],
   "source": [
    "# if you specify a parameter for the column you end with a 2 dim array\n",
    "w = z.reshape(1,2)\n",
    "w"
   ]
  },
  {
   "cell_type": "markdown",
   "metadata": {},
   "source": [
    "## center"
   ]
  },
  {
   "cell_type": "code",
   "execution_count": 37,
   "metadata": {},
   "outputs": [
    {
     "name": "stdout",
     "output_type": "stream",
     "text": [
      "str.center(40, 'a') :  aaaathis is string example....wow!!!aaaa\n"
     ]
    }
   ],
   "source": [
    "str = \"this is string example....wow!!!\"\n",
    "print(\"str.center(40, 'a') : \", str.center(40, 'a'))"
   ]
  },
  {
   "cell_type": "raw",
   "metadata": {},
   "source": [
    "N, M = map(int,input().split()) # More than 6 lines of code will result in 0 score. Blank lines are not counted.\n",
    "for i in range(1,N,2): \n",
    "    print #Enter Code Here\n",
    "print #Enter Code Here\n",
    "for i in range(N-2,-1,-2): \n",
    "    print #Enter Code Here"
   ]
  },
  {
   "cell_type": "markdown",
   "metadata": {},
   "source": [
    "## textwrap"
   ]
  },
  {
   "cell_type": "code",
   "execution_count": 1,
   "metadata": {},
   "outputs": [
    {
     "name": "stdout",
     "output_type": "stream",
     "text": [
      "This\n",
      "is a\n",
      "very\n",
      "very\n",
      "very\n",
      "very\n",
      "very\n",
      "long\n",
      "stri\n",
      "ng.\n",
      "['This', 'is a', 'very', 'very', 'very', 'very', 'very', 'long', 'stri', 'ng.']\n"
     ]
    }
   ],
   "source": [
    "import textwrap\n",
    "s = \"This is a very very very very very long string.\"\n",
    "w = 4\n",
    "print(textwrap.fill(s,w))\n",
    "print(textwrap.wrap(s,w))"
   ]
  },
  {
   "cell_type": "code",
   "execution_count": 35,
   "metadata": {},
   "outputs": [
    {
     "name": "stdout",
     "output_type": "stream",
     "text": [
      "asdlkasjdLAKDJ\n",
      "2\n",
      "as\n",
      "dl\n",
      "ka\n",
      "sj\n",
      "dL\n",
      "AK\n",
      "DJ\n"
     ]
    }
   ],
   "source": [
    "def wrap(string, max_width):\n",
    "    return textwrap.fill(string, max_width)\n",
    "string, max_width = input(), int(input())\n",
    "print(wrap(string, max_width))"
   ]
  },
  {
   "cell_type": "markdown",
   "metadata": {},
   "source": [
    "## Set"
   ]
  },
  {
   "cell_type": "raw",
   "metadata": {},
   "source": [
    ".symmetric_difference()\n",
    "\n",
    "The .symmetric_difference() operator returns a set with all the elements that are in the set and the iterable but not both.\n",
    "Sometimes, a ^ operator is used in place of the .symmetric_difference() tool, but it only operates on the set of elements in set.\n",
    "The set is immutable to the .symmetric_difference() operation (or ^ operation).\n",
    "\n",
    ">>> s = set(\"Hacker\")\n",
    ">>> print s.symmetric_difference(\"Rank\")\n",
    "set(['c', 'e', 'H', 'n', 'R', 'r'])\n",
    "\n",
    ">>> print s.symmetric_difference(set(['R', 'a', 'n', 'k']))\n",
    "set(['c', 'e', 'H', 'n', 'R', 'r'])\n",
    "\n",
    ">>> print s.symmetric_difference(['R', 'a', 'n', 'k'])\n",
    "set(['c', 'e', 'H', 'n', 'R', 'r'])\n",
    "\n",
    ">>> print s.symmetric_difference(enumerate(['R', 'a', 'n', 'k']))\n",
    "set(['a', 'c', 'e', 'H', (0, 'R'), 'r', (2, 'n'), 'k', (1, 'a'), (3, 'k')])\n",
    "\n",
    ">>> print s.symmetric_difference({\"Rank\":1})\n",
    "set(['a', 'c', 'e', 'H', 'k', 'Rank', 'r'])\n",
    "\n",
    ">>> s ^ set(\"Rank\")\n",
    "set(['c', 'e', 'H', 'n', 'R', 'r'])\n"
   ]
  },
  {
   "cell_type": "code",
   "execution_count": null,
   "metadata": {
    "collapsed": true
   },
   "outputs": [],
   "source": [
    "a, b=[set(input().split()) for i in range(2)]\n",
    "print(len(a ^ b))"
   ]
  },
  {
   "cell_type": "markdown",
   "metadata": {},
   "source": [
    "* Test a is a strict superset of all other input sets"
   ]
  },
  {
   "cell_type": "code",
   "execution_count": null,
   "metadata": {
    "collapsed": true
   },
   "outputs": [],
   "source": [
    "a = set(input().split())\n",
    "print(all(a > set(input().split()) for _ in range(int(input()))))"
   ]
  },
  {
   "cell_type": "markdown",
   "metadata": {},
   "source": [
    "## Sorted"
   ]
  },
  {
   "cell_type": "code",
   "execution_count": 48,
   "metadata": {},
   "outputs": [
    {
     "name": "stdout",
     "output_type": "stream",
     "text": [
      "['u', 'o', 'i', 'e', 'a']\n"
     ]
    }
   ],
   "source": [
    "\n",
    "# set\n",
    "pySet = {'e', 'a', 'u', 'o', 'i'}\n",
    "print(sorted(pySet, reverse=True))"
   ]
  },
  {
   "cell_type": "markdown",
   "metadata": {},
   "source": [
    "### Sort can be based on a function"
   ]
  },
  {
   "cell_type": "code",
   "execution_count": 65,
   "metadata": {},
   "outputs": [
    {
     "data": {
      "text/plain": [
       "[('a', 2), ('e', 1), ('i', 5), ('o', 4), ('u', 3)]"
      ]
     },
     "execution_count": 65,
     "metadata": {},
     "output_type": "execute_result"
    }
   ],
   "source": [
    "# dictionary sorted from keys\n",
    "pyDict = {'e': 1, 'a': 2, 'u': 3, 'o': 4, 'i': 5}\n",
    "list_items = sorted(pyDict.items(), key = lambda x: x[0] )\n",
    "list_items"
   ]
  },
  {
   "cell_type": "code",
   "execution_count": 66,
   "metadata": {},
   "outputs": [
    {
     "data": {
      "text/plain": [
       "[('e', 1), ('a', 2), ('u', 3), ('o', 4), ('i', 5)]"
      ]
     },
     "execution_count": 66,
     "metadata": {},
     "output_type": "execute_result"
    }
   ],
   "source": [
    "# dictionary sorted from values\n",
    "pyDict = {'e': 1, 'a': 2, 'u': 3, 'o': 4, 'i': 5}\n",
    "list_tup = sorted(pyDict.items(), key = lambda x: x[1] )\n",
    "list_tup"
   ]
  },
  {
   "cell_type": "code",
   "execution_count": 67,
   "metadata": {},
   "outputs": [
    {
     "data": {
      "text/plain": [
       "[('b', 1), ('e', 1), ('a', 2), ('u', 3), ('i', 5)]"
      ]
     },
     "execution_count": 67,
     "metadata": {},
     "output_type": "execute_result"
    }
   ],
   "source": [
    "# dictionary sorted first from values then from keys if values are the same\n",
    "pyDict = {'e': 1, 'a': 2, 'u': 3, 'b': 1, 'i': 5}\n",
    "list_items = sorted(pyDict.items(), key = lambda x: (x[1], x[0]) )\n",
    "list_items"
   ]
  },
  {
   "cell_type": "code",
   "execution_count": 68,
   "metadata": {},
   "outputs": [
    {
     "data": {
      "text/plain": [
       "[('i', 5), ('u', 3), ('a', 2), ('b', 1), ('e', 1)]"
      ]
     },
     "execution_count": 68,
     "metadata": {},
     "output_type": "execute_result"
    }
   ],
   "source": [
    "# dictionary sorted first from descending values then from keys if values are the same\n",
    "pyDict = {'e': 1, 'a': 2, 'u': 3, 'b': 1, 'i': 5}\n",
    "list_items = sorted(pyDict.items(), key = lambda x: (-x[1], x[0]) )\n",
    "list_items"
   ]
  },
  {
   "cell_type": "markdown",
   "metadata": {},
   "source": [
    "## Reverse sorted list"
   ]
  },
  {
   "cell_type": "code",
   "execution_count": 69,
   "metadata": {},
   "outputs": [
    {
     "data": {
      "text/plain": [
       "['abracadabra', 'hello', 'hi']"
      ]
     },
     "execution_count": 69,
     "metadata": {},
     "output_type": "execute_result"
    }
   ],
   "source": [
    "my_list = ['hello', 'abracadabra', 'hi']\n",
    "sorted(my_list, key = len, reverse = True)"
   ]
  },
  {
   "cell_type": "markdown",
   "metadata": {},
   "source": [
    "## Dictionary"
   ]
  },
  {
   "cell_type": "markdown",
   "metadata": {},
   "source": [
    "### From a list of tuples"
   ]
  },
  {
   "cell_type": "code",
   "execution_count": 71,
   "metadata": {},
   "outputs": [
    {
     "data": {
      "text/plain": [
       "{'a': 2, 'e': 1, 'i': 5, 'o': 4, 'u': 3}"
      ]
     },
     "execution_count": 71,
     "metadata": {},
     "output_type": "execute_result"
    }
   ],
   "source": [
    "list_tup = [('e', 1), ('a', 2), ('u', 3), ('o', 4), ('i', 5)]\n",
    "dict(list_tup)"
   ]
  },
  {
   "cell_type": "markdown",
   "metadata": {},
   "source": [
    "### from a list of keys and a list of values"
   ]
  },
  {
   "cell_type": "code",
   "execution_count": 75,
   "metadata": {},
   "outputs": [
    {
     "data": {
      "text/plain": [
       "{'a': 3, 'b': 5, 'c': 1}"
      ]
     },
     "execution_count": 75,
     "metadata": {},
     "output_type": "execute_result"
    }
   ],
   "source": [
    "keys = ['a', 'b', 'c']\n",
    "values = [3, 5, 1]\n",
    "dict(zip(keys, values))"
   ]
  },
  {
   "cell_type": "markdown",
   "metadata": {},
   "source": [
    "## Itertools groupby"
   ]
  },
  {
   "cell_type": "markdown",
   "metadata": {},
   "source": [
    "# The collections Package\n",
    "\n",
    "## Counter"
   ]
  },
  {
   "cell_type": "code",
   "execution_count": 32,
   "metadata": {},
   "outputs": [
    {
     "name": "stdout",
     "output_type": "stream",
     "text": [
      "Counter({'k': 6, 'a': 3, 'h': 3, 'j': 3, 'l': 3, 'b': 3, 's': 1})\n"
     ]
    }
   ],
   "source": [
    "from collections import Counter\n",
    "\n",
    "\n",
    "s = 'aaahhhjjjkskkkkklllbbb'\n",
    "c = Counter(s)\n",
    "print(c)"
   ]
  },
  {
   "cell_type": "markdown",
   "metadata": {},
   "source": [
    "### Counter.most_common() "
   ]
  },
  {
   "cell_type": "code",
   "execution_count": 76,
   "metadata": {},
   "outputs": [
    {
     "data": {
      "text/plain": [
       "[('a', 5), ('r', 2), ('b', 2)]"
      ]
     },
     "execution_count": 76,
     "metadata": {},
     "output_type": "execute_result"
    }
   ],
   "source": [
    "from collections import Counter\n",
    "Counter('abracadabra').most_common(3)\n",
    "[('a', 5), ('r', 2), ('b', 2)]"
   ]
  },
  {
   "cell_type": "code",
   "execution_count": 84,
   "metadata": {},
   "outputs": [
    {
     "data": {
      "text/plain": [
       "[('the', 1091),\n",
       " ('and', 969),\n",
       " ('to', 767),\n",
       " ('of', 675),\n",
       " ('i', 633),\n",
       " ('a', 571),\n",
       " ('you', 558),\n",
       " ('my', 520),\n",
       " ('in', 451),\n",
       " ('it', 421)]"
      ]
     },
     "execution_count": 84,
     "metadata": {},
     "output_type": "execute_result"
    }
   ],
   "source": [
    "import re\n",
    "words = re.findall(r'\\w+', open('data/hamlet.txt').read().lower())\n",
    "Counter(words).most_common(10)\n",
    "# [('the', 1143), ('and', 966), ('to', 762), ('of', 669), ('i', 631),\n",
    "# ('you', 554),  ('a', 546), ('my', 514), ('hamlet', 471), ('in', 451)]"
   ]
  },
  {
   "cell_type": "markdown",
   "metadata": {},
   "source": [
    "\n",
    "#### Warning! \n",
    "\n",
    "works differently in Python 2 and Python 3.\n",
    "\n",
    "1) In Python 3, if multiple elements have the same count, a random subset will be returned, in a random order.\n",
    "\n",
    "2) In Python 2, if multiple elements have the same count, the set will be ordered, top N elements will be returned, but in a random order. You will always get \"a,b,c\" from the alphabet, but you might get \"b,a,c\" or \"c,a,b\",etc. Not so in Python 3.\n",
    "\n",
    "As an example: Imagine you want to print the three more commun letters in a string. If 2 or more letters appear the same amount of times in the string, you want them to be ordered alphabetically: You cannot use the most_common() method to pick up the most common letters alphabetically ordered() from a string as you will get a wrong result with Python3:"
   ]
  },
  {
   "cell_type": "code",
   "execution_count": 77,
   "metadata": {},
   "outputs": [
    {
     "data": {
      "text/plain": [
       "[('k', 6), ('a', 3), ('h', 3)]"
      ]
     },
     "execution_count": 77,
     "metadata": {},
     "output_type": "execute_result"
    }
   ],
   "source": [
    "from collections import Counter\n",
    "\n",
    "s = 'aaahhhjjjkskkkkklllbbb'\n",
    "c = Counter(s)\n",
    "c.most_common(3)"
   ]
  },
  {
   "cell_type": "markdown",
   "metadata": {},
   "source": [
    "We want 'b' to be printed instead of 'h'. You can get this right using:"
   ]
  },
  {
   "cell_type": "code",
   "execution_count": 49,
   "metadata": {},
   "outputs": [
    {
     "name": "stdout",
     "output_type": "stream",
     "text": [
      "Help on built-in function sorted in module builtins:\n",
      "\n",
      "sorted(iterable, /, *, key=None, reverse=False)\n",
      "    Return a new list containing all items from the iterable in ascending order.\n",
      "    \n",
      "    A custom key function can be supplied to customize the sort order, and the\n",
      "    reverse flag can be set to request the result in descending order.\n",
      "\n"
     ]
    }
   ],
   "source": [
    "help(sorted)"
   ]
  },
  {
   "cell_type": "code",
   "execution_count": 81,
   "metadata": {},
   "outputs": [
    {
     "data": {
      "text/plain": [
       "[('k', 6), ('a', 3), ('b', 3)]"
      ]
     },
     "execution_count": 81,
     "metadata": {},
     "output_type": "execute_result"
    }
   ],
   "source": [
    "# sorted(iterable, function)\n",
    "# Sort items from the dictionary c (c.items() return a list of tuples: (dict_key, dict_value)), \n",
    "# sort is based on descending values (-x[1]) and if values are the same for items\n",
    "# sort is based on the dict keys (x[0]). \n",
    "sort_list = sorted(c.items(), key=lambda x: (-x[1], x[0]))\n",
    "sort_list[:3]"
   ]
  },
  {
   "cell_type": "markdown",
   "metadata": {},
   "source": [
    "Finf out the only number that is not repeated.\n",
    "\n",
    "Sample Input\n",
    "\n",
    "1 2 3 6 5 4 4 2 5 3 6 1 6 5 3 2 4 1 2 5 1 4 3 6 8 4 3 1 5 6 2 \n",
    "\n",
    "Sample Output\n",
    "\n",
    "8\n",
    "(the only number that is not repeated)"
   ]
  },
  {
   "cell_type": "code",
   "execution_count": null,
   "metadata": {
    "collapsed": true
   },
   "outputs": [],
   "source": [
    "from collections import Counter\n",
    "\n",
    "c = Counter(input().split())\n",
    "print(int(c.most_common()[-1][0]))\n"
   ]
  },
  {
   "cell_type": "code",
   "execution_count": null,
   "metadata": {
    "collapsed": true
   },
   "outputs": [],
   "source": [
    "from collections import Counter \n",
    " \n",
    "a = map(int, input().split())  \n",
    "nums = Counter(a)  \n",
    "print(min(nums, key=nums.get))\n"
   ]
  },
  {
   "cell_type": "markdown",
   "metadata": {},
   "source": [
    "## OrderedDict keeps the insertion order in the dict:"
   ]
  },
  {
   "cell_type": "code",
   "execution_count": 4,
   "metadata": {},
   "outputs": [
    {
     "name": "stdout",
     "output_type": "stream",
     "text": [
      "3\n",
      "pebble\n",
      "fish\n",
      "fish\n",
      "2\n",
      "1 2\n"
     ]
    }
   ],
   "source": [
    "from collections import Counter, OrderedDict\n",
    "class OrderedCounter(Counter, OrderedDict):\n",
    "    pass\n",
    "d = OrderedCounter(input() for _ in range(int(input())))\n",
    "print(len(d))\n",
    "print(*d.values())"
   ]
  },
  {
   "cell_type": "markdown",
   "metadata": {},
   "source": [
    "## deque\n",
    "\n",
    "collections.deque()\n",
    "\n",
    "A deque is a double-ended queue. It can be used to add or remove elements from both ends.\n",
    "\n",
    "Deques support thread safe, memory efficient appends and pops from either side of the deque with approximately the same performance in either direction.\n",
    "\n",
    "Sample Input\n",
    "\n",
    "* 6\n",
    "* append 1\n",
    "* append 2\n",
    "* append 3\n",
    "* appendleft 4\n",
    "* pop\n",
    "* popleft\n",
    "\n",
    "Sample Output\n",
    "\n",
    "1 2"
   ]
  },
  {
   "cell_type": "code",
   "execution_count": null,
   "metadata": {
    "collapsed": true
   },
   "outputs": [],
   "source": [
    "from collections import deque\n",
    "d = deque()\n",
    "for _ in range(int(input())):\n",
    "    cmd, *arg = input().split()\n",
    "    getattr(d, cmd)(*arg)\n",
    "print(*d)"
   ]
  },
  {
   "cell_type": "markdown",
   "metadata": {},
   "source": [
    "There is a horizontal row of cubes. The length of each cube is given. You need to create a new vertical pile of cubes.\n",
    "\n",
    "When stacking the cubes, you can only pick up either the leftmost or the rightmost cube each time. Print \"Yes\" if it is possible to stack the cubes. Otherwise, print \"No\". \n",
    "\n",
    "Sample Input\n",
    "\n",
    "2\n",
    "6\n",
    "4 3 2 1 3 4\n",
    "3\n",
    "1 3 2\n",
    "\n",
    "Sample Output\n",
    "\n",
    "Yes\n",
    "No\n"
   ]
  },
  {
   "cell_type": "code",
   "execution_count": null,
   "metadata": {
    "collapsed": true
   },
   "outputs": [],
   "source": [
    "from collections import deque\n",
    "nb_d = int(input())\n",
    "for _ in range(nb_d):\n",
    "    n, deq = int(input()), deque(input().split())\n",
    "\n",
    "    for cube in reversed(sorted(deq)):\n",
    "   \n",
    "        if cube == deq[0]:\n",
    "            deq.popleft()\n",
    "        elif cube == deq[-1]:\n",
    "            deq.pop()\n",
    "        else:\n",
    "            print('No')\n",
    "            break\n",
    "    else:\n",
    "        print(\"Yes\")"
   ]
  },
  {
   "cell_type": "markdown",
   "metadata": {},
   "source": [
    "## Convert a tuple to a string"
   ]
  },
  {
   "cell_type": "code",
   "execution_count": 92,
   "metadata": {},
   "outputs": [
    {
     "data": {
      "text/plain": [
       "'1 2 5 4 3'"
      ]
     },
     "execution_count": 92,
     "metadata": {},
     "output_type": "execute_result"
    }
   ],
   "source": [
    "tup = (1, 2, 5, 4, 3)\n",
    "tup = tuple(map(str, tup))\n",
    "string = \" \".join(tup)\n",
    "string"
   ]
  },
  {
   "cell_type": "markdown",
   "metadata": {},
   "source": [
    "## Display a tuple"
   ]
  },
  {
   "cell_type": "code",
   "execution_count": 88,
   "metadata": {},
   "outputs": [
    {
     "name": "stdout",
     "output_type": "stream",
     "text": [
      "1;2;5;4;3\n"
     ]
    }
   ],
   "source": [
    "tup = (1, 2, 5, 4, 3)\n",
    "print(*tup, sep=\";\")"
   ]
  },
  {
   "cell_type": "code",
   "execution_count": 89,
   "metadata": {},
   "outputs": [
    {
     "name": "stdout",
     "output_type": "stream",
     "text": [
      "k 6\n",
      "a 3\n",
      "b 3\n"
     ]
    }
   ],
   "source": [
    "tup = [('k', 6), ('a', 3), ('b', 3)]\n",
    "# iterate over the 3 first tuples from sort_list:\n",
    "for tup in sort_list[:3]:\n",
    "    # tup = tuple(map(str, tup))\n",
    "    # print(\" \".join(tup))\n",
    "    print(*tup)"
   ]
  },
  {
   "cell_type": "markdown",
   "metadata": {},
   "source": [
    "## Generator"
   ]
  },
  {
   "cell_type": "code",
   "execution_count": 38,
   "metadata": {},
   "outputs": [
    {
     "name": "stdout",
     "output_type": "stream",
     "text": [
      "1 1 2 3\n"
     ]
    }
   ],
   "source": [
    "element = (1, 1, 2, 3)\n",
    "print(\" \".join(str(e) for e in element))"
   ]
  },
  {
   "cell_type": "markdown",
   "metadata": {},
   "source": [
    "## How to replace characters in a string using a dictionary (keys standing for chars and values for replacement"
   ]
  },
  {
   "cell_type": "code",
   "execution_count": 11,
   "metadata": {},
   "outputs": [
    {
     "data": {
      "text/plain": [
       "'123pewwu.jpg'"
      ]
     },
     "execution_count": 11,
     "metadata": {},
     "output_type": "execute_result"
    }
   ],
   "source": [
    "# Create a dictionary from 2 lists (keys and values)\n",
    "dict2 = dict(zip(list('hlo'),list('pwu')))\n",
    "table = str.maketrans(dict2)\n",
    "'123hello.jpg'.translate(table)"
   ]
  },
  {
   "cell_type": "code",
   "execution_count": 10,
   "metadata": {},
   "outputs": [
    {
     "data": {
      "text/plain": [
       "'hello.jpg'"
      ]
     },
     "execution_count": 10,
     "metadata": {},
     "output_type": "execute_result"
    }
   ],
   "source": [
    "# Create a dictionary from keys with None value. \n",
    "table = str.maketrans(dict.fromkeys('0123456789'))\n",
    "# Replace the specified char with \"\" (None)\n",
    "'123hello.jpg'.translate(table)"
   ]
  },
  {
   "cell_type": "markdown",
   "metadata": {},
   "source": [
    "### More details"
   ]
  },
  {
   "cell_type": "code",
   "execution_count": 5,
   "metadata": {},
   "outputs": [
    {
     "data": {
      "text/plain": [
       "{'0': None,\n",
       " '1': None,\n",
       " '2': None,\n",
       " '3': None,\n",
       " '4': None,\n",
       " '5': None,\n",
       " '6': None,\n",
       " '7': None,\n",
       " '8': None,\n",
       " '9': None}"
      ]
     },
     "execution_count": 5,
     "metadata": {},
     "output_type": "execute_result"
    }
   ],
   "source": [
    "# Building a dictionary with the fromkeys method:\n",
    "dict.fromkeys('0123456789')"
   ]
  },
  {
   "cell_type": "code",
   "execution_count": 19,
   "metadata": {},
   "outputs": [
    {
     "data": {
      "text/plain": [
       "{48: None,\n",
       " 49: None,\n",
       " 50: None,\n",
       " 51: None,\n",
       " 52: None,\n",
       " 53: None,\n",
       " 54: None,\n",
       " 55: None,\n",
       " 56: None,\n",
       " 57: None}"
      ]
     },
     "execution_count": 19,
     "metadata": {},
     "output_type": "execute_result"
    }
   ],
   "source": [
    "# Translating keys to unicode numbers\n",
    "str.maketrans(dict.fromkeys('0123456789'))"
   ]
  },
  {
   "cell_type": "code",
   "execution_count": 13,
   "metadata": {},
   "outputs": [
    {
     "data": {
      "text/plain": [
       "{104: 'p', 108: 'w', 111: 'u'}"
      ]
     },
     "execution_count": 13,
     "metadata": {},
     "output_type": "execute_result"
    }
   ],
   "source": [
    "str.maketrans(dict2)"
   ]
  },
  {
   "cell_type": "markdown",
   "metadata": {},
   "source": [
    "# Regexp\n",
    "\n",
    "## Search\n",
    "\n"
   ]
  },
  {
   "cell_type": "code",
   "execution_count": 4,
   "metadata": {},
   "outputs": [
    {
     "data": {
      "text/plain": [
       "['War of 1812', 'Happy New Year 2016!']"
      ]
     },
     "execution_count": 4,
     "metadata": {},
     "output_type": "execute_result"
    }
   ],
   "source": [
    "import re\n",
    "year_strings = []\n",
    "strings = ['War of 1812', 'There are 5280 feet to a mile', 'Happy New Year 2016!']\n",
    "for string in strings:\n",
    "    new = re.search(\"[1-2][0-9]{3}\", string)\n",
    "    if new is not None:\n",
    "        year_strings.append(string)\n",
    "year_strings\n"
   ]
  },
  {
   "cell_type": "markdown",
   "metadata": {},
   "source": [
    "Search for tags in posts and count them: [Serious], (Serious),[serious] or (serious). We assume that there is up to one tag in each string."
   ]
  },
  {
   "cell_type": "code",
   "execution_count": 7,
   "metadata": {},
   "outputs": [
    {
     "data": {
      "text/plain": [
       "9"
      ]
     },
     "execution_count": 7,
     "metadata": {},
     "output_type": "execute_result"
    }
   ],
   "source": [
    "import re\n",
    "posts = [['What\\'s your internet \"white whale\", something you\\'ve been searching for years to find with no luck?', '11510', '1433213314.0', '1', '26195'], [\"What's your favorite video that is 10 seconds or less?\", '8656', '1434205517.0', '4', '8479'], ['What are some interesting tests you can take to find out about yourself?', '8480', '1443409636.0', '1', '4055'], [\"PhD's of Reddit. What is a dumbed down summary of your thesis?\", '7927', '1440188623.0', '0', '13201'], ['What is cool to be good at, yet uncool to be REALLY good at?', '7711', '1440082910.0', '0', '20325'], ['[Serious] Redditors currently in a relationship, besides dinner and a movie, what are your favorite activities for date night?', '7598', '1439993280.0', '2', '5389'],  [\"Parents of Reddit, what's something that your kid has done that you pretended to be angry about but secretly impressed or amused you?\", '7553', '1439161809.0', '0', '11520'], ['What is a good subreddit to binge read the All Time Top Posts of?', '7498', '1438822288.0', '0', '2780'], ['What would the person who named Walkie Talkies have named other items?', '7501', '1447904351.0', '4', '6720'], [\"People who grew up in a different socioeconomic class as your significant others, what are the notable differences you've noticed and how does it affect your relationship (if at all)?\", '7419', '1440358069.0', '0', '8603'], ['What are the best YouTube channels to binge watch ?', '7311', '1448550352.0', '0', '10306'], [\"What website could you recommend that most probably haven't heard of?\", '7192', '1436444823.0', '0', '10336'], ['(Serious) At the end of a job interview when they ask me, \"So, do you have any questions?\", what are some genuinely good questions to ask?', '7133', '1431063658.0', '1', '5850'], ['What do insanely poor people buy, that ordinary people know nothing about?', '6850', '1421181185.0', '2', '21559'], ['Announcing a small contest to promote originality', '6796', '1426377669.0', '1', '1348'], ['What small websites do more people need to be aware of?', '6784', '1423497852.0', '0', '4131'], ['What is that one trick that \"they\" really don\\'t want you to know? [Serious]', '6701', '1444844927.0', '0', '17724'], [\"Who is the scariest person you've ever met?\", '6689', '1439520757.0', '0', '9234'], ['What was your \"I don\\'t get paid enough for this shit\" moment?', '6596', '1439947180.0', '0', '11815'], ['What gets weirder and weirder the more you think about it?', '6538', '1439545860.0', '1', '12762'], ['[Serious] Redditors who want Trump to become president, why?', '6526', '1439138685.0', '0', '14580'], [\"What's your favourite movie that most of us wouldn't have even ever heard of?\", '6472', '1439899943.0', '0', '19050'], ['(Serious) People of Reddit who have HIV/AIDS, when did you realize something was wrong?', '6472', '1439213819.0', '0', '4296'], ['What cities ARE worth visiting?', '6451', '1439291187.0', '0', '16953'], [\"People who lived in Compton in the mid to late 80's, was it really as it is depicted by N.W.A? What are some crazy things that you witnessed?\", '6410', '1440564883.0', '0', '4515'], ['What small websites do you visit?', '6400', '1440020488.0', '1', '4731'], ['[Serious] What are some great apps for smartphones that people might not be aware of?', '6346', '1443887658.0', '0', '7833'], [\"What fact or statistic seems like obvious exaggeration, but isn't?\", '6320', '1448885731.0', '0', '23159'], ['Reddit, what was your \"It\\'s totally not a phase, mom/dad!\" that ended up being just a phase?', '6271', '1439906197.0', '0', '14115'], ['If your life depended on getting someone to laugh, which youtube video would you show them?', '6267', '1422612478.0', '1', '6023'], ['What are the best text-based subreddits to kill time reading?', '6210', '1445251377.0', '0', '2477'], ['What was the first event that disproved your childhood belief that the world is a safe place?', '6192', '1439642253.0', '0', '10824'], [\"What's the cleanest, least offensive, funniest joke you know?\", '6162', '1439568880.0', '0', '4692'], ['If you could send an anonymous text to yourself 5 years ago, what would you write?', '6109', '1439985692.0', '0', '13735'], ['Redditors who have met a former crush years later, how did it turn out?', '6110', '1439735429.0', '0', '8530'], ['What are the best computer hackers able to do right now that most people are unaware of?', '6113', '1449128988.0', '0', '8267'], ['What is a short (<1min) video that always cracks you up?', '6073', '1445810268.0', '0', '9164'], ['REMINDER: Only the dark side posts spoilers without a spoiler tag. Please, use the spoiler tag!', '6089', '1450212277.0', '0', '1058'], ['[Serious] people who have twin siblings but are not a twin themselves, how is your relationship with your twin brothers or sisters?', '6050', '1439856706.0', '0', '3110'], ['[serious] Therapists/psychiatrists of reddit: what is something that most people think they are alone in experiencing/feeling/thinking?', '6045', '1447844725.0', '2', '7019'], ['How would you go about making an extra $500 a month (outside of your normal salary)?', '6046', '1441194071.0', '1', '16944'], ['What is the scariest *real* organization in the world?', '6019', '1446583374.0', '1', '14091'], ['What was your biggest \"shit, my parents were right\" moment?', '6007', '1446384482.0', '0', '18033'], [\"Reddit, What lesser known Apps can't you live without?\", '5988', '1432728287.0', '2', '13726'], [\"[Serious] What's the creepiest TRUE story that happened to you or someone you know?\", '5982', '1439744268.0', '0', '8358'], ['How do you subtly fuck with people?', '5978', '1438996121.0', '0', '9304'], ['What is a cool qualification that you can easily get?', '5972', '1431453813.0', '0', '6381'], [\"What's considered trashy if you're poor, but classy if you're rich?\", '5951', '1443233511.0', '0', '8182'], ['If all of a sudden all humans simultaneously lost the ability to sneeze, how long do you think it would take mankind as a collective to realize?', '5943', '1423787549.0', '7', '4427'], ['Teachers of reddit, what is the greatest way a student has misinterpreted one of your assignments?', '5937', '1447697520.0', '0', '10289'], [\"Fathers of Reddit, what did your daughter's boyfriend do for you to hate/love him?\", '5924', '1440582629.0', '0', '9878'], [\"Redditors who spend a lot of time in seclusion (at sea, in the air or out in the wilderness) what's the creepiest or most mysterious thing you've seen, found or experienced?\", '5922', '1444699740.0', '1', '15873'], ['What is the best game to play in a web browser?', '5903', '1429904281.0', '1', '8812'], ['What should not be considered OK, but is often encouraged?', '5878', '1440154625.0', '0', '18115'], ['People who live near famous tourist destinations, what is something the average person should know?', '5867', '1438276265.0', '0', '25806'], ['What is your go-to random fact?', '5860', '1436984888.0', '0', '14637'], [\"What's the most calculated thing you've ever seen an animal do?\", '5872', '1448910548.0', '1', '8094'], ['How do you subtly fuck with people?', '5829', '1421966837.0', '1', '15419'], ['What mobile app has actually had a legitimate positive impact on your life?', '5831', '1449174161.0', '0', '10961'], [\"Commercial airplane pilots, what's the closest disaster you've averted while on a flight that the passengers had no idea about? How often do these things happen?\", '5799', '1440418465.0', '0', '4947'], ['What items would be inside a Second Aid Kit?', '5796', '1439338307.0', '0', '2900'], [\"What's a short, clean joke that gets a laugh every time?\", '5779', '1426597584.0', '2', '12007'], ['Who ruined something as thoroughly as Hitler ruined the toothbrush moustache?', '5783', '1442166787.0', '0', '12134'], ['What movie do you quote/reference the most?', '5767', '1438871651.0', '0', '17507'], ['If Dr. Seuss was a real doctor, what would his diagnoses sound like?', '5767', '1440330433.0', '0', '1658'], ['What food is not as bad for you as most people believe?', '5755', '1439809974.0', '0', '12801'], [\"What is the smallest lie you've ever told which had the biggest consequences?\", '5750', '1447943291.0', '0', '7011'], ['What was the biggest bluff in history?', '5725', '1435489814.0', '1', '8625'], ['What is never going to stop being funny?', '5733', '1441137267.0', '0', '12692'], ['Parent of a \"weird kid\", how did you react when you realized that your kid did weird/creepy stuff?', '5720', '1440515374.0', '0', '5997'], ['What piece of stand up comedy (10 minutes or less) has successfully made you cry with laughter?', '5700', '1437140705.0', '0', '5581'], ['What was the worst PR move in history?', '5700', '1436280395.0', '0', '14338'], ['Which song is most improved when all occurrences of \"I,\" \"me,\" \"my,\" etc. are replaced with \"Greg\"?', '5687', '1444838170.0', '6', '11183'], [\"What are common signs of not having one's shit together?\", '5687', '1449534179.0', '0', '13807'], [\"What's a good date other than dinner and a movie?\", '5681', '1450384351.0', '0', '9451'], ['What is a phrase that makes you instantly dislike someone strongly?', '5632', '1439304421.0', '0', '24533'], ['What would be a funny thing to say to a surgeon before anesthesia kicks in 5 seconds later?', '5618', '1444926824.0', '1', '8778'], ['Women who use tinder, what are you actually looking for?', '5602', '1439469826.0', '0', '11618']]\n",
    "serious_count = 0\n",
    "for row in posts:\n",
    "    if re.search(\"[(\\[\\()(Ss)]erious[(\\)\\])]\", row[0]) is not None:\n",
    "        serious_count += 1\n",
    "serious_count"
   ]
  },
  {
   "cell_type": "markdown",
   "metadata": {},
   "source": [
    "## Sub\n",
    "\n",
    "\n",
    "### Best way to get rid of punctuation using regexp"
   ]
  },
  {
   "cell_type": "code",
   "execution_count": 3,
   "metadata": {},
   "outputs": [
    {
     "name": "stdout",
     "output_type": "stream",
     "text": [
      "!\"#$%&'()*+,-./:;<=>?@[\\]^_`{|}~\n"
     ]
    }
   ],
   "source": [
    "import string\n",
    "print(string.punctuation)"
   ]
  },
  {
   "cell_type": "code",
   "execution_count": 6,
   "metadata": {},
   "outputs": [
    {
     "name": "stdout",
     "output_type": "stream",
     "text": [
      " Hello What a beautiful day how are you\n"
     ]
    }
   ],
   "source": [
    "import re\n",
    "import string\n",
    "punct = '[{}]'.format(re.escape(string.punctuation))\n",
    "# return a pattern object\n",
    "regex = re.compile(punct)\n",
    "string = \" Hello! What a beautiful day, how are you?\"\n",
    "print(regex.sub(\"\", string))"
   ]
  },
  {
   "cell_type": "markdown",
   "metadata": {},
   "source": [
    "## Get rid of lower alphabetical letters and space:"
   ]
  },
  {
   "cell_type": "code",
   "execution_count": 7,
   "metadata": {},
   "outputs": [
    {
     "name": "stdout",
     "output_type": "stream",
     "text": [
      "H!W,?\n"
     ]
    }
   ],
   "source": [
    "import re\n",
    "import string\n",
    "punct = '[{}]'.format('a-z ')\n",
    "# return a pattern object\n",
    "regex = re.compile(punct)\n",
    "s = \" Hello! What a beautiful day, how are you?\"\n",
    "print(regex.sub(\"\", string))"
   ]
  },
  {
   "cell_type": "markdown",
   "metadata": {},
   "source": [
    "## match\n",
    "### Select only specific characters:"
   ]
  },
  {
   "cell_type": "code",
   "execution_count": 9,
   "metadata": {},
   "outputs": [
    {
     "name": "stdout",
     "output_type": "stream",
     "text": [
      "matchObj.group() :  Cats are smarter than dogs\n",
      "matchObj.group(1) :  Cats\n",
      "matchObj.group(2) :  smarter\n"
     ]
    }
   ],
   "source": [
    "#!/usr/bin/python\n",
    "import re\n",
    "\n",
    "line = \"Cats are smarter than dogs\"\n",
    "\n",
    "matchObj = re.match( r'(.*) are (.*?) .*', line, re.M|re.I)\n",
    "#re.I performs case-insensitive matching.\n",
    "# re.M Makes $ match the end of a line (not just the end of the string) and \n",
    "# makes ^ match the start of any line (not just the start of the string).\n",
    "if matchObj:\n",
    "    print(\"matchObj.group() : \", matchObj.group())\n",
    "    print(\"matchObj.group(1) : \", matchObj.group(1))\n",
    "    print(\"matchObj.group(2) : \", matchObj.group(2))\n",
    "else:\n",
    "    print(\"No match!!\")"
   ]
  },
  {
   "cell_type": "markdown",
   "metadata": {},
   "source": [
    "**LE code suivant ne marhe pas avec le troisieme argument: re.M ou re.I**"
   ]
  },
  {
   "cell_type": "code",
   "execution_count": 9,
   "metadata": {},
   "outputs": [
    {
     "name": "stdout",
     "output_type": "stream",
     "text": [
      "matchObj.group() :  Cats are smarter than dogs\n",
      "matchObj.group(1) :  Cats\n",
      "matchObj.group(2) :  smarter\n"
     ]
    }
   ],
   "source": [
    "import re\n",
    "line = \"Cats are smarter than dogs\"\n",
    "regex = re.compile(r'(.*) are (.*?) .*')\n",
    "matchObj = regex.match(line)\n",
    "if matchObj:\n",
    "    print(\"matchObj.group() : \", matchObj.group())\n",
    "    print(\"matchObj.group(1) : \", matchObj.group(1))\n",
    "    print(\"matchObj.group(2) : \", matchObj.group(2))\n",
    "else:\n",
    "    print(\"No match!!\")"
   ]
  },
  {
   "cell_type": "markdown",
   "metadata": {},
   "source": [
    "## findall"
   ]
  },
  {
   "cell_type": "code",
   "execution_count": 2,
   "metadata": {},
   "outputs": [
    {
     "name": "stdout",
     "output_type": "stream",
     "text": [
      "['2015', '2016']\n"
     ]
    }
   ],
   "source": [
    "import re\n",
    "years_string = '2015 was a good year, but 2016 will be better!'\n",
    "years= re.findall(\"[1-2][0-9]{3}\", years_string)\n",
    "print(years)"
   ]
  },
  {
   "cell_type": "code",
   "execution_count": 11,
   "metadata": {},
   "outputs": [
    {
     "name": "stdout",
     "output_type": "stream",
     "text": [
      "['[', '(', ')', ']', '{', '}', '(', ')']\n"
     ]
    }
   ],
   "source": [
    "line = \" [as(dd)]{asdasd}(asd)\"\n",
    "\n",
    "pattern = re.compile('[\\{\\(\\[\\]\\)\\}]')\n",
    "final = pattern.findall(line)\n",
    "opened = ['[', '{', '(']\n",
    "closed = [']', '}', ')']\n",
    "\n",
    "print(final)"
   ]
  },
  {
   "cell_type": "markdown",
   "metadata": {},
   "source": [
    "CHeck if brackets are properly structured: \n",
    "    \n",
    "    [blah blah]{blah blah} returns True\n",
    "    ([]{}) returns True\n",
    "    )][] returns False"
   ]
  },
  {
   "cell_type": "code",
   "execution_count": 34,
   "metadata": {},
   "outputs": [
    {
     "name": "stdout",
     "output_type": "stream",
     "text": [
      "2\n",
      ")\n",
      ")\n",
      "['[', '(', ')', ']', '{', '}', '(', ')']\n",
      "1\n",
      "i 2\n",
      "['[', ']', '{', '}', '(', ')']\n",
      "0\n",
      "]\n",
      "]\n",
      "['[', ']', '{', '}', '(', ')']\n",
      "0\n",
      "i 1\n",
      "['{', '}', '(', ')']\n",
      "1\n",
      "}\n",
      "}\n",
      "['{', '}', '(', ')']\n",
      "0\n",
      "i 1\n",
      "['(', ')']\n",
      "2\n",
      ")\n",
      ")\n",
      "['(', ')']\n",
      "0\n",
      "i 1\n",
      "[]\n",
      "True\n"
     ]
    }
   ],
   "source": [
    "line = \" [as(dd)]{asdasd}(asd)\"\n",
    "\n",
    "pattern = re.compile('[\\{\\(\\[\\]\\)\\}]')\n",
    "final = pattern.findall(line)\n",
    "opened = ['[', '{', '(']\n",
    "closed = [']', '}', ')']\n",
    "\n",
    "result = True\n",
    "\n",
    "while len(final) >= 2 and result:\n",
    "    i = 0\n",
    "    while (i < len(final)) and (final[i] in opened):\n",
    "        last_opened = final[i]\n",
    "        i += 1\n",
    "\n",
    "    index_last = opened.index(last_opened)\n",
    "    if (final[i] == closed[index_last]):\n",
    "        final.pop(i-1)\n",
    "        final.pop(i-1)\n",
    "    else:\n",
    "        result = False\n",
    "    print(final)\n",
    "\n",
    "if len(final) != 0:\n",
    "    result = False\n",
    "print(result)\n",
    "    \n"
   ]
  },
  {
   "cell_type": "markdown",
   "metadata": {},
   "source": [
    "### More details"
   ]
  },
  {
   "cell_type": "code",
   "execution_count": 18,
   "metadata": {},
   "outputs": [
    {
     "name": "stdout",
     "output_type": "stream",
     "text": [
      "Help on function compile in module re:\n",
      "\n",
      "compile(pattern, flags=0)\n",
      "    Compile a regular expression pattern, returning a pattern object.\n",
      "\n"
     ]
    }
   ],
   "source": [
    "help(re.compile)"
   ]
  },
  {
   "cell_type": "markdown",
   "metadata": {},
   "source": [
    "> sub can also be used as a method, pattern objects are the result of compile method: pattern_Object.(replacementForThePattern, stringToBeProcessed): best way for optimising execution time.\n",
    "\n",
    "> It can also be used as follows but it is slower!"
   ]
  },
  {
   "cell_type": "code",
   "execution_count": 20,
   "metadata": {},
   "outputs": [
    {
     "name": "stdout",
     "output_type": "stream",
     "text": [
      "Help on function sub in module re:\n",
      "\n",
      "sub(pattern, repl, string, count=0, flags=0)\n",
      "    Return the string obtained by replacing the leftmost\n",
      "    non-overlapping occurrences of the pattern in string by the\n",
      "    replacement repl.  repl can be either a string or a callable;\n",
      "    if a string, backslash escapes in it are processed.  If it is\n",
      "    a callable, it's passed the match object and must return\n",
      "    a replacement string to be used.\n",
      "\n"
     ]
    }
   ],
   "source": [
    "help(re.sub)"
   ]
  },
  {
   "cell_type": "markdown",
   "metadata": {},
   "source": [
    "### Other methods to replace punctuation: From Stackoverflow"
   ]
  },
  {
   "cell_type": "code",
   "execution_count": 23,
   "metadata": {},
   "outputs": [
    {
     "name": "stdout",
     "output_type": "stream",
     "text": [
      "regex     : 11.503616341999077\n",
      "sets      : 3.43686759800039\n",
      "regex     : 1.2260810600000696\n",
      "translate : 5.684141095000086\n",
      "replace   : 6.976052489999347\n"
     ]
    }
   ],
   "source": [
    "import re, timeit\n",
    "\n",
    "s = \"string. With. Punctuation\"\n",
    "exclude = set(string.punctuation)\n",
    "table = str.maketrans(\"\",\"\")\n",
    "regex = re.compile('[%s]' % re.escape(string.punctuation))\n",
    "\n",
    "def test_set(s):\n",
    "    return ''.join(ch for ch in s if ch not in exclude)\n",
    "\n",
    "def test_re(s):  # From Vinko's solution, with fix.\n",
    "    return regex.sub('', s)\n",
    "\n",
    "def test_re2(s):  # From Vinko's solution, with fix.\n",
    "    return re.sub(r'[%s]' % re.escape(string.punctuation), '', s)\n",
    "\n",
    "def test_trans(s):\n",
    "    return s.translate(str.maketrans(dict.fromkeys(string.punctuation)))\n",
    "\n",
    "def test_repl(s):  # From S.Lott's solution\n",
    "    for c in string.punctuation:\n",
    "        s=s.replace(c,\"\")\n",
    "    return s\n",
    "\n",
    "print(\"regex     :\",timeit.Timer('f(s)', 'from __main__ import s,test_re2 as f').timeit(1000000))\n",
    "print(\"sets      :\",timeit.Timer('f(s)', 'from __main__ import s,test_set as f').timeit(1000000))\n",
    "print(\"regex     :\",timeit.Timer('f(s)', 'from __main__ import s,test_re as f').timeit(1000000))\n",
    "print(\"translate :\",timeit.Timer('f(s)', 'from __main__ import s,test_trans as f').timeit(1000000))\n",
    "print(\"replace   :\",timeit.Timer('f(s)', 'from __main__ import s,test_repl as f').timeit(1000000))"
   ]
  },
  {
   "cell_type": "markdown",
   "metadata": {},
   "source": [
    "## How to print ordinal numbers: first as 1st, second as 2nd"
   ]
  },
  {
   "cell_type": "code",
   "execution_count": 73,
   "metadata": {},
   "outputs": [
    {
     "name": "stdout",
     "output_type": "stream",
     "text": [
      "2nd\n"
     ]
    }
   ],
   "source": [
    "ordinal = lambda n: \"{}{}\".format(n,\"tsnrhtdd\"[(n/10%10!=1)*(n%10<4)*n%10::4])\n",
    "print(ordinal(2))"
   ]
  },
  {
   "cell_type": "markdown",
   "metadata": {},
   "source": [
    "### Old formatting way"
   ]
  },
  {
   "cell_type": "code",
   "execution_count": 12,
   "metadata": {},
   "outputs": [
    {
     "name": "stdout",
     "output_type": "stream",
     "text": [
      "3rd\n"
     ]
    }
   ],
   "source": [
    "ordinal = lambda n: \"%d%s\" % (n,\"tsnrhtdd\"[(n/10%10!=1)*(n%10<4)*n%10::4])\n",
    "print(ordinal(3))"
   ]
  },
  {
   "cell_type": "markdown",
   "metadata": {
    "collapsed": true
   },
   "source": [
    "# Pandas\n",
    "## Iterating over rows in a pandas dataframe:\n",
    "\n",
    "iterrows is a generator which yield both index and row (as a Series object)"
   ]
  },
  {
   "cell_type": "code",
   "execution_count": 7,
   "metadata": {},
   "outputs": [
    {
     "name": "stdout",
     "output_type": "stream",
     "text": [
      "0\n",
      "Show Number                                                 4680\n",
      " Air Date                                             2004-12-31\n",
      " Round                                                 Jeopardy!\n",
      " Category                                                HISTORY\n",
      " Value                                                      $200\n",
      " Question      For the last 8 years of his life, Galileo was ...\n",
      " Answer                                               Copernicus\n",
      "Name: 0, dtype: object\n",
      "1\n",
      "Show Number                                                 4680\n",
      " Air Date                                             2004-12-31\n",
      " Round                                                 Jeopardy!\n",
      " Category                        ESPN's TOP 10 ALL-TIME ATHLETES\n",
      " Value                                                      $200\n",
      " Question      No. 2: 1912 Olympian; football star at Carlisl...\n",
      " Answer                                               Jim Thorpe\n",
      "Name: 1, dtype: object\n"
     ]
    }
   ],
   "source": [
    "import pandas\n",
    "import csv\n",
    "\n",
    "jeopardy = pandas.read_csv(\"data/jeopardy.csv\")\n",
    "sample = jeopardy.head(2)\n",
    "for i, row in sample.iterrows():\n",
    "    print(i)\n",
    "    print(row)"
   ]
  },
  {
   "cell_type": "markdown",
   "metadata": {},
   "source": [
    "# math module"
   ]
  },
  {
   "cell_type": "code",
   "execution_count": 85,
   "metadata": {},
   "outputs": [
    {
     "name": "stdout",
     "output_type": "stream",
     "text": [
      "45°\n"
     ]
    }
   ],
   "source": [
    "import math\n",
    "ab = 10\n",
    "bc = 10\n",
    "# Soit un triangle ABC rectangle en B, calcul de l'angle aCb\n",
    "angle = math.atan2(bc, ab)\n",
    "print(\"{0:d}°\".format(round(math.degrees(angle))))"
   ]
  },
  {
   "cell_type": "markdown",
   "metadata": {
    "collapsed": true
   },
   "source": [
    "# Numpy\n",
    "## Matrix product Numpy"
   ]
  },
  {
   "cell_type": "markdown",
   "metadata": {
    "collapsed": true
   },
   "source": [
    "`import numpy as np\n",
    "n = int(input())\n",
    "a = np.array([input().split() for i in range(n)],dtype=np.int) \n",
    "b = np.array([input().split() for i in range(n)],dtype=np.int)\n",
    "print(np.dot(a,b))`"
   ]
  },
  {
   "cell_type": "markdown",
   "metadata": {},
   "source": [
    "## Polynomials\n",
    "\n",
    "The poly tool returns the coefficients of a polynomial with the given sequence of roots.\n",
    "\n",
    "`print numpy.poly([-1, 1, 1, 10])`        #Output : [  1 -11   9  11 -10]\n",
    "\n",
    "\n",
    "Given the coefficients of a polynomial P, find th value of P at point x.\n",
    "\n",
    "The polyval tool evaluates the polynomial at specific value:\n",
    "`import numpy\n",
    "print(numpy.polyval(numpy.array(input().split(), float), float(input())))`\n",
    "\n",
    "\n",
    "The polyfit tool fits a polynomial of a specified order to a set of data using a least-squares approach.\n",
    "\n",
    "`print numpy.polyfit([0,1,-1, 2, -2], [0,1,1, 4, 4], 2)` #Output : [  1.00000000e+00   0.00000000e+00  -3.97205465e-16]\n",
    "\n",
    "The roots tool returns the roots of a polynomial with the given coefficients.\n",
    "\n",
    "`print numpy.roots([1, 0, -1])`           #Output : [-1.  1.]\n",
    "\n",
    "\n",
    "\n",
    "\n",
    "The polyint tool returns an antiderivative (indefinite integral) of a polynomial.\n",
    "\n",
    "`print numpy.polyint([1, 1, 1])`         #Output : [ 0.33333333  0.5         1.          0.        ]\n",
    "\n",
    "\n",
    "polyder\n",
    "\n",
    "The polyder tool returns the derivative of the specified order of a polynomial.\n",
    "\n",
    "`print numpy.polyder([1, 1, 1, 1])`      #Output : [3 2 1]\n",
    "\n",
    "\n",
    "## Linear Algebra\n",
    "\n",
    "The NumPy module also comes with a number of built-in routines for linear algebra calculations. These can be found in the sub-module linalg.\n",
    "\n",
    "linalg.det\n",
    "\n",
    "The linalg.det tool computes the determinant of an array.\n",
    "\n",
    "`print numpy.linalg.det([[1 , 2], [2, 1]])`       #Output : -3.0\n",
    "\n",
    "\n",
    "You are given a square matrix with dimensions X. Your task is to find the determinant.\n",
    "\n",
    "Input Format\n",
    "\n",
    "The first line contains the integer .\n",
    "The next lines contains the space separated elements of array .\n",
    "\n",
    "Output Format\n",
    "\n",
    "Print the determinant .\n",
    "\n",
    "\n",
    "`import numpy\n",
    "n = int(input())\n",
    "a = numpy.array([input().split() for _ in range(n)], float)\n",
    "print(numpy.linalg.det(a))`\n",
    "\n",
    "linalg.eig\n",
    "\n",
    "The linalg.eig computes the eigenvalues and right eigenvectors of a square array.\n",
    "\n",
    "`vals, vecs = numpy.linalg.eig([[1 , 2], [2, 1]])`\n",
    "\n",
    "`print vals`                                      #Output : [ 3. -1.]\n",
    "\n",
    "`print vecs`                                      #Output : [[ 0.70710678 -0.70710678]\n",
    "                                                #          [ 0.70710678  0.70710678]]\n",
    "\n",
    "linalg.inv\n",
    "\n",
    "The linalg.inv tool computes the (multiplicative) inverse of a matrix.\n",
    "\n",
    "print numpy.linalg.inv([[1 , 2], [2, 1]])       #Output : [[-0.33333333  0.66666667]\n",
    "                                                #          [ 0.66666667 -0.33333333]]\n",
    "\n"
   ]
  },
  {
   "cell_type": "markdown",
   "metadata": {
    "collapsed": true
   },
   "source": [
    "## getattr(object, string)\n",
    "\n",
    "Python’s getattr function is used to fetch an attribute from an object, using a string object instead of an identifier to identify the attribute. "
   ]
  },
  {
   "cell_type": "code",
   "execution_count": 24,
   "metadata": {},
   "outputs": [
    {
     "name": "stdout",
     "output_type": "stream",
     "text": [
      "cats\n",
      "0\n"
     ]
    }
   ],
   "source": [
    "# value = obj.attribute\n",
    "obj ='CATS'\n",
    "value = getattr(obj, \"lower\")()\n",
    "print(value)\n",
    "\n",
    "# value = obj.attribute\n",
    "obj =['a', 2, 3]\n",
    "value = getattr(obj, \"index\")('a')\n",
    "print(value)"
   ]
  },
  {
   "cell_type": "markdown",
   "metadata": {},
   "source": [
    "If the attribute exists, the corresponding value is returned. If the attribute does not exist, you get an AttributeError exception instead."
   ]
  },
  {
   "cell_type": "markdown",
   "metadata": {},
   "source": [
    "# cProfile"
   ]
  },
  {
   "cell_type": "code",
   "execution_count": 14,
   "metadata": {},
   "outputs": [
    {
     "name": "stdout",
     "output_type": "stream",
     "text": [
      "         10 function calls in 0.000 seconds\n",
      "\n",
      "   Ordered by: internal time\n",
      "\n",
      "   ncalls  tottime  percall  cumtime  percall filename:lineno(function)\n",
      "        1    0.000    0.000    0.000    0.000 {built-in method builtins.compile}\n",
      "        1    0.000    0.000    0.000    0.000 interactiveshell.py:2851(run_code)\n",
      "        1    0.000    0.000    0.000    0.000 codeop.py:132(__call__)\n",
      "        1    0.000    0.000    0.000    0.000 <ipython-input-14-04ff7db62cbe>:8(<module>)\n",
      "        1    0.000    0.000    0.000    0.000 hooks.py:139(__call__)\n",
      "        1    0.000    0.000    0.000    0.000 ipstruct.py:125(__getattr__)\n",
      "        1    0.000    0.000    0.000    0.000 interactiveshell.py:1065(user_global_ns)\n",
      "        1    0.000    0.000    0.000    0.000 {built-in method builtins.exec}\n",
      "        1    0.000    0.000    0.000    0.000 {method 'disable' of '_lsprof.Profiler' objects}\n",
      "        1    0.000    0.000    0.000    0.000 hooks.py:204(pre_run_code_hook)\n",
      "\n",
      "\n"
     ]
    }
   ],
   "source": [
    "import cProfile\n",
    " \n",
    "pr = cProfile.Profile()\n",
    "pr.enable()\n",
    " \n",
    "# call_function()\n",
    " \n",
    "pr.disable()\n",
    " \n",
    "pr.print_stats(sort='time')"
   ]
  },
  {
   "cell_type": "code",
   "execution_count": null,
   "metadata": {
    "collapsed": true
   },
   "outputs": [],
   "source": [
    "import re\n",
    "import cProfile\n",
    " \n",
    "pr = cProfile.Profile()\n",
    "pr.enable()\n",
    " \n",
    "line = \" [as(dd)]{asdasd}(asd)\"*1000\n",
    "\n",
    "pattern = re.compile('[\\{\\(\\[\\]\\)\\}]')\n",
    "final = pattern.findall(line)\n",
    "opened = ['[', '{', '(']\n",
    "closed = [']', '}', ')']\n",
    "\n",
    "pr.disable()\n",
    " \n",
    "pr.print_stats(sort='time')"
   ]
  },
  {
   "cell_type": "markdown",
   "metadata": {},
   "source": [
    "# numpy random normal"
   ]
  },
  {
   "cell_type": "code",
   "execution_count": null,
   "metadata": {
    "collapsed": true
   },
   "outputs": [],
   "source": [
    "plt.hist(np.random.normal(0,0.01,size=(100,1)))\n",
    "plt.show()"
   ]
  }
 ],
 "metadata": {
  "kernelspec": {
   "display_name": "Python 3",
   "language": "python",
   "name": "python3"
  },
  "language_info": {
   "codemirror_mode": {
    "name": "ipython",
    "version": 3
   },
   "file_extension": ".py",
   "mimetype": "text/x-python",
   "name": "python",
   "nbconvert_exporter": "python",
   "pygments_lexer": "ipython3",
   "version": "3.6.1"
  }
 },
 "nbformat": 4,
 "nbformat_minor": 2
}
