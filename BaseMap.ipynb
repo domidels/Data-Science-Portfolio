{
 "cells": [
  {
   "cell_type": "markdown",
   "metadata": {},
   "source": [
    "# Visualising Geographic Data"
   ]
  },
  {
   "cell_type": "markdown",
   "metadata": {},
   "source": [
    "Latitude and longitude points on two-dimensional maps describe points on a sphere, to plot the values on a two-dimensional plane, we need to project these points on a map: convert the latitude and longitude into Cartesian coordinates.\n",
    "\n",
    "From http://dataquest.io:\" When projecting down to the two-dimensional plane, some properties are distorted. Each map projection makes trade-offs in what properties to preserve and you can read about the different trade-offs here. We'll use the Mercator projection, because it is commonly used by popular mapping software.\""
   ]
  },
  {
   "cell_type": "code",
   "execution_count": null,
   "metadata": {
    "collapsed": true
   },
   "outputs": [],
   "source": [
    "# Warnings can be ignored here...\n",
    "import warnings\n",
    "warnings.filterwarnings('ignore')"
   ]
  },
  {
   "cell_type": "markdown",
   "metadata": {},
   "source": [
    "The datasets come from the openflights website: https://openflights.org/data.html (`.dat` files)\n",
    "\n",
    "Overview of most important columns in the following files:\n",
    "* airlines.csv - data on each airline.\n",
    "\n",
    "    * country - where the airline is headquartered.\n",
    "    * active - if the airline is still active.\n",
    "* airports.csv - data on each airport.\n",
    "\n",
    "    * name - name of the airport.\n",
    "    * city - city the airport is located.\n",
    "    * country - country the airport is located.\n",
    "    * code - unique airport code.\n",
    "    * latitude - latitude value.\n",
    "    * longitude - longitude value.\n",
    "* routes.csv - data on each flight route.\n",
    "\n",
    "    * airline - airline for the route.\n",
    "    * source - starting city for the route.\n",
    "    * dest - destination city for the route.\n"
   ]
  },
  {
   "cell_type": "code",
   "execution_count": null,
   "metadata": {
    "collapsed": true
   },
   "outputs": [],
   "source": [
    "import pandas as pd\n",
    "airlines = pd.read_csv('data/airlines.csv')\n",
    "airports = pd.read_csv('data/airports.csv')\n",
    "routes = pd.read_csv('data/routes.csv')\n",
    "print(airlines.head(3))\n",
    "print(airports.head(3))\n",
    "print(routes.head(3))"
   ]
  },
  {
   "cell_type": "markdown",
   "metadata": {},
   "source": [
    "## Basemap \n",
    "\n",
    "Basemap is an extension to Matplotlib that makes it easier to work with geographic data.\n",
    "\n",
    "Installing basemap (with Anaconda), last version to overcome the deprecated warning about the `ishold()` and `hold` methods: \n",
    "\n",
    "`conda install -c conda-forge basemap`"
   ]
  },
  {
   "cell_type": "markdown",
   "metadata": {},
   "source": [
    "To create a new instance of the basemap class, we call the basemap constructor assigning the following parameters:\n",
    "\n",
    "* projection: the map projection.\n",
    "* llcrnrlat: **lat**itude of **l**ower **l**eft hand **c**o**rn**e**r** of the desired map domain\n",
    "* urcrnrlat: **lat**itude of **u**ppe**r** right hand **c**o**rn**e**r** of the desired map domain\n",
    "* llcrnrlon: **lon**gitude of **l**ower **l**eft hand **c**o**rn**e**r** of the desired map domain\n",
    "* urcrnrlon: **lon**gitude of **u**ppe**r** right hand **c**o**rn**e**r** of the desired map domain"
   ]
  },
  {
   "cell_type": "markdown",
   "metadata": {},
   "source": [
    "As an example, let's visualise the locations of airports from our data set:"
   ]
  },
  {
   "cell_type": "code",
   "execution_count": null,
   "metadata": {
    "collapsed": true
   },
   "outputs": [],
   "source": [
    "from mpl_toolkits.basemap import Basemap"
   ]
  },
  {
   "cell_type": "code",
   "execution_count": null,
   "metadata": {
    "collapsed": true
   },
   "outputs": [],
   "source": [
    "import matplotlib.pyplot as plt\n",
    "\n",
    "from mpl_toolkits.basemap import Basemap\n",
    "\n",
    "m = Basemap(projection='merc', llcrnrlat=-80, urcrnrlat=80, llcrnrlon=-180, urcrnrlon=180)\n",
    "longitudes = airports['longitude'].tolist()\n",
    "latitudes = airports['latitude'].tolist()\n",
    "x, y = m(longitudes, latitudes)\n",
    "m.drawcoastlines()\n",
    "m.scatter(x,y,s=1)\n",
    "plt.show()"
   ]
  },
  {
   "cell_type": "markdown",
   "metadata": {},
   "source": [
    "The file, geo_routes.csv, contains the latitude and longitude values corresponding to the source and destination airports for each route. From http://dataquest.io: \"To plot great circles, we need the source longitude, source latitude, destination longitude, and the destination latitude for each route. While the routes dataframe contains the source and destination airports for each route, the latitude and longitude values for each airport are in a separate dataframe (airports).\""
   ]
  },
  {
   "cell_type": "code",
   "execution_count": null,
   "metadata": {
    "collapsed": true
   },
   "outputs": [],
   "source": [
    "\n",
    "geo_routes = pd.read_csv('data/geo_routes.csv')\n",
    "print(geo_routes.info())\n",
    "print(geo_routes.head(5))\n"
   ]
  },
  {
   "cell_type": "markdown",
   "metadata": {},
   "source": [
    "`basemap.drawgreatcircle()` method isn't able to create great circles properly when they go outside of the map boundaries."
   ]
  },
  {
   "cell_type": "markdown",
   "metadata": {},
   "source": [
    "Let us visualise the flights from the Konrad-Adenauer airport in Bonn ('CGN'):"
   ]
  },
  {
   "cell_type": "code",
   "execution_count": null,
   "metadata": {
    "collapsed": true
   },
   "outputs": [],
   "source": [
    "def create_great_circles(df):\n",
    "    m = Basemap(projection='merc', llcrnrlat=-80, urcrnrlat=80, llcrnrlon=-180, urcrnrlon=180)\n",
    "    m.drawcoastlines()\n",
    "    for index, row in df.iterrows():\n",
    "        start_lat = row['start_lat']\n",
    "        end_lat = row['end_lat']\n",
    "        end_lon = row['end_lon']\n",
    "        start_lon = row['start_lon']\n",
    "        if end_lat<180 and start_lat<180 and (end_lon-start_lon)<180:\n",
    "            m.drawgreatcircle(start_lon,start_lat,end_lon, end_lat)\n",
    "            \n",
    "dfw = geo_routes[geo_routes['source']=='CGN'] \n",
    "#print(geo_routes['source'].value_counts())\n",
    "fig, ax = plt.subplots(figsize=(15,20))\n",
    "\n",
    "create_great_circles(dfw)\n",
    "\n",
    "plt.show()"
   ]
  },
  {
   "cell_type": "markdown",
   "metadata": {},
   "source": [
    "## Useful Plotting tools links\n",
    "\n",
    "* Creating 3D plots using Plotly: https://plot.ly/python/3d-scatter-plots/\n",
    "* Creating interactive visualizations using bokeh: http://bokeh.pydata.org/en/latest/\n",
    "* Creating interactive map visualizations using folium: https://folium.readthedocs.io/en/latest/\n",
    "The art and science of data visualization:\n",
    "* Visual Display of Quantitative Information\n",
    "* Visual Explanations: Images and Quantities, Evidence and Narrative"
   ]
  },
  {
   "cell_type": "code",
   "execution_count": null,
   "metadata": {
    "collapsed": true
   },
   "outputs": [],
   "source": []
  }
 ],
 "metadata": {
  "kernelspec": {
   "display_name": "Python 3",
   "language": "python",
   "name": "python3"
  },
  "language_info": {
   "codemirror_mode": {
    "name": "ipython",
    "version": 3
   },
   "file_extension": ".py",
   "mimetype": "text/x-python",
   "name": "python",
   "nbconvert_exporter": "python",
   "pygments_lexer": "ipython3",
   "version": "3.6.1"
  }
 },
 "nbformat": 4,
 "nbformat_minor": 2
}
