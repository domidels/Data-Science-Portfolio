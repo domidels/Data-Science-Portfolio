{
 "cells": [
  {
   "cell_type": "markdown",
   "metadata": {},
   "source": [
    "# Using Regular Expressions with Python\n",
    "\n",
    "In this tutorial, you will dive into the world of regular expressions. Regular Expressions are also called RegExp, Reg or Re. They are specific characters used for matching text patterns. If you want to know how to use RegExp with Python, you are at the right place. \n",
    "\n",
    "## Why Using RegExp?\n",
    "\n",
    "Assume that you are working on a text file which involves millions of lines containing the surname and family name of Dataquest members on each line. Suppose you want to find if 'Monty' is a Dataquest member and if so, return both surname and family name from the file. Searching manually will be extremely time costing! This is where regular expressions come into play. They are very helpful since they automate tasks such as searching, deleting or replacing patterns into a text.\n",
    "\n",
    "## Learning by Doing\n",
    "\n",
    "Let's import the `re` module first since this module provides full support for regular expressions in Python."
   ]
  },
  {
   "cell_type": "code",
   "execution_count": null,
   "metadata": {
    "collapsed": true
   },
   "outputs": [],
   "source": [
    "import re"
   ]
  }
 ],
 "metadata": {
  "kernelspec": {
   "display_name": "Python 3",
   "language": "python",
   "name": "python3"
  },
  "language_info": {
   "codemirror_mode": {
    "name": "ipython",
    "version": 3
   },
   "file_extension": ".py",
   "mimetype": "text/x-python",
   "name": "python",
   "nbconvert_exporter": "python",
   "pygments_lexer": "ipython3",
   "version": "3.6.1"
  }
 },
 "nbformat": 4,
 "nbformat_minor": 2
}
