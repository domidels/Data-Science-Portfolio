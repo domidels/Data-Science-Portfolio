{
 "cells": [
  {
   "cell_type": "markdown",
   "metadata": {},
   "source": [
    "# Testing Significance\n",
    "\n",
    "\n",
    "## The Blind Experiment\n",
    "\n",
    "Let's suppose we conducted a study where we invited 100 volunteers and split them into 2 even groups randomly:\n",
    "\n",
    "* Group A was given a placebo, or fake, pill and instructed to consume it on a daily basis.\n",
    "* Group B was given the actual weight loss pill and instructed to consume it on a daily basis.\n",
    "\n",
    "The lists weight_lost_a and weight_lost_b contain the amount of weight (in pounds) that the participants in each group lost. "
   ]
  },
  {
   "cell_type": "code",
   "execution_count": 8,
   "metadata": {
    "collapsed": true
   },
   "outputs": [],
   "source": [
    "weight_lost_a = [3, 2, 3, 4, 3, 2, 2, 2, 1, 3, 2, 3, 1, 3, 4, 1, 3,\n",
    "                 2, 1, 3, 4, 3, 2, 3, 7, 2, 3, 2, 5, 1, 1, 1, 3, 2,\n",
    "                 4, 10, 2, 3, 2, 5, 6, 2, 3, 2, 3, 4, 1, 3, 3, 1]\n",
    "weight_lost_b = [5,  4, 5, 5, 4, 5, 7, 5, 4, 3, 3, 5, 10, 3, 4, 9, \n",
    "                 7, 6, 9, 4, 2, 5, 7, 7, 7, 5, 4, 8, 9, 6, 7, 6, 7,\n",
    "                 6, 3, 5, 5, 4, 2, 3, 3, 5, 6, 9, 7, 6, 4, 5, 4, 3]"
   ]
  },
  {
   "cell_type": "markdown",
   "metadata": {},
   "source": [
    "Let's' plot histograms for both weight_lost_a and weight_lost_b."
   ]
  },
  {
   "cell_type": "code",
   "execution_count": 9,
   "metadata": {},
   "outputs": [
    {
     "data": {
      "image/png": "[encoded data removed]",
      "text/plain": [
       "<matplotlib.figure.Figure at 0x7ff47dc8c518>"
      ]
     },
     "metadata": {},
     "output_type": "display_data"
    },
    {
     "data": {
      "image/png": "[encoded data removed]",
      "text/plain": [
       "<matplotlib.figure.Figure at 0x7ff47dbc0908>"
      ]
     },
     "metadata": {},
     "output_type": "display_data"
    }
   ],
   "source": [
    "import matplotlib.pyplot as plt\n",
    "\n",
    "plt.hist(weight_lost_a)\n",
    "plt.show()\n",
    "plt.hist(weight_lost_b)\n",
    "plt.show()"
   ]
  },
  {
   "cell_type": "markdown",
   "metadata": {},
   "source": [
    "## Choosing the Test statistic\n",
    "\n",
    "The first step is to decide on a **test statistic**.\n",
    "A **test statistic** is a numerical value that summarizes the data. \n",
    "\n",
    "We will use the difference in the means, also known as the mean difference as the test statistic:"
   ]
  },
  {
   "cell_type": "markdown",
   "metadata": {},
   "source": [
    "Let's' calculate:\n",
    "* The mean of the weight lost by participants in group A. \n",
    "* The mean of the weight lost by participants in group B. \n",
    "* The mean difference"
   ]
  },
  {
   "cell_type": "code",
   "execution_count": 10,
   "metadata": {},
   "outputs": [
    {
     "name": "stdout",
     "output_type": "stream",
     "text": [
      "2.52\n"
     ]
    }
   ],
   "source": [
    "import numpy as np\n",
    "\n",
    "mean_group_a = np.asarray(weight_lost_a).mean()\n",
    "mean_group_b = np.asarray(weight_lost_b).mean()\n",
    "mean_difference = mean_group_b - mean_group_a\n",
    "print(mean_difference)"
   ]
  },
  {
   "cell_type": "markdown",
   "metadata": {},
   "source": [
    "## The Statistical Test\n",
    "\n",
    "Now that we have a **test statistic**, we need to decide on a **statistical test**. \n",
    "\n",
    "The purpose of a **statistical test** is to work out the likelihood that the result we achieved was due to random chance.\n",
    "\n",
    "\n",
    "The **permutation test** is a **statistical test** that involves simulating rerunning the study many times:\n",
    "\n",
    "* Randomly reassigning each data point (weight lost) to either group A or group B\n",
    "* Recalculating the test statistic for each iteration. \n",
    "\n",
    "The goal is to calculate a distribution of the **test statistics** (here the mean_difference) over these many iterations. This distribution is called the **sampling distribution**. \n",
    "\n",
    "\n",
    "It approximates the full range of possible test statistics under the null hypothesis."
   ]
  },
  {
   "cell_type": "markdown",
   "metadata": {},
   "source": [
    "\n",
    "* The null hypothesis is population_mean_group_b - population_mean_group_a = 0\n",
    "* The alternative hypothesis is population_mean_group_b − population_mean_group_a > 0\n"
   ]
  },
  {
   "cell_type": "markdown",
   "metadata": {},
   "source": [
    "Let's create a list named all_values that contains just the weight loss values from our samples of the population"
   ]
  },
  {
   "cell_type": "code",
   "execution_count": 11,
   "metadata": {
    "collapsed": true
   },
   "outputs": [],
   "source": [
    "all_values = weight_lost_a\n",
    "all_values.extend(weight_lost_b)"
   ]
  },
  {
   "cell_type": "markdown",
   "metadata": {},
   "source": [
    "Let's visualise the sampling distribution for 10000 iterations:"
   ]
  },
  {
   "cell_type": "code",
   "execution_count": 25,
   "metadata": {},
   "outputs": [
    {
     "data": {
      "image/png": "[encoded data removed]",
      "text/plain": [
       "<matplotlib.figure.Figure at 0x7ff47ddcd9e8>"
      ]
     },
     "metadata": {},
     "output_type": "display_data"
    }
   ],
   "source": [
    "mean_difference = 2.52\n",
    "mean_differences = []\n",
    "for i in range(1000):\n",
    "    group_a=[]\n",
    "    group_b=[]\n",
    "    for i in all_values:\n",
    "        rand = np.random.rand()\n",
    "        if rand >= 0.5:\n",
    "            group_a.append(i)\n",
    "        else:\n",
    "            group_b.append(i)\n",
    "    mean_a = np.asarray(group_a).mean()\n",
    "    mean_b = np.asarray(group_b).mean()\n",
    "    iteration_mean_difference = mean_b-mean_a\n",
    "    mean_differences.append(iteration_mean_difference)\n",
    "plt.hist(mean_differences)\n",
    "plt.show()"
   ]
  },
  {
   "cell_type": "markdown",
   "metadata": {},
   "source": [
    "The above histogram represents the the sampling distribution under the null hypothesis. It is very unlikely that the sample mean difference of `2.52` is observed in that case. "
   ]
  },
  {
   "cell_type": "markdown",
   "metadata": {},
   "source": [
    "## Calculating the p Value\n",
    "\n",
    "We can determine the number of times a value of `2.52` or higher appeared in our simulations. If we then divide that frequency by 1000, we'll have the probability of observing a mean difference of 2.52 or higher purely due to random chance.\n",
    "\n",
    "This probability is called the p value:\n",
    "\n",
    "* A high p value means that the difference in the amount of weight both groups lost could have easily happened randomly and the weight loss pills probably didn't play a role. \n",
    "\n",
    "* A low p value implies that there's an incredibly small probability that the mean difference we observed was because of random chance."
   ]
  },
  {
   "cell_type": "code",
   "execution_count": 26,
   "metadata": {},
   "outputs": [
    {
     "name": "stdout",
     "output_type": "stream",
     "text": [
      "p_value: 0.0\n"
     ]
    }
   ],
   "source": [
    "p_value = 0\n",
    "for k in mean_differences:\n",
    "    if k >= 2.52:\n",
    "        p_value += k\n",
    "p_value = p_value / 1000\n",
    "print('p_value:', p_value)"
   ]
  },
  {
   "cell_type": "markdown",
   "metadata": {},
   "source": [
    "The most common p value threshold is 0.05 or 5%, which is what we'll use in this mission. Although .05 is an arbitrary threshold, it means that there's only a 5% chance that the results are due to random chance, which most researchers are comfortable with.\n",
    "\n",
    "if the p value is less than the threshold, we:\n",
    "\n",
    "* reject the null hypothesis that there's no difference in mean amount of weight lost by participants in both groups,\n",
    "*  accept the alternative hypothesis that the people who consumed the weight loss pill lost more weight,\n",
    "* conclude that the weight loss pill does statistically significantly affect the amount of weight people lost."
   ]
  },
  {
   "cell_type": "markdown",
   "metadata": {},
   "source": [
    "Since the p value of 0 is less than the threshold we set of 0.05, we conclude that the difference in weight lost can't be attributed to random chance alone. We therefore reject the null hypothesis and accept the alternative hypothesis. \n",
    "\n",
    "We can conclude that the weight loss pill does affect the amount of weight people lost."
   ]
  }
 ],
 "metadata": {
  "kernelspec": {
   "display_name": "Python 3",
   "language": "python",
   "name": "python3"
  },
  "language_info": {
   "codemirror_mode": {
    "name": "ipython",
    "version": 3
   },
   "file_extension": ".py",
   "mimetype": "text/x-python",
   "name": "python",
   "nbconvert_exporter": "python",
   "pygments_lexer": "ipython3",
   "version": "3.6.1"
  }
 },
 "nbformat": 4,
 "nbformat_minor": 2
}
