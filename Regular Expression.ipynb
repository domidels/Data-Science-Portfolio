{
 "cells": [
  {
   "cell_type": "markdown",
   "metadata": {},
   "source": [
    "# Using Regular Expressions with Python\n",
    "\n",
    "Regular Expressions are also called RegExp, Reg or Re. They are specific characters used for matching text patterns.  \n",
    "\n",
    "What for?\n",
    "\n",
    "They are very helpful since they automate tasks such as searching, deleting or replacing patterns into a text.\n",
    "\n",
    "Let's import the `re` module first"
   ]
  },
  {
   "cell_type": "markdown",
   "metadata": {},
   "source": [
    "The Python \"re\" module provides regular expression support."
   ]
  },
  {
   "cell_type": "code",
   "execution_count": 1,
   "metadata": {
    "collapsed": true
   },
   "outputs": [],
   "source": [
    "import re"
   ]
  },
  {
   "cell_type": "markdown",
   "metadata": {},
   "source": [
    "## Search"
   ]
  },
  {
   "cell_type": "markdown",
   "metadata": {},
   "source": [
    "* Search for years in a list of strings: first character is a digit (1 or 2), the three following characters are a digit between o and 9: \\[1-2\\]\\[0-9\\]\\{3\\} "
   ]
  },
  {
   "cell_type": "code",
   "execution_count": 2,
   "metadata": {},
   "outputs": [
    {
     "data": {
      "text/plain": [
       "['War of 1812', 'Happy New Year 2016!']"
      ]
     },
     "execution_count": 2,
     "metadata": {},
     "output_type": "execute_result"
    }
   ],
   "source": [
    "import re\n",
    "year_strings = []\n",
    "strings = ['War of 1812', 'There are 5280 feet to a mile', 'Happy New Year 2016!']\n",
    "for string in strings:\n",
    "    new = re.search(\"[1-2][0-9]{3}\", string)\n",
    "    if new is not None:\n",
    "        year_strings.append(string)\n",
    "year_strings\n"
   ]
  },
  {
   "cell_type": "markdown",
   "metadata": {},
   "source": [
    "## Sub\n",
    "\n",
    "* How to get rid of punctuation using regexp\n"
   ]
  },
  {
   "cell_type": "code",
   "execution_count": 3,
   "metadata": {},
   "outputs": [
    {
     "name": "stdout",
     "output_type": "stream",
     "text": [
      "!\"#$%&'()*+,-./:;<=>?@[\\]^_`{|}~\n"
     ]
    }
   ],
   "source": [
    "import string\n",
    "print(string.punctuation)"
   ]
  },
  {
   "cell_type": "code",
   "execution_count": 4,
   "metadata": {},
   "outputs": [
    {
     "name": "stdout",
     "output_type": "stream",
     "text": [
      " Hello What a beautiful day how are you\n"
     ]
    }
   ],
   "source": [
    "import re\n",
    "import string\n",
    "punct = '[{}]'.format(re.escape(string.punctuation))\n",
    "# return a pattern object\n",
    "regex = re.compile(punct)\n",
    "string = \" Hello! What a beautiful day, how are you?\"\n",
    "print(regex.sub(\"\", string))"
   ]
  },
  {
   "cell_type": "markdown",
   "metadata": {},
   "source": [
    "* How to get rid of lower alphabetical letters and space"
   ]
  },
  {
   "cell_type": "code",
   "execution_count": 6,
   "metadata": {},
   "outputs": [
    {
     "name": "stdout",
     "output_type": "stream",
     "text": [
      "H!W,?\n"
     ]
    }
   ],
   "source": [
    "import re\n",
    "import string\n",
    "punct = '[{}]'.format('a-z ')\n",
    "# return a pattern object\n",
    "regex = re.compile(punct)\n",
    "s = \" Hello! What a beautiful day, how are you?\"\n",
    "print(regex.sub(\"\", s))"
   ]
  },
  {
   "cell_type": "markdown",
   "metadata": {},
   "source": [
    "## match\n",
    "\n",
    "* Select only specific characters"
   ]
  },
  {
   "cell_type": "code",
   "execution_count": 15,
   "metadata": {},
   "outputs": [
    {
     "name": "stdout",
     "output_type": "stream",
     "text": [
      "matchObj.group() :  Cats are smarter than dogs\n",
      "matchObj.group(1) :  Cats\n",
      "matchObj.group(2) :  smarter\n"
     ]
    }
   ],
   "source": [
    "#!/usr/bin/python\n",
    "import re\n",
    "\n",
    "line = \"Cats are smarter than dogs\"\n",
    "\n",
    "matchObj = re.match(r'(.*) are (.*?) .*', line)\n",
    "# You can add options: re.match(r'(.*) are (.*?) .*', line, re.M|re.I)\n",
    "#re.I performs case-insensitive matching.\n",
    "# re.M makes $ match the end of a line (not just the end of the string) and \n",
    "# makes ^ match the start of any line (not just the start of the string).\n",
    "if matchObj:\n",
    "    print(\"matchObj.group() : \", matchObj.group())\n",
    "    print(\"matchObj.group(1) : \", matchObj.group(1))\n",
    "    print(\"matchObj.group(2) : \", matchObj.group(2))\n",
    "else:\n",
    "    print(\"No match!!\")"
   ]
  },
  {
   "cell_type": "code",
   "execution_count": 16,
   "metadata": {},
   "outputs": [
    {
     "name": "stdout",
     "output_type": "stream",
     "text": [
      "matchObj.group() :  Cats are smarter than dogs\n",
      "matchObj.group(1) :  Cats\n",
      "matchObj.group(2) :  smarter\n"
     ]
    }
   ],
   "source": [
    "import re\n",
    "line = \"Cats are smarter than dogs\"\n",
    "regex = re.compile(r'(.*) are (.*?) .*')\n",
    "matchObj = regex.match(line)\n",
    "if matchObj:\n",
    "    print(\"matchObj.group() : \", matchObj.group())\n",
    "    print(\"matchObj.group(1) : \", matchObj.group(1))\n",
    "    print(\"matchObj.group(2) : \", matchObj.group(2))\n",
    "else:\n",
    "    print(\"No match!!\")"
   ]
  },
  {
   "cell_type": "markdown",
   "metadata": {},
   "source": [
    "## Findall"
   ]
  },
  {
   "cell_type": "code",
   "execution_count": 17,
   "metadata": {},
   "outputs": [
    {
     "name": "stdout",
     "output_type": "stream",
     "text": [
      "['2015', '2016']\n"
     ]
    }
   ],
   "source": [
    "import re\n",
    "years_string = '2015 was a good year, but 2016 will be better!'\n",
    "years= re.findall(\"[1-2][0-9]{3}\", years_string)\n",
    "print(years)"
   ]
  },
  {
   "cell_type": "markdown",
   "metadata": {},
   "source": [
    "* Check if brackets are properly structured:\n",
    "    * [blah blah]{blah blah} returns True\n",
    "    * ([]{}) returns True\n",
    "    * )][] returns False"
   ]
  },
  {
   "cell_type": "code",
   "execution_count": 18,
   "metadata": {},
   "outputs": [
    {
     "name": "stdout",
     "output_type": "stream",
     "text": [
      "['[', ']', '{', '}', '(', ')']\n",
      "['{', '}', '(', ')']\n",
      "['(', ')']\n",
      "[]\n",
      "True\n"
     ]
    }
   ],
   "source": [
    "line = \" [as(dd)]{asdasd}(asd)\"\n",
    "\n",
    "pattern = re.compile('[\\{\\(\\[\\]\\)\\}]')\n",
    "final = pattern.findall(line)\n",
    "opened = ['[', '{', '(']\n",
    "closed = [']', '}', ')']\n",
    "\n",
    "result = True\n",
    "\n",
    "while len(final) >= 2 and result:\n",
    "    i = 0\n",
    "    while (i < len(final)) and (final[i] in opened):\n",
    "        last_opened = final[i]\n",
    "        i += 1\n",
    "\n",
    "    index_last = opened.index(last_opened)\n",
    "    if (final[i] == closed[index_last]):\n",
    "        final.pop(i-1)\n",
    "        final.pop(i-1)\n",
    "    else:\n",
    "        result = False\n",
    "    print(final)\n",
    "\n",
    "if len(final) != 0:\n",
    "    result = False\n",
    "print(result)"
   ]
  },
  {
   "cell_type": "code",
   "execution_count": null,
   "metadata": {
    "collapsed": true
   },
   "outputs": [],
   "source": []
  }
 ],
 "metadata": {
  "kernelspec": {
   "display_name": "Python 3",
   "language": "python",
   "name": "python3"
  },
  "language_info": {
   "codemirror_mode": {
    "name": "ipython",
    "version": 3
   },
   "file_extension": ".py",
   "mimetype": "text/x-python",
   "name": "python",
   "nbconvert_exporter": "python",
   "pygments_lexer": "ipython3",
   "version": "3.6.1"
  }
 },
 "nbformat": 4,
 "nbformat_minor": 2
}
