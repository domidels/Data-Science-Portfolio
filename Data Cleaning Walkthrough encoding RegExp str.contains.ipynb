{
 "cells": [
  {
   "cell_type": "markdown",
   "metadata": {},
   "source": [
    "# Data Cleaning Walkthrough\n",
    "\n",
    "\n"
   ]
  },
  {
   "cell_type": "code",
   "execution_count": 11,
   "metadata": {},
   "outputs": [
    {
     "name": "stdout",
     "output_type": "stream",
     "text": [
      "\n",
      " ap_2010 \n",
      "       DBN                    SchoolName AP Test Takers  Total Exams Taken  \\\n",
      "0  01M448  UNIVERSITY NEIGHBORHOOD H.S.              39                49   \n",
      "1  01M450        EAST SIDE COMMUNITY HS              19                21   \n",
      "2  01M515           LOWER EASTSIDE PREP              24                26   \n",
      "\n",
      "  Number of Exams with scores 3 4 or 5  \n",
      "0                                   10  \n",
      "1                                    s  \n",
      "2                                   24  \n",
      "\n",
      " class_size \n",
      "    CSD BOROUGH SCHOOL CODE                SCHOOL NAME GRADE  PROGRAM TYPE  \\\n",
      "0    1       M        M015  P.S. 015 Roberto Clemente     0K       GEN ED   \n",
      "1    1       M        M015  P.S. 015 Roberto Clemente     0K          CTT   \n",
      "2    1       M        M015  P.S. 015 Roberto Clemente     01       GEN ED   \n",
      "\n",
      "  CORE SUBJECT (MS CORE and 9-12 ONLY) CORE COURSE (MS CORE and 9-12 ONLY)  \\\n",
      "0                                    -                                   -   \n",
      "1                                    -                                   -   \n",
      "2                                    -                                   -   \n",
      "\n",
      "  SERVICE CATEGORY(K-9* ONLY)  NUMBER OF STUDENTS / SEATS FILLED  \\\n",
      "0                           -                               19.0   \n",
      "1                           -                               21.0   \n",
      "2                           -                               17.0   \n",
      "\n",
      "   NUMBER OF SECTIONS  AVERAGE CLASS SIZE  SIZE OF SMALLEST CLASS  \\\n",
      "0                 1.0                19.0                    19.0   \n",
      "1                 1.0                21.0                    21.0   \n",
      "2                 1.0                17.0                    17.0   \n",
      "\n",
      "   SIZE OF LARGEST CLASS DATA SOURCE  SCHOOLWIDE PUPIL-TEACHER RATIO  \n",
      "0                   19.0         ATS                             NaN  \n",
      "1                   21.0         ATS                             NaN  \n",
      "2                   17.0         ATS                             NaN  \n",
      "\n",
      " demographics \n",
      "       DBN                       Name  schoolyear fl_percent  frl_percent  \\\n",
      "0  01M015  P.S. 015 ROBERTO CLEMENTE    20052006       89.4          NaN   \n",
      "1  01M015  P.S. 015 ROBERTO CLEMENTE    20062007       89.4          NaN   \n",
      "2  01M015  P.S. 015 ROBERTO CLEMENTE    20072008       89.4          NaN   \n",
      "\n",
      "   total_enrollment prek   k grade1 grade2    ...     black_num black_per  \\\n",
      "0               281   15  36     40     33    ...            74      26.3   \n",
      "1               243   15  29     39     38    ...            68      28.0   \n",
      "2               261   18  43     39     36    ...            77      29.5   \n",
      "\n",
      "  hispanic_num hispanic_per white_num white_per male_num male_per female_num  \\\n",
      "0          189         67.3         5       1.8    158.0     56.2      123.0   \n",
      "1          153         63.0         4       1.6    140.0     57.6      103.0   \n",
      "2          157         60.2         7       2.7    143.0     54.8      118.0   \n",
      "\n",
      "  female_per  \n",
      "0       43.8  \n",
      "1       42.4  \n",
      "2       45.2  \n",
      "\n",
      "[3 rows x 38 columns]\n",
      "\n",
      " graduation \n",
      "     Demographic     DBN                            School Name Cohort  \\\n",
      "0  Total Cohort  01M292  HENRY STREET SCHOOL FOR INTERNATIONAL   2003   \n",
      "1  Total Cohort  01M292  HENRY STREET SCHOOL FOR INTERNATIONAL   2004   \n",
      "2  Total Cohort  01M292  HENRY STREET SCHOOL FOR INTERNATIONAL   2005   \n",
      "\n",
      "   Total Cohort Total Grads - n Total Grads - % of cohort Total Regents - n  \\\n",
      "0             5               s                         s                 s   \n",
      "1            55              37                     67.3%                17   \n",
      "2            64              43                     67.2%                27   \n",
      "\n",
      "  Total Regents - % of cohort Total Regents - % of grads  \\\n",
      "0                           s                          s   \n",
      "1                       30.9%                      45.9%   \n",
      "2                       42.2%                      62.8%   \n",
      "\n",
      "             ...            Regents w/o Advanced - n  \\\n",
      "0            ...                                   s   \n",
      "1            ...                                  17   \n",
      "2            ...                                  27   \n",
      "\n",
      "  Regents w/o Advanced - % of cohort Regents w/o Advanced - % of grads  \\\n",
      "0                                  s                                 s   \n",
      "1                              30.9%                             45.9%   \n",
      "2                              42.2%                             62.8%   \n",
      "\n",
      "  Local - n Local - % of cohort   Local - % of grads Still Enrolled - n  \\\n",
      "0         s                   s                    s                  s   \n",
      "1        20               36.4%                54.1%                 15   \n",
      "2        16                 25%  37.200000000000003%                  9   \n",
      "\n",
      "  Still Enrolled - % of cohort Dropped Out - n Dropped Out - % of cohort  \n",
      "0                            s               s                         s  \n",
      "1                        27.3%               3                      5.5%  \n",
      "2                        14.1%               9                     14.1%  \n",
      "\n",
      "[3 rows x 23 columns]\n",
      "\n",
      " hs_directory \n",
      "       dbn                                  school_name   borough  \\\n",
      "0  17K548          Brooklyn School for Music & Theatre  Brooklyn   \n",
      "1  09X543             High School for Violin and Dance     Bronx   \n",
      "2  09X327  Comprehensive Model School Project M.S. 327     Bronx   \n",
      "\n",
      "  building_code  phone_number    fax_number  grade_span_min  grade_span_max  \\\n",
      "0          K440  718-230-6250  718-230-6262             9.0              12   \n",
      "1          X400  718-842-0687  718-589-9849             9.0              12   \n",
      "2          X240  718-294-8111  718-294-8109             6.0              12   \n",
      "\n",
      "   expgrade_span_min  expgrade_span_max  \\\n",
      "0                NaN                NaN   \n",
      "1                NaN                NaN   \n",
      "2                NaN                NaN   \n",
      "\n",
      "                         ...                         priority08 priority09  \\\n",
      "0                        ...                                NaN        NaN   \n",
      "1                        ...                                NaN        NaN   \n",
      "2                        ...                                NaN        NaN   \n",
      "\n",
      "  priority10                                         Location 1  \\\n",
      "0        NaN  883 Classon Avenue\\nBrooklyn, NY 11225\\n(40.67...   \n",
      "1        NaN  1110 Boston Road\\nBronx, NY 10456\\n(40.8276026...   \n",
      "2        NaN  1501 Jerome Avenue\\nBronx, NY 10452\\n(40.84241...   \n",
      "\n",
      "  Community Board  Council District Census Tract        BIN           BBL  \\\n",
      "0             9.0              35.0        213.0  3029686.0  3.011870e+09   \n",
      "1             3.0              16.0        135.0  2004526.0  2.026340e+09   \n",
      "2             4.0              14.0        209.0  2008336.0  2.028590e+09   \n",
      "\n",
      "                                                 NTA  \n",
      "0  Crown Heights South                           ...  \n",
      "1  Morrisania-Melrose                            ...  \n",
      "2  West Concourse                                ...  \n",
      "\n",
      "[3 rows x 64 columns]\n",
      "\n",
      " sat_results \n",
      "       DBN                                    SCHOOL NAME  \\\n",
      "0  01M292  HENRY STREET SCHOOL FOR INTERNATIONAL STUDIES   \n",
      "1  01M448            UNIVERSITY NEIGHBORHOOD HIGH SCHOOL   \n",
      "2  01M450                     EAST SIDE COMMUNITY SCHOOL   \n",
      "\n",
      "  Num of SAT Test Takers SAT Critical Reading Avg. Score SAT Math Avg. Score  \\\n",
      "0                     29                             355                 404   \n",
      "1                     91                             383                 423   \n",
      "2                     70                             377                 402   \n",
      "\n",
      "  SAT Writing Avg. Score  \n",
      "0                    363  \n",
      "1                    366  \n",
      "2                    370  \n"
     ]
    }
   ],
   "source": [
    "import pandas as pd\n",
    "data_files = [\n",
    "    \"ap_2010.csv\",\n",
    "    \"class_size.csv\",\n",
    "    \"demographics.csv\",\n",
    "    \"graduation.csv\",\n",
    "    \"hs_directory.csv\",\n",
    "    \"sat_results.csv\"\n",
    "]\n",
    "data = {}\n",
    "# Store all filenames into a dictionary: keys are csv file name and value are dataframes (csv file content)\n",
    "for file in data_files:\n",
    "    name = file.split('.')[0]\n",
    "    data[name] = pd.read_csv('schools/'+file)\n",
    "    print('\\n {} \\n {}'.format(name, data[name].head(3)))\n"
   ]
  },
  {
   "cell_type": "markdown",
   "metadata": {},
   "source": [
    "## Reading Survey Files (specifying data file encoding)"
   ]
  },
  {
   "cell_type": "markdown",
   "metadata": {},
   "source": [
    "Let us filter the data and work with fewer columns within the survey dataframe:\n",
    "\n",
    "https://data.cityofnewyork.us/Education/2010-2011-NYC-School-Survey/mnz3-dyi8\n",
    "\n",
    "To check data file encoding: http://encodingchecker.codeplex.com"
   ]
  },
  {
   "cell_type": "markdown",
   "metadata": {},
   "source": [
    "Indexing and Selecting Data: which choice is better for indexing?\n",
    "\n",
    "http://pandas.pydata.org/pandas-docs/stable/indexing.html#indexing-view-versus-copy"
   ]
  },
  {
   "cell_type": "code",
   "execution_count": 2,
   "metadata": {},
   "outputs": [
    {
     "name": "stdout",
     "output_type": "stream",
     "text": [
      "     N_p  N_s   N_t  aca_p_11  aca_s_11  aca_t_11  aca_tot_11    bn  com_p_11  \\\n",
      "0   90.0  NaN  22.0       7.8       NaN       7.9         7.9  M015       7.6   \n",
      "1  161.0  NaN  34.0       7.8       NaN       9.1         8.4  M019       7.6   \n",
      "2  367.0  NaN  42.0       8.6       NaN       7.5         8.0  M020       8.3   \n",
      "\n",
      "   com_s_11   ...    t_q8c_1  t_q8c_2  t_q8c_3 t_q8c_4  t_q9  t_q9_1  t_q9_2  \\\n",
      "0       NaN   ...       29.0     67.0      5.0     0.0   NaN     5.0    14.0   \n",
      "1       NaN   ...       74.0     21.0      6.0     0.0   NaN     3.0     6.0   \n",
      "2       NaN   ...       33.0     35.0     20.0    13.0   NaN     3.0     5.0   \n",
      "\n",
      "   t_q9_3  t_q9_4  t_q9_5  \n",
      "0    52.0    24.0     5.0  \n",
      "1     3.0    78.0     9.0  \n",
      "2    16.0    70.0     5.0  \n",
      "\n",
      "[3 rows x 2773 columns]\n"
     ]
    }
   ],
   "source": [
    "d75_survey = pd.read_csv('schools/survey_d75.txt', delimiter='\\t', encoding='windows-1252')\n",
    "all_survey = pd.read_csv('schools/survey_all.txt', delimiter='\\t', encoding='windows-1252')\n",
    "# default parameter value axis=0\n",
    "survey = pd.concat([all_survey, d75_survey])\n",
    "print(survey.head(3))\n",
    "\n",
    "\n",
    "survey[\"DBN\"] = survey[\"dbn\"]\n",
    "\n",
    "survey = survey.loc[:,[\"DBN\", \"rr_s\", \"rr_t\", \"rr_p\", \"N_s\", \"N_t\", \"N_p\", \"saf_p_11\", \"com_p_11\", \"eng_p_11\", \n",
    "                 \"aca_p_11\", \"saf_t_11\", \"com_t_11\", \"eng_t_11\", \"aca_t_11\", \"saf_s_11\", \"com_s_11\", \n",
    "                 \"eng_s_11\", \"aca_s_11\", \"saf_tot_11\", \"com_tot_11\", \"eng_tot_11\", \"aca_tot_11\"]]\n",
    "data[\"survey\"] = survey"
   ]
  },
  {
   "cell_type": "markdown",
   "metadata": {},
   "source": [
    "## Building a 'DBN' column in 'class_size' dataframe from 'CSD' and 'SCHOOL CODE' columns"
   ]
  },
  {
   "cell_type": "code",
   "execution_count": 3,
   "metadata": {},
   "outputs": [
    {
     "name": "stdout",
     "output_type": "stream",
     "text": [
      "   CSD BOROUGH SCHOOL CODE                SCHOOL NAME GRADE  PROGRAM TYPE  \\\n",
      "0    1       M        M015  P.S. 015 Roberto Clemente     0K       GEN ED   \n",
      "1    1       M        M015  P.S. 015 Roberto Clemente     0K          CTT   \n",
      "2    1       M        M015  P.S. 015 Roberto Clemente     01       GEN ED   \n",
      "\n",
      "  CORE SUBJECT (MS CORE and 9-12 ONLY) CORE COURSE (MS CORE and 9-12 ONLY)  \\\n",
      "0                                    -                                   -   \n",
      "1                                    -                                   -   \n",
      "2                                    -                                   -   \n",
      "\n",
      "  SERVICE CATEGORY(K-9* ONLY)  NUMBER OF STUDENTS / SEATS FILLED  \\\n",
      "0                           -                               19.0   \n",
      "1                           -                               21.0   \n",
      "2                           -                               17.0   \n",
      "\n",
      "   NUMBER OF SECTIONS  AVERAGE CLASS SIZE  SIZE OF SMALLEST CLASS  \\\n",
      "0                 1.0                19.0                    19.0   \n",
      "1                 1.0                21.0                    21.0   \n",
      "2                 1.0                17.0                    17.0   \n",
      "\n",
      "   SIZE OF LARGEST CLASS DATA SOURCE  SCHOOLWIDE PUPIL-TEACHER RATIO  \\\n",
      "0                   19.0         ATS                             NaN   \n",
      "1                   21.0         ATS                             NaN   \n",
      "2                   17.0         ATS                             NaN   \n",
      "\n",
      "  padded_csd     DBN  \n",
      "0         01  01M015  \n",
      "1         01  01M015  \n",
      "2         01  01M015  \n"
     ]
    }
   ],
   "source": [
    "def add_0(num):\n",
    "    num_st = str(num)\n",
    "    if len(num_st) < 2:\n",
    "        num_st = num_st.zfill(2)\n",
    "    return num_st\n",
    "\n",
    "hs_directory = data['hs_directory']\n",
    "class_size = data['class_size']\n",
    "hs_directory['DBN'] = hs_directory['dbn']\n",
    "class_size['padded_csd'] = data[\"class_size\"][\"CSD\"].apply(add_0)\n",
    "class_size['DBN'] = class_size['padded_csd'] + class_size['SCHOOL CODE']\n",
    "print(class_size.head(3))"
   ]
  },
  {
   "cell_type": "code",
   "execution_count": 4,
   "metadata": {
    "collapsed": true
   },
   "outputs": [],
   "source": [
    "import numpy as np\n",
    "\n",
    "sat_results = data['sat_results']\n",
    "columns = ['SAT Math Avg. Score', 'SAT Critical Reading Avg. Score', 'SAT Writing Avg. Score']\n",
    "for column in columns:\n",
    "    sat_results[column] = pd.to_numeric(sat_results[column], errors='coerce')\n",
    "\n",
    "# add SAT values\n",
    "sat_results['sat_score'] = sat_results[columns].apply(np.sum, axis=1)"
   ]
  },
  {
   "cell_type": "markdown",
   "metadata": {
    "collapsed": true
   },
   "source": [
    "## Retrieving latitudes and longitudes from the 'Location 1' column:"
   ]
  },
  {
   "cell_type": "code",
   "execution_count": 7,
   "metadata": {},
   "outputs": [
    {
     "name": "stdout",
     "output_type": "stream",
     "text": [
      "                                          Location 1\n",
      "0  883 Classon Avenue\\nBrooklyn, NY 11225\\n(40.67...\n",
      "1  1110 Boston Road\\nBronx, NY 10456\\n(40.8276026...\n",
      "2  1501 Jerome Avenue\\nBronx, NY 10452\\n(40.84241...\n"
     ]
    }
   ],
   "source": [
    "import re\n",
    "hs_directory = data['hs_directory']\n",
    "print(hs_directory[['Location 1']].head(3))"
   ]
  },
  {
   "cell_type": "markdown",
   "metadata": {},
   "source": [
    "We can notice that latitude and longitude are within parenthesis..."
   ]
  },
  {
   "cell_type": "code",
   "execution_count": 8,
   "metadata": {},
   "outputs": [
    {
     "name": "stdout",
     "output_type": "stream",
     "text": [
      "0     40.67029890700047\n",
      "1      40.8276026690005\n",
      "2    40.842414068000494\n",
      "Name: lat, dtype: object\n"
     ]
    }
   ],
   "source": [
    "# Use a Regexp to find all content between parenthesis:\n",
    "def get_lat(string):\n",
    "    coord = re.findall(\"\\(.+\\)\", string)\n",
    "    coord = coord[0].split(',')\n",
    "    return (coord[0]).replace('(','')\n",
    "\n",
    "hs_directory['lat'] = hs_directory['Location 1'].apply(get_lat)\n",
    "print(hs_directory['lat'].head(3))"
   ]
  },
  {
   "cell_type": "code",
   "execution_count": 10,
   "metadata": {},
   "outputs": [
    {
     "name": "stdout",
     "output_type": "stream",
     "text": [
      "                                   school_name        lat        lon\n",
      "0          Brooklyn School for Music & Theatre  40.670299 -73.961648\n",
      "1             High School for Violin and Dance  40.827603 -73.904475\n",
      "2  Comprehensive Model School Project M.S. 327  40.842414 -73.916162\n"
     ]
    }
   ],
   "source": [
    "def get_lon(string):\n",
    "    coord = re.findall(\"\\(.+\\)\", string)\n",
    "    coord = coord[0].split(',')\n",
    "    return coord[1].replace(')','')\n",
    "hs_directory['lon'] = hs_directory['Location 1'].apply(get_lon)\n",
    "\n",
    "hs_directory['lon'] = pd.to_numeric(hs_directory['lon'], errors='coerce')\n",
    "hs_directory['lat'] = pd.to_numeric(hs_directory['lat'], errors='coerce')\n",
    "print(hs_directory[['school_name', 'lat', 'lon']].head(3))"
   ]
  },
  {
   "cell_type": "markdown",
   "metadata": {},
   "source": [
    "# Filtering\n",
    "\n",
    "Let us filter class_size dataframe so that only values containing '09-12' for GRADE and GEN ED for PROGRAM TYPE remain."
   ]
  },
  {
   "cell_type": "code",
   "execution_count": 7,
   "metadata": {},
   "outputs": [
    {
     "name": "stdout",
     "output_type": "stream",
     "text": [
      "     CSD BOROUGH SCHOOL CODE                                    SCHOOL NAME  \\\n",
      "225    1       M        M292  Henry Street School for International Studies   \n",
      "226    1       M        M292  Henry Street School for International Studies   \n",
      "227    1       M        M292  Henry Street School for International Studies   \n",
      "\n",
      "    GRADE  PROGRAM TYPE CORE SUBJECT (MS CORE and 9-12 ONLY)  \\\n",
      "225  09-12       GEN ED                              ENGLISH   \n",
      "226  09-12       GEN ED                              ENGLISH   \n",
      "227  09-12       GEN ED                              ENGLISH   \n",
      "\n",
      "    CORE COURSE (MS CORE and 9-12 ONLY) SERVICE CATEGORY(K-9* ONLY)  \\\n",
      "225                           English 9                           -   \n",
      "226                          English 10                           -   \n",
      "227                          English 11                           -   \n",
      "\n",
      "     NUMBER OF STUDENTS / SEATS FILLED  NUMBER OF SECTIONS  \\\n",
      "225                               63.0                 3.0   \n",
      "226                               79.0                 3.0   \n",
      "227                               38.0                 2.0   \n",
      "\n",
      "     AVERAGE CLASS SIZE  SIZE OF SMALLEST CLASS  SIZE OF LARGEST CLASS  \\\n",
      "225                21.0                    19.0                   25.0   \n",
      "226                26.3                    24.0                   31.0   \n",
      "227                19.0                    16.0                   22.0   \n",
      "\n",
      "    DATA SOURCE  SCHOOLWIDE PUPIL-TEACHER RATIO padded_csd     DBN  \n",
      "225       STARS                             NaN         01  01M292  \n",
      "226       STARS                             NaN         01  01M292  \n",
      "227       STARS                             NaN         01  01M292  \n"
     ]
    }
   ],
   "source": [
    "class_size = data['class_size']\n",
    "class_size = class_size[class_size['GRADE '].str.contains('09-12', na=False)]\n",
    "class_size = class_size[class_size['PROGRAM TYPE'].str.contains('GEN ED', na=False)]\n",
    "print(class_size.head(3))"
   ]
  }
 ],
 "metadata": {
  "kernelspec": {
   "display_name": "Python 3",
   "language": "python",
   "name": "python3"
  },
  "language_info": {
   "codemirror_mode": {
    "name": "ipython",
    "version": 3
   },
   "file_extension": ".py",
   "mimetype": "text/x-python",
   "name": "python",
   "nbconvert_exporter": "python",
   "pygments_lexer": "ipython3",
   "version": "3.6.1"
  }
 },
 "nbformat": 4,
 "nbformat_minor": 2
}
