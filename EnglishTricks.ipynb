{
 "cells": [
  {
   "cell_type": "markdown",
   "metadata": {},
   "source": [
    "# English Tricks\n",
    "\n",
    "\n",
    "There are a lot of people. If what follows \"a lot\" can be counted, it is considered plural. If what follows \"a lot\" cannot be counted, it is singular.\n",
    "\n",
    " \n",
    "\n",
    "There is a lot of sugar. (We don't say 1 sugar, 2 sugars. It cannot be counted.)\n",
    "\n",
    "There is a lot of furniture in the room. (**We don't say 2 furnitures**. It cannot be counted.)\n",
    "\n",
    "There are a lot of problems to solve. (We can say 4 problems. Problems can be counted.\n",
    "\n",
    "There are a lot of people here. (**People can be counted. 3 people**)\n"
   ]
  },
  {
   "cell_type": "markdown",
   "metadata": {
    "collapsed": true
   },
   "source": [
    "We use much with singular uncountable nouns and many with plural nouns:\n",
    "\n",
    "There are many people (people is plural)\n",
    "there is too much sugar in... (sugar is uncountable)\n"
   ]
  }
 ],
 "metadata": {
  "kernelspec": {
   "display_name": "Python 3",
   "language": "python",
   "name": "python3"
  },
  "language_info": {
   "codemirror_mode": {
    "name": "ipython",
    "version": 3
   },
   "file_extension": ".py",
   "mimetype": "text/x-python",
   "name": "python",
   "nbconvert_exporter": "python",
   "pygments_lexer": "ipython3",
   "version": "3.6.1"
  }
 },
 "nbformat": 4,
 "nbformat_minor": 2
}
