{
 "cells": [
  {
   "cell_type": "markdown",
   "metadata": {},
   "source": [
    "## Using PostgreSQL\n",
    "\n",
    "### How T0?\n",
    "\n",
    "Use the psycopg2 module and the connect function as follows:\n",
    "\n",
    "* the `connect` function connects to your database.\n",
    "* Query your Postgres database:\n",
    "\n",
    "    * Write a SQL query that creates a table called notes in the dq database, with the following columns and data types:\n",
    "        * id -- integer data type, and is a primary key.\n",
    "        * body -- text data type.\n",
    "        * title -- text data type.\n",
    "    * Execute the query using the execute method.\n",
    "    * Use the commit method on the Connection object to apply the changes in the transaction to the database.\n",
    "    * Close the Connection.\n",
    "    \n",
    "   \n",
    "`\n",
    "import psycopg2\n",
    "try:\n",
    "   conn = psycopg2.connect(\"dbname='your_dbname' user='your_dbuser' host='localhost' password='your_dbpass'\")\n",
    "except:\n",
    "   print \"UNABLE to connect to the database\"\n",
    "query = \"create table notes (id integer Primary key, body text, title text)\"\n",
    "c = conn.cursor()\n",
    "c.execute(query)\n",
    "conn.commit()\n",
    "conn.close()`\n",
    "\n",
    "### Examples\n",
    "\n",
    "#### Creating a Database\n",
    "\n",
    "* Execute a SQL query that inserts a row into the notes table with the following values:\n",
    "    * id -- 1\n",
    "    * body -- 'Do more missions on Dataquest.'\n",
    "    * title -- 'Dataquest reminder'.\n",
    "* Execute a SQL query that selects all of the rows from the notes table.\n",
    "* Fetch all of the results and print them out.\n",
    "* Close the Connection.\n",
    "\n",
    "`conn = psycopg2.connect(\"dbname='your_dbname' user='your_dbuser' host='localhost' password='your_dbpass'\")\n",
    "conn.autocommit = True\n",
    "cur = conn.cursor()\n",
    "query = 'create DATABASE income OWNER your_dbOwner';\n",
    "cur.execute(query)\n",
    "conn.close()`\n",
    "\n",
    "#### Dropping a Database\n",
    "\n",
    "`conn = psycopg2.connect(\"dbname='your_dbname' user='your_dbuser' host='localhost' password='your_dbpass'\")\n",
    "conn.autocommit = True\n",
    "cur = conn.cursor()\n",
    "query = 'DROP DATABASE DatabaseName'\n",
    "cur.execute(query)\n",
    "conn.close()`\n",
    "\n"
   ]
  }
 ],
 "metadata": {
  "kernelspec": {
   "display_name": "Python 3",
   "language": "python",
   "name": "python3"
  },
  "language_info": {
   "codemirror_mode": {
    "name": "ipython",
    "version": 3
   },
   "file_extension": ".py",
   "mimetype": "text/x-python",
   "name": "python",
   "nbconvert_exporter": "python",
   "pygments_lexer": "ipython3",
   "version": "3.6.1"
  }
 },
 "nbformat": 4,
 "nbformat_minor": 2
}
