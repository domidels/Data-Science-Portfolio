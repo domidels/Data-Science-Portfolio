{
 "cells": [
  {
   "cell_type": "markdown",
   "metadata": {},
   "source": [
    "# Predicting cars Prices using the KneighborsRegressor class"
   ]
  },
  {
   "cell_type": "code",
   "execution_count": 189,
   "metadata": {
    "collapsed": true
   },
   "outputs": [],
   "source": [
    "import pandas as pd\n",
    "import numpy as np\n",
    "from sklearn.neighbors import KNeighborsRegressor\n",
    "from sklearn.metrics import mean_squared_error\n",
    "from sklearn.model_selection import cross_val_score\n",
    "cols = ['symboling', 'normalized-losses', 'make', 'fuel-type', 'aspiration', 'num-of-doors', 'body-style', \n",
    "        'drive-wheels', 'engine-location', 'wheel-base', 'length', 'width', 'height', 'curb-weight', 'engine-type', \n",
    "        'num-of-cylinders', 'engine-size', 'fuel-system', 'bore', 'stroke', 'compression-rate', 'horsepower', 'peak-rpm', 'city-mpg', 'highway-mpg', 'price']\n",
    "cars = pd.read_csv('data/imports-85.data', names=cols)"
   ]
  },
  {
   "cell_type": "code",
   "execution_count": 170,
   "metadata": {},
   "outputs": [
    {
     "data": {
      "text/html": [
       "<div>\n",
       "<style>\n",
       "    .dataframe thead tr:only-child th {\n",
       "        text-align: right;\n",
       "    }\n",
       "\n",
       "    .dataframe thead th {\n",
       "        text-align: left;\n",
       "    }\n",
       "\n",
       "    .dataframe tbody tr th {\n",
       "        vertical-align: top;\n",
       "    }\n",
       "</style>\n",
       "<table border=\"1\" class=\"dataframe\">\n",
       "  <thead>\n",
       "    <tr style=\"text-align: right;\">\n",
       "      <th></th>\n",
       "      <th>symboling</th>\n",
       "      <th>normalized-losses</th>\n",
       "      <th>make</th>\n",
       "      <th>fuel-type</th>\n",
       "      <th>aspiration</th>\n",
       "      <th>num-of-doors</th>\n",
       "      <th>body-style</th>\n",
       "      <th>drive-wheels</th>\n",
       "      <th>engine-location</th>\n",
       "      <th>wheel-base</th>\n",
       "      <th>...</th>\n",
       "      <th>engine-size</th>\n",
       "      <th>fuel-system</th>\n",
       "      <th>bore</th>\n",
       "      <th>stroke</th>\n",
       "      <th>compression-rate</th>\n",
       "      <th>horsepower</th>\n",
       "      <th>peak-rpm</th>\n",
       "      <th>city-mpg</th>\n",
       "      <th>highway-mpg</th>\n",
       "      <th>price</th>\n",
       "    </tr>\n",
       "  </thead>\n",
       "  <tbody>\n",
       "    <tr>\n",
       "      <th>0</th>\n",
       "      <td>3</td>\n",
       "      <td>?</td>\n",
       "      <td>alfa-romero</td>\n",
       "      <td>gas</td>\n",
       "      <td>std</td>\n",
       "      <td>two</td>\n",
       "      <td>convertible</td>\n",
       "      <td>rwd</td>\n",
       "      <td>front</td>\n",
       "      <td>88.6</td>\n",
       "      <td>...</td>\n",
       "      <td>130</td>\n",
       "      <td>mpfi</td>\n",
       "      <td>3.47</td>\n",
       "      <td>2.68</td>\n",
       "      <td>9.0</td>\n",
       "      <td>111</td>\n",
       "      <td>5000</td>\n",
       "      <td>21</td>\n",
       "      <td>27</td>\n",
       "      <td>13495</td>\n",
       "    </tr>\n",
       "    <tr>\n",
       "      <th>1</th>\n",
       "      <td>3</td>\n",
       "      <td>?</td>\n",
       "      <td>alfa-romero</td>\n",
       "      <td>gas</td>\n",
       "      <td>std</td>\n",
       "      <td>two</td>\n",
       "      <td>convertible</td>\n",
       "      <td>rwd</td>\n",
       "      <td>front</td>\n",
       "      <td>88.6</td>\n",
       "      <td>...</td>\n",
       "      <td>130</td>\n",
       "      <td>mpfi</td>\n",
       "      <td>3.47</td>\n",
       "      <td>2.68</td>\n",
       "      <td>9.0</td>\n",
       "      <td>111</td>\n",
       "      <td>5000</td>\n",
       "      <td>21</td>\n",
       "      <td>27</td>\n",
       "      <td>16500</td>\n",
       "    </tr>\n",
       "    <tr>\n",
       "      <th>2</th>\n",
       "      <td>1</td>\n",
       "      <td>?</td>\n",
       "      <td>alfa-romero</td>\n",
       "      <td>gas</td>\n",
       "      <td>std</td>\n",
       "      <td>two</td>\n",
       "      <td>hatchback</td>\n",
       "      <td>rwd</td>\n",
       "      <td>front</td>\n",
       "      <td>94.5</td>\n",
       "      <td>...</td>\n",
       "      <td>152</td>\n",
       "      <td>mpfi</td>\n",
       "      <td>2.68</td>\n",
       "      <td>3.47</td>\n",
       "      <td>9.0</td>\n",
       "      <td>154</td>\n",
       "      <td>5000</td>\n",
       "      <td>19</td>\n",
       "      <td>26</td>\n",
       "      <td>16500</td>\n",
       "    </tr>\n",
       "  </tbody>\n",
       "</table>\n",
       "<p>3 rows × 26 columns</p>\n",
       "</div>"
      ],
      "text/plain": [
       "   symboling normalized-losses         make fuel-type aspiration num-of-doors  \\\n",
       "0          3                 ?  alfa-romero       gas        std          two   \n",
       "1          3                 ?  alfa-romero       gas        std          two   \n",
       "2          1                 ?  alfa-romero       gas        std          two   \n",
       "\n",
       "    body-style drive-wheels engine-location  wheel-base  ...    engine-size  \\\n",
       "0  convertible          rwd           front        88.6  ...            130   \n",
       "1  convertible          rwd           front        88.6  ...            130   \n",
       "2    hatchback          rwd           front        94.5  ...            152   \n",
       "\n",
       "   fuel-system  bore  stroke compression-rate horsepower  peak-rpm city-mpg  \\\n",
       "0         mpfi  3.47    2.68              9.0        111      5000       21   \n",
       "1         mpfi  3.47    2.68              9.0        111      5000       21   \n",
       "2         mpfi  2.68    3.47              9.0        154      5000       19   \n",
       "\n",
       "  highway-mpg  price  \n",
       "0          27  13495  \n",
       "1          27  16500  \n",
       "2          26  16500  \n",
       "\n",
       "[3 rows x 26 columns]"
      ]
     },
     "execution_count": 170,
     "metadata": {},
     "output_type": "execute_result"
    }
   ],
   "source": [
    "cars.head(3)"
   ]
  },
  {
   "cell_type": "markdown",
   "metadata": {},
   "source": [
    "## Let's replace the character, '?', with None for missing values"
   ]
  },
  {
   "cell_type": "code",
   "execution_count": 171,
   "metadata": {
    "collapsed": true
   },
   "outputs": [],
   "source": [
    "cars = cars.replace('?',np.nan)"
   ]
  },
  {
   "cell_type": "code",
   "execution_count": 172,
   "metadata": {
    "collapsed": true
   },
   "outputs": [],
   "source": [
    "# Select only the columns with continuous values from - https://archive.ics.uci.edu/ml/machine-learning-databases/autos/imports-85.names\n",
    "continuous_values_cols = ['normalized-losses', 'wheel-base', 'length', 'width', 'height', 'curb-weight', 'bore', 'stroke', 'compression-rate', 'horsepower', 'peak-rpm', 'city-mpg', 'highway-mpg', 'price']\n",
    "numeric_cars = cars[continuous_values_cols]"
   ]
  },
  {
   "cell_type": "code",
   "execution_count": 173,
   "metadata": {},
   "outputs": [
    {
     "data": {
      "text/plain": [
       "normalized-losses    41\n",
       "wheel-base            0\n",
       "length                0\n",
       "width                 0\n",
       "height                0\n",
       "curb-weight           0\n",
       "bore                  4\n",
       "stroke                4\n",
       "compression-rate      0\n",
       "horsepower            2\n",
       "peak-rpm              2\n",
       "city-mpg              0\n",
       "highway-mpg           0\n",
       "price                 4\n",
       "dtype: int64"
      ]
     },
     "execution_count": 173,
     "metadata": {},
     "output_type": "execute_result"
    }
   ],
   "source": [
    "# Convert all numeric values into float type\n",
    "numeric_cars = numeric_cars.astype('float')\n",
    "# Display the count of missing values per column\n",
    "numeric_cars.isnull().sum()"
   ]
  },
  {
   "cell_type": "markdown",
   "metadata": {},
   "source": [
    "We can see that there are 4 missing values in the 'price' column. We can entirely supress the corresponding lines as the price is our target."
   ]
  },
  {
   "cell_type": "code",
   "execution_count": 174,
   "metadata": {
    "collapsed": true
   },
   "outputs": [],
   "source": [
    "numeric_cars = numeric_cars.dropna(subset=['price'])"
   ]
  },
  {
   "cell_type": "markdown",
   "metadata": {},
   "source": [
    "We can then replace any other missing column value with the column mean."
   ]
  },
  {
   "cell_type": "code",
   "execution_count": 175,
   "metadata": {
    "collapsed": true
   },
   "outputs": [],
   "source": [
    "numeric_cars = numeric_cars.fillna(numeric_cars.mean())"
   ]
  },
  {
   "cell_type": "markdown",
   "metadata": {},
   "source": [
    "Let's then normalise all the dataframe values: rescale the values in the numeric columns so they all range from 0 to 1."
   ]
  },
  {
   "cell_type": "code",
   "execution_count": 176,
   "metadata": {
    "collapsed": true
   },
   "outputs": [],
   "source": [
    "normalised_cars = (numeric_cars - numeric_cars.min())/(numeric_cars.max() - numeric_cars.min())"
   ]
  },
  {
   "cell_type": "markdown",
   "metadata": {},
   "source": [
    "The target column don't have to be normalised:"
   ]
  },
  {
   "cell_type": "code",
   "execution_count": 177,
   "metadata": {
    "collapsed": true
   },
   "outputs": [],
   "source": [
    "normalised_cars['price'] = numeric_cars['price']"
   ]
  },
  {
   "cell_type": "markdown",
   "metadata": {},
   "source": [
    "Let's define the knn_train_test() function. This function should have 4 parameters:\n",
    "* the list of the training column names\n",
    "* the target column name\n",
    "* the dataframe object\n",
    "* the list of k values (k stands for the number of neighbors implied in the calculation)\n",
    "This function returns a dictionary which k values are the keys and the root mean squared values are the values.\n"
   ]
  },
  {
   "cell_type": "code",
   "execution_count": 178,
   "metadata": {},
   "outputs": [
    {
     "data": {
      "text/plain": [
       "{'bore': {1: 8602.5884845006603,\n",
       "  3: 6984.2394894809158,\n",
       "  5: 6780.6277846859757,\n",
       "  7: 6878.0979659215318,\n",
       "  9: 6866.8085020384133},\n",
       " 'city-mpg': {1: 5901.1435743547636,\n",
       "  3: 4646.7464087271546,\n",
       "  5: 4766.4225050901341,\n",
       "  7: 5232.5230341673159,\n",
       "  9: 5465.2094925275333},\n",
       " 'compression-rate': {1: 8087.205346523092,\n",
       "  3: 7375.0636855783587,\n",
       "  5: 6610.8121531591287,\n",
       "  7: 6732.8012829415147,\n",
       "  9: 7024.4855254634349},\n",
       " 'curb-weight': {1: 5264.2902307588784,\n",
       "  3: 5022.3180117572329,\n",
       "  5: 4401.1182547931239,\n",
       "  7: 4330.6081044180528,\n",
       "  9: 4632.0444744544011},\n",
       " 'height': {1: 8904.0464563607093,\n",
       "  3: 8277.6096430455254,\n",
       "  5: 8144.4410426637469,\n",
       "  7: 7679.5981243937731,\n",
       "  9: 7811.0360629122297},\n",
       " 'highway-mpg': {1: 6025.5949667207387,\n",
       "  3: 4617.3050197885541,\n",
       "  5: 4630.0267985880564,\n",
       "  7: 4796.0614401869461,\n",
       "  9: 5278.3580569539872},\n",
       " 'horsepower': {1: 4170.0548480378011,\n",
       "  3: 4020.8492630885394,\n",
       "  5: 4037.0377131537603,\n",
       "  7: 4353.8118602771337,\n",
       "  9: 4515.1356174191033},\n",
       " 'length': {1: 4628.4555012155697,\n",
       "  3: 5129.8358210721635,\n",
       "  5: 5427.2009608367125,\n",
       "  7: 5313.4277208479743,\n",
       "  9: 5383.0545148334459},\n",
       " 'normalized-losses': {1: 7846.7506051489836,\n",
       "  3: 7500.5698123109905,\n",
       "  5: 7330.1976534344449,\n",
       "  7: 7756.4215862341234,\n",
       "  9: 7688.0960968914324},\n",
       " 'peak-rpm': {1: 9511.4800677501244,\n",
       "  3: 8537.5508999734211,\n",
       "  5: 7697.4596964334805,\n",
       "  7: 7510.2941600834811,\n",
       "  9: 7340.0413412634007},\n",
       " 'stroke': {1: 9116.4959554069064,\n",
       "  3: 7338.6846699029402,\n",
       "  5: 8006.5295446471009,\n",
       "  7: 7803.9377968043273,\n",
       "  9: 7735.554366079291},\n",
       " 'wheel-base': {1: 4493.7340688104941,\n",
       "  3: 5120.1615060645127,\n",
       "  5: 5461.5539978730567,\n",
       "  7: 5448.1070513823315,\n",
       "  9: 5738.4056851923124},\n",
       " 'width': {1: 4559.257297950061,\n",
       "  3: 4606.413692169901,\n",
       "  5: 4704.4825897043856,\n",
       "  7: 4571.4850461946526,\n",
       "  9: 4652.9141720677871}}"
      ]
     },
     "execution_count": 178,
     "metadata": {},
     "output_type": "execute_result"
    }
   ],
   "source": [
    "def knn_train_test(cols, target_col, df, k_values = [5]):\n",
    "    np.random.seed(1)\n",
    "        \n",
    "    # Randomize order of rows in data frame.\n",
    "    shuffled_index = np.random.permutation(len(df))\n",
    "    df = df.iloc[shuffled_index]\n",
    "\n",
    "    # Divide number of rows in half and round.\n",
    "    last_train_row = len(df) // 2\n",
    "    \n",
    "    # Select the first half and set as training set.\n",
    "    # Select the second half and set as test set.\n",
    "    train_df = df.iloc[0:last_train_row]\n",
    "    test_df = df.iloc[last_train_row:]\n",
    "    \n",
    "    k_rmses = {}\n",
    "    \n",
    "    for k in k_values:\n",
    "        # Fit model using k nearest neighbors.\n",
    "        knn = KNeighborsRegressor(n_neighbors=k)\n",
    "        knn.fit(train_df[cols], train_df[target_col])\n",
    "\n",
    "        # Make predictions using model.\n",
    "        predicted_labels = knn.predict(test_df[cols])\n",
    "\n",
    "        # Calculate and return RMSE.\n",
    "        mse = mean_squared_error(test_df[target_col], predicted_labels)\n",
    "        rmse = np.sqrt(mse)\n",
    "        \n",
    "        k_rmses[k] = rmse\n",
    "    return k_rmses\n",
    "\n",
    "k_rmse_results = {}\n",
    "\n",
    "# For each column (minus `price`), train a model, return RMSE value\n",
    "# and add to the dictionary `rmse_results`.\n",
    "cols = numeric_cars.columns.drop('price')\n",
    "for col in cols:\n",
    "    rmse_val = knn_train_test([col], 'price', normalised_cars, [1,3,5,7,9])\n",
    "    k_rmse_results[col] = rmse_val\n",
    "\n",
    "k_rmse_results"
   ]
  },
  {
   "cell_type": "markdown",
   "metadata": {},
   "source": [
    "Let's plot the rmse values over the k values for all features:"
   ]
  },
  {
   "cell_type": "code",
   "execution_count": 179,
   "metadata": {},
   "outputs": [
    {
     "data": {
      "text/plain": [
       "<matplotlib.legend.Legend at 0x7f7dfbfb99e8>"
      ]
     },
     "execution_count": 179,
     "metadata": {},
     "output_type": "execute_result"
    },
    {
     "data": {
      "image/png": "[encoded data removed]",
      "text/plain": [
       "<matplotlib.figure.Figure at 0x7f7dfbfb9940>"
      ]
     },
     "metadata": {},
     "output_type": "display_data"
    }
   ],
   "source": [
    "import matplotlib.pyplot as plt\n",
    "%matplotlib inline\n",
    "\n",
    "for column,v in k_rmse_results.items():\n",
    "\n",
    "    x = list(v.keys())\n",
    "    y = list(v.values())\n",
    "   \n",
    "    plt.plot(x,y, label=column)\n",
    "plt.xlabel('k value')\n",
    "plt.ylabel('RMSE')\n",
    "\n",
    "plt.legend(framealpha=0.5, bbox_to_anchor=(1.47, 1))\n",
    "   \n"
   ]
  },
  {
   "cell_type": "markdown",
   "metadata": {},
   "source": [
    "Let's use the best 2 features from the previous step to train and test a multivariate k-nearest neighbors model using the default k value. Then let's use the best 3 features, the best 4 features, and the best 5 features using the defaults k value. "
   ]
  },
  {
   "cell_type": "code",
   "execution_count": 180,
   "metadata": {},
   "outputs": [
    {
     "data": {
      "text/plain": [
       "[('horsepower', 4037.0377131537603),\n",
       " ('curb-weight', 4401.1182547931239),\n",
       " ('highway-mpg', 4630.0267985880564),\n",
       " ('width', 4704.4825897043856),\n",
       " ('city-mpg', 4766.4225050901341),\n",
       " ('length', 5427.2009608367125),\n",
       " ('wheel-base', 5461.5539978730567),\n",
       " ('compression-rate', 6610.8121531591287),\n",
       " ('bore', 6780.6277846859757),\n",
       " ('normalized-losses', 7330.1976534344449),\n",
       " ('peak-rpm', 7697.4596964334805),\n",
       " ('stroke', 8006.5295446471009),\n",
       " ('height', 8144.4410426637469)]"
      ]
     },
     "execution_count": 180,
     "metadata": {},
     "output_type": "execute_result"
    }
   ],
   "source": [
    "for col in train_cols:\n",
    "    rmse_val = knn_train_test([col], 'price', normalised_cars)\n",
    "    k_rmse_results[col] = np.mean(list(rmse_val.values()))\n",
    "sorted(k_rmse_results.items(), key=lambda x: x[1])"
   ]
  },
  {
   "cell_type": "markdown",
   "metadata": {},
   "source": [
    "Features ordered from their rmse values:\n",
    "1. horsepower\n",
    "2. curb-weight\n",
    "3. highway-mpg\n",
    "4. width\n",
    "5. city-mpg\n",
    "6. length\n",
    "7. wheel-base"
   ]
  },
  {
   "cell_type": "code",
   "execution_count": 181,
   "metadata": {},
   "outputs": [
    {
     "data": {
      "text/plain": [
       "[('two best features', {5: 3257.8490494359762}),\n",
       " ('five best features', {5: 3341.6024539726504}),\n",
       " ('six best features', {5: 3341.6024539726504}),\n",
       " ('seven best features', {5: 3341.6024539726504}),\n",
       " ('four best features', {5: 3358.6915801682458}),\n",
       " ('three best features', {5: 3365.9110004529675})]"
      ]
     },
     "execution_count": 181,
     "metadata": {},
     "output_type": "execute_result"
    }
   ],
   "source": [
    "k_rmse_results = {}\n",
    "two_best_features = ['horsepower', 'curb-weight']\n",
    "rmse_val = knn_train_test(two_best_features, 'price', normalised_cars)\n",
    "k_rmse_results[\"two best features\"] = rmse_val\n",
    "\n",
    "three_best_features = ['horsepower', 'curb-weight', 'highway-mpg']\n",
    "rmse_val = knn_train_test(three_best_features, 'price', normalised_cars)\n",
    "k_rmse_results[\"three best features\"] = rmse_val\n",
    "\n",
    "four_best_features = ['horsepower', 'curb-weight', 'highway-mpg', 'width']\n",
    "rmse_val = knn_train_test(four_best_features, 'price', normalised_cars)\n",
    "k_rmse_results[\"four best features\"] = rmse_val\n",
    "\n",
    "five_best_features = ['horsepower', 'curb-weight', 'highway-mpg', 'width', 'city-mpg']\n",
    "rmse_val = knn_train_test(five_best_features, 'price', normalised_cars)\n",
    "k_rmse_results[\"five best features\"] = rmse_val\n",
    "\n",
    "six_best_features = ['horsepower', 'curb-weight', 'highway-mpg', 'width', 'city-mpg', 'length']\n",
    "rmse_val = knn_train_test(five_best_features, 'price', normalised_cars)\n",
    "k_rmse_results[\"six best features\"] = rmse_val\n",
    "\n",
    "seven_best_features = ['horsepower', 'curb-weight', 'highway-mpg', 'width', 'city-mpg', 'length', 'wheel-base']\n",
    "rmse_val = knn_train_test(five_best_features, 'price', normalised_cars)\n",
    "k_rmse_results[\"seven best features\"] = rmse_val\n",
    "\n",
    "sorted(k_rmse_results.items(), key=lambda x: x[1][5])"
   ]
  },
  {
   "cell_type": "markdown",
   "metadata": {},
   "source": [
    "For the top 3 models in the last step, let's vary the k parameter value from 1 to 25 and plot the resulting RMSE values.\n"
   ]
  },
  {
   "cell_type": "code",
   "execution_count": 190,
   "metadata": {},
   "outputs": [],
   "source": [
    "k_rmse_results = {}\n",
    "two_best_features = ['horsepower', 'curb-weight']\n",
    "rmse_val = knn_train_test(two_best_features, 'price', normalised_cars, range(1, 26))\n",
    "k_rmse_results[\"two best features\"] = rmse_val\n",
    "\n",
    "three_best_features = ['horsepower', 'curb-weight', 'highway-mpg']\n",
    "rmse_val = knn_train_test(three_best_features, 'price', normalised_cars, range(1, 26))\n",
    "k_rmse_results[\"three best features\"] = rmse_val\n",
    "\n",
    "four_best_features = ['horsepower', 'curb-weight', 'highway-mpg', 'width']\n",
    "rmse_val = knn_train_test(four_best_features, 'price', normalised_cars, range(1, 26))\n",
    "k_rmse_results[\"four best features\"] = rmse_val"
   ]
  },
  {
   "cell_type": "code",
   "execution_count": 188,
   "metadata": {},
   "outputs": [
    {
     "data": {
      "text/plain": [
       "<matplotlib.legend.Legend at 0x7f7e004a5080>"
      ]
     },
     "execution_count": 188,
     "metadata": {},
     "output_type": "execute_result"
    },
    {
     "data": {
      "image/png": "[encoded data removed]",
      "text/plain": [
       "<matplotlib.figure.Figure at 0x7f7e004a5278>"
      ]
     },
     "metadata": {},
     "output_type": "display_data"
    }
   ],
   "source": [
    "for k,v in k_rmse_results.items():\n",
    "    x = list(v.keys())\n",
    "    y = list(v.values())\n",
    "    \n",
    "    plt.plot(x,y, label=k)\n",
    "    plt.xticks(np.arange(min(x), max(x)+1, 2.0))\n",
    "plt.xlabel('k value')\n",
    "plt.ylabel('RMSE')\n",
    "\n",
    "\n",
    "plt.legend(framealpha=0.5, bbox_to_anchor=(1.47, 1))"
   ]
  },
  {
   "cell_type": "code",
   "execution_count": null,
   "metadata": {
    "collapsed": true
   },
   "outputs": [],
   "source": [
    "To be continued..."
   ]
  }
 ],
 "metadata": {
  "kernelspec": {
   "display_name": "Python 3",
   "language": "python",
   "name": "python3"
  },
  "language_info": {
   "codemirror_mode": {
    "name": "ipython",
    "version": 3
   },
   "file_extension": ".py",
   "mimetype": "text/x-python",
   "name": "python",
   "nbconvert_exporter": "python",
   "pygments_lexer": "ipython3",
   "version": "3.6.1"
  }
 },
 "nbformat": 4,
 "nbformat_minor": 2
}
