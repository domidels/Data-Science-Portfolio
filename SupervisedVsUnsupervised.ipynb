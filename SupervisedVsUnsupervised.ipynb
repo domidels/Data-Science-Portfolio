{
 "cells": [
  {
   "cell_type": "markdown",
   "metadata": {},
   "source": [
    "# Supervised and Unsupervised Learning"
   ]
  },
  {
   "cell_type": "markdown",
   "metadata": {
    "collapsed": true
   },
   "source": [
    "## Supervised Learning\n",
    "\n",
    "In supervised learning, we are given a data set and already know what our correct output should look like, having the idea that there is a relationship between the input and the output.\n",
    "\n",
    "Supervised learning problems are categorized into:\n",
    "* **Regression problem**: consists in predicting results within a continuous output.\n",
    "* **classification problem**: consists in predicting results in a discrete output (discrete categories). (Logistic Regression) \n"
   ]
  },
  {
   "cell_type": "markdown",
   "metadata": {},
   "source": [
    "**Example of regression problem**\n",
    "\n",
    "Given features about houses as the size, we try to predict their price. Price is function of the size and is a continuous output.\n",
    "\n",
    "**Example of classification problem**\n",
    "\n",
    "Given the features of a house, try to predict the house \"sells for more or less than the asking price.\" Here we are classifying the houses into two discrete categories."
   ]
  },
  {
   "cell_type": "markdown",
   "metadata": {},
   "source": [
    "### Techniques\n",
    "\n",
    "* Linear regression for regression problems.\n",
    "* Neural Network for both regression and classification\n",
    "* Random forest for classification and regression problems.\n",
    "* Support vector machines for classification problems.\n",
    "\n",
    "## Model Selection and Train/Validation/Test Sets\n",
    "\n",
    "\n",
    "A hypothesis may have a low error for the training examples but still be inaccurate (because of overfitting). Thus, to evaluate a hypothesis, given a dataset of training examples, we can split up the data into two sets: a training set and a test set. Typically, the training set consists of 70 % of your data and the test set is the remaining 30 %.\n",
    "\n",
    "The new procedure using these two sets is then:\n",
    "\n",
    "* Optimize the parameters using the training set.\n",
    "* Estimate the generalization error using the test set.\n",
    "\n",
    "One way to break down our dataset into the three sets is:\n",
    "\n",
    "* Training set: 60%\n",
    "* Cross validation set: 20%\n",
    "* Test set: 20%\n",
    "\n",
    "We can now calculate three separate error values for the three different sets using the following method:\n",
    "\n",
    "* Optimize the parameters using the training set.\n",
    "* Find with the least error using the cross validation set.\n",
    "* Estimate the generalisation error using the test set.\n",
    "\n",
    "\n",
    "## Unsupervised Learning"
   ]
  },
  {
   "cell_type": "markdown",
   "metadata": {},
   "source": [
    "In unsupervised learning, we are given little or no idea about what our results should look like. We can try clustering the data based on relationships among the variables or pick up...Clustering is a powerful way to explore data and find patterns. Unsupervised learning is very commonly used with large datasets where it isn't obvious how to start with supervised machine learning. In general, it's a good idea to try unsupervised learning to explore a dataset before trying to use supervised learning machine learning models.\n",
    "\n",
    "With unsupervised learning there is no feedback based on the prediction results.\n",
    "\n",
    "Example of clustering:\n",
    "\n",
    "* Clustering: Take a collection of 1,000,000 different persons, and find a way to automatically group these persons into groups that are somehow similar or related by different variables, such as location, roles, and so on.\n",
    "\n",
    "* Non-clustering: identifying individual voices and music from a mesh of sounds.\n",
    "\n",
    "### Techniques\n",
    "\n",
    "* k-means for clustering problems.\n",
    "* TODO"
   ]
  }
 ],
 "metadata": {
  "kernelspec": {
   "display_name": "Python 3",
   "language": "python",
   "name": "python3"
  },
  "language_info": {
   "codemirror_mode": {
    "name": "ipython",
    "version": 3
   },
   "file_extension": ".py",
   "mimetype": "text/x-python",
   "name": "python",
   "nbconvert_exporter": "python",
   "pygments_lexer": "ipython3",
   "version": "3.6.1"
  }
 },
 "nbformat": 4,
 "nbformat_minor": 2
}
