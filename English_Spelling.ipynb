{
 "cells": [
  {
   "cell_type": "markdown",
   "metadata": {},
   "source": [
    "# English"
   ]
  },
  {
   "cell_type": "markdown",
   "metadata": {},
   "source": [
    "Similarly, \"A high percentage get an A on the test\" likely means that very many get an A. On the other hand, \"A high percentage gets an A on the test\" means that a high percentage (say, 90 percent) on the test will get you an A.\n",
    "\n",
    "So, if I say, \"There is a number of reasons written on the paper,\" expect to see a figure such as 5, 12, or 67. If I say, \"There are a number of reasons written on the paper,\" expect to see the reasons themselves. \n",
    "\n",
    "**There is only a 10 percent** chance that the result is due to random chance. \n",
    "\n",
    "There **is** about 70% overlap between terms"
   ]
  }
 ],
 "metadata": {
  "kernelspec": {
   "display_name": "Python 3",
   "language": "python",
   "name": "python3"
  },
  "language_info": {
   "codemirror_mode": {
    "name": "ipython",
    "version": 3
   },
   "file_extension": ".py",
   "mimetype": "text/x-python",
   "name": "python",
   "nbconvert_exporter": "python",
   "pygments_lexer": "ipython3",
   "version": "3.6.1"
  }
 },
 "nbformat": 4,
 "nbformat_minor": 2
}
